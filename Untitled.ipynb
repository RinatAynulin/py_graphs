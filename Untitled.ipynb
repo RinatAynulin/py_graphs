{
 "cells": [
  {
   "cell_type": "code",
   "execution_count": 3,
   "metadata": {
    "collapsed": false
   },
   "outputs": [],
   "source": [
    "import operator\n",
    "import unittest\n",
    "\n",
    "from sklearn.cluster import AgglomerativeClustering\n",
    "from sklearn.metrics import adjusted_rand_score\n",
    "\n",
    "from graphs import datasets\n",
    "from measure.kernel import *\n",
    "from measure.shortcuts import *"
   ]
  },
  {
   "cell_type": "code",
   "execution_count": null,
   "metadata": {
    "collapsed": false,
    "scrolled": false
   },
   "outputs": [
    {
     "name": "stdout",
     "output_type": "stream",
     "text": [
      "pWalk H\t0.98\t0.9074558337350648\n",
      "Error in Walk H 0.0\n"
     ]
    },
    {
     "name": "stderr",
     "output_type": "stream",
     "text": [
      "C:\\Users\\illusionww\\Documents\\GitHub\\py_graphs\\measure\\shortcuts.py:17: RuntimeWarning: divide by zero encountered in log\n",
      "  return np.log(H0)\n",
      "C:\\Users\\illusionww\\Anaconda3\\lib\\site-packages\\numpy\\core\\_methods.py:59: RuntimeWarning: Mean of empty slice.\n",
      "  warnings.warn(\"Mean of empty slice.\", RuntimeWarning)\n",
      "C:\\Users\\illusionww\\Anaconda3\\lib\\site-packages\\numpy\\core\\_methods.py:70: RuntimeWarning: invalid value encountered in double_scalars\n",
      "  ret = ret.dtype.type(ret / rcount)\n"
     ]
    },
    {
     "name": "stdout",
     "output_type": "stream",
     "text": [
      "Walk H\t0.98\t0.9074558337350648\n"
     ]
    },
    {
     "name": "stderr",
     "output_type": "stream",
     "text": [
      "C:\\Users\\illusionww\\Documents\\GitHub\\py_graphs\\measure\\scale.py:35: RuntimeWarning: divide by zero encountered in double_scalars\n",
      "  return 0.5 * t / (1.0 - t)\n",
      "C:\\Users\\illusionww\\Documents\\GitHub\\py_graphs\\measure\\kernel.py:65: RuntimeWarning: invalid value encountered in multiply\n",
      "  return np.linalg.pinv(np.eye(size) + t * getL(A))\n"
     ]
    },
    {
     "name": "stdout",
     "output_type": "stream",
     "text": [
      "Error in For H 1.0\n",
      "For H\t0.33\t0.8966500097910517\n",
      "Error in logFor H 0.0\n",
      "Error in logFor H 1.0\n",
      "logFor H\t0.51\t0.8893431553253587\n",
      "SCT H\t0.02\t0.8966500097910517\n",
      "SCCT H\t0.33\t0.9063341575567592\n",
      "Error in RSP K 0.0\n",
      "Error in RSP K 0.01\n",
      "Error in RSP K 0.02\n",
      "Error in RSP K 0.03\n",
      "Error in RSP K 0.04\n",
      "Error in RSP K 0.05\n",
      "Error in RSP K 0.06\n",
      "Error in RSP K 0.07\n",
      "Error in RSP K 0.08\n",
      "Error in RSP K 0.09\n",
      "Error in RSP K 0.1\n",
      "Error in RSP K 0.11\n"
     ]
    },
    {
     "name": "stderr",
     "output_type": "stream",
     "text": [
      "C:\\Users\\illusionww\\Documents\\GitHub\\py_graphs\\measure\\scale.py:41: RuntimeWarning: divide by zero encountered in double_scalars\n",
      "  return (1.0 - beta) / beta\n",
      "C:\\Users\\illusionww\\Documents\\GitHub\\py_graphs\\measure\\distance.py:88: RuntimeWarning: invalid value encountered in multiply\n",
      "  W = Pref * np.exp(-beta * C)\n",
      "C:\\Users\\illusionww\\Documents\\GitHub\\py_graphs\\measure\\distance.py:90: RuntimeWarning: divide by zero encountered in true_divide\n",
      "  S = (Z.dot(C * W).dot(Z)) / Z\n",
      "C:\\Users\\illusionww\\Documents\\GitHub\\py_graphs\\measure\\distance.py:92: RuntimeWarning: invalid value encountered in add\n",
      "  Δ_RSP = 0.5 * (C_ + C_.transpose())\n"
     ]
    }
   ],
   "source": [
    "graphs, info = datasets.football\n",
    "for measure in [pWalk_H(), Walk_H(), For_H(), logFor_H(),\n",
    "                #Comm_H(), logComm_H(), Heat_H(), logHeat_H(),\n",
    "                SCT_H(), SCCT_H(), RSP_K(), FE_K(), SPCT_H()]:\n",
    "    measureparamdict = {}\n",
    "    for param in np.linspace(0, 1, 101):\n",
    "        mean = []\n",
    "        for edges, nodes in graphs:\n",
    "            try:\n",
    "                D = measure.getK(edges, measure.scale().calc(edges, param))\n",
    "                ward = AgglomerativeClustering(n_clusters=len(list(set(graphs[0][1]))))\n",
    "                y_pred = ward.fit_predict(D)\n",
    "                ari = adjusted_rand_score(nodes, y_pred)\n",
    "                mean.append(ari)\n",
    "            except KeyboardInterrupt:\n",
    "                raise KeyboardInterrupt()\n",
    "            except:\n",
    "                print('Error in {} {}'.format(measure.name, param))\n",
    "        mean = [m for m in mean if m is not None and m == m]\n",
    "        score = np.array(mean).mean()\n",
    "        if score is not None and score == score:\n",
    "            measureparamdict[param] = score\n",
    "    maxparam = max(measureparamdict.items(), key=operator.itemgetter(1))[0]\n",
    "    print(\"{}\\t{}\\t{}\".format(measure.name, maxparam, measureparamdict[maxparam]))"
   ]
  },
  {
   "cell_type": "code",
   "execution_count": null,
   "metadata": {
    "collapsed": true
   },
   "outputs": [],
   "source": []
  }
 ],
 "metadata": {
  "anaconda-cloud": {},
  "kernelspec": {
   "display_name": "Python [default]",
   "language": "python",
   "name": "python3"
  },
  "language_info": {
   "codemirror_mode": {
    "name": "ipython",
    "version": 3
   },
   "file_extension": ".py",
   "mimetype": "text/x-python",
   "name": "python",
   "nbconvert_exporter": "python",
   "pygments_lexer": "ipython3",
   "version": "3.5.2"
  }
 },
 "nbformat": 4,
 "nbformat_minor": 1
}

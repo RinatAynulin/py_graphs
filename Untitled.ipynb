{
 "cells": [
  {
   "cell_type": "code",
   "execution_count": 1,
   "metadata": {
    "collapsed": false
   },
   "outputs": [],
   "source": [
    "import operator\n",
    "import unittest\n",
    "\n",
    "from sklearn.cluster import AgglomerativeClustering\n",
    "from sklearn.metrics import adjusted_rand_score\n",
    "\n",
    "from graphs import datasets\n",
    "from measure.kernel import *\n",
    "from measure.shortcuts import *\n",
    "\n",
    "from tqdm import tqdm_notebook\n",
    "import matplotlib.pyplot as plt\n",
    "%matplotlib inline"
   ]
  },
  {
   "cell_type": "code",
   "execution_count": 2,
   "metadata": {
    "collapsed": true
   },
   "outputs": [],
   "source": [
    "d3_category20 = [\n",
    "    '#aec7e8',\n",
    "    '#1f77b4',\n",
    "    '#ffbb78',\n",
    "    '#ff7f0e',\n",
    "    '#98df8a',\n",
    "    '#2ca02c',\n",
    "    '#ff9896',\n",
    "    '#d62728',\n",
    "    '#c5b0d5',\n",
    "    '#9467bd',\n",
    "    '#c49c94',\n",
    "    '#8c564b',\n",
    "    '#7f7f7f'\n",
    "] "
   ]
  },
  {
   "cell_type": "code",
   "execution_count": 3,
   "metadata": {
    "collapsed": true
   },
   "outputs": [],
   "source": [
    "def linspace(start, end, count):\n",
    "    count -= 4\n",
    "    grid = list(np.linspace(start, end, count))\n",
    "    step = (end - start) / (count - 1)\n",
    "    grid.extend([0.1 * step, 0.5 * step, end - 0.1 * step, end - 0.5 * step])\n",
    "    return grid"
   ]
  },
  {
   "cell_type": "code",
   "execution_count": 4,
   "metadata": {
    "collapsed": false,
    "scrolled": false
   },
   "outputs": [
    {
     "name": "stderr",
     "output_type": "stream",
     "text": [
      "Widget Javascript not detected.  It may not be installed properly. Did you enable the widgetsnbextension? If not, then run \"jupyter nbextension enable --py --sys-prefix widgetsnbextension\"\n"
     ]
    },
    {
     "name": "stdout",
     "output_type": "stream",
     "text": [
      "\n",
      "pWalk H\t0.98\t0.9074558337350648\n"
     ]
    },
    {
     "name": "stderr",
     "output_type": "stream",
     "text": [
      "Widget Javascript not detected.  It may not be installed properly. Did you enable the widgetsnbextension? If not, then run \"jupyter nbextension enable --py --sys-prefix widgetsnbextension\"\n",
      "C:\\Users\\illusionww\\Documents\\GitHub\\py_graphs\\measure\\shortcuts.py:17: RuntimeWarning: divide by zero encountered in log\n",
      "  return np.log(H0)\n"
     ]
    },
    {
     "name": "stdout",
     "output_type": "stream",
     "text": [
      "Error in Walk H 0.0\n"
     ]
    },
    {
     "name": "stderr",
     "output_type": "stream",
     "text": [
      "C:\\Users\\illusionww\\Anaconda3\\lib\\site-packages\\numpy\\core\\_methods.py:59: RuntimeWarning: Mean of empty slice.\n",
      "  warnings.warn(\"Mean of empty slice.\", RuntimeWarning)\n",
      "C:\\Users\\illusionww\\Anaconda3\\lib\\site-packages\\numpy\\core\\_methods.py:70: RuntimeWarning: invalid value encountered in double_scalars\n",
      "  ret = ret.dtype.type(ret / rcount)\n"
     ]
    },
    {
     "name": "stdout",
     "output_type": "stream",
     "text": [
      "\n",
      "Walk H\t0.98\t0.9074558337350648\n"
     ]
    },
    {
     "name": "stderr",
     "output_type": "stream",
     "text": [
      "Widget Javascript not detected.  It may not be installed properly. Did you enable the widgetsnbextension? If not, then run \"jupyter nbextension enable --py --sys-prefix widgetsnbextension\"\n",
      "C:\\Users\\illusionww\\Documents\\GitHub\\py_graphs\\measure\\scale.py:35: RuntimeWarning: divide by zero encountered in double_scalars\n",
      "  return 0.5 * t / (1.0 - t)\n",
      "C:\\Users\\illusionww\\Documents\\GitHub\\py_graphs\\measure\\kernel.py:65: RuntimeWarning: invalid value encountered in multiply\n",
      "  return np.linalg.pinv(np.eye(size) + t * getL(A))\n"
     ]
    },
    {
     "name": "stdout",
     "output_type": "stream",
     "text": [
      "Error in For H 1.0\n",
      "\n",
      "For H\t0.26\t0.8966500097910517\n"
     ]
    },
    {
     "name": "stderr",
     "output_type": "stream",
     "text": [
      "Widget Javascript not detected.  It may not be installed properly. Did you enable the widgetsnbextension? If not, then run \"jupyter nbextension enable --py --sys-prefix widgetsnbextension\"\n"
     ]
    },
    {
     "name": "stdout",
     "output_type": "stream",
     "text": [
      "Error in logFor H 0.0\n",
      "Error in logFor H 1.0\n",
      "\n",
      "logFor H\t0.998\t0.8966500097910517\n"
     ]
    },
    {
     "name": "stderr",
     "output_type": "stream",
     "text": [
      "Widget Javascript not detected.  It may not be installed properly. Did you enable the widgetsnbextension? If not, then run \"jupyter nbextension enable --py --sys-prefix widgetsnbextension\"\n"
     ]
    },
    {
     "name": "stdout",
     "output_type": "stream",
     "text": [
      "Error in Comm H 1.0\n",
      "Error in Comm H 0.998\n",
      "Error in Comm H 0.99\n",
      "\n",
      "Comm H\t0.62\t0.9093770881518908\n"
     ]
    },
    {
     "name": "stderr",
     "output_type": "stream",
     "text": [
      "Widget Javascript not detected.  It may not be installed properly. Did you enable the widgetsnbextension? If not, then run \"jupyter nbextension enable --py --sys-prefix widgetsnbextension\"\n"
     ]
    },
    {
     "name": "stdout",
     "output_type": "stream",
     "text": [
      "Error in logComm H 0.0\n",
      "Error in logComm H 1.0\n",
      "Error in logComm H 0.998\n",
      "Error in logComm H 0.99\n",
      "\n",
      "logComm H\t0.62\t0.9034652677498158\n"
     ]
    },
    {
     "name": "stderr",
     "output_type": "stream",
     "text": [
      "Widget Javascript not detected.  It may not be installed properly. Did you enable the widgetsnbextension? If not, then run \"jupyter nbextension enable --py --sys-prefix widgetsnbextension\"\n",
      "C:\\Users\\illusionww\\Documents\\GitHub\\py_graphs\\measure\\kernel.py:108: RuntimeWarning: invalid value encountered in multiply\n",
      "  return expm(-t * getL(A))\n"
     ]
    },
    {
     "name": "stdout",
     "output_type": "stream",
     "text": [
      "Error in Heat H 1.0\n",
      "\n",
      "Heat H\t0.26\t0.8966500097910517\n"
     ]
    },
    {
     "name": "stderr",
     "output_type": "stream",
     "text": [
      "Widget Javascript not detected.  It may not be installed properly. Did you enable the widgetsnbextension? If not, then run \"jupyter nbextension enable --py --sys-prefix widgetsnbextension\"\n"
     ]
    },
    {
     "name": "stdout",
     "output_type": "stream",
     "text": [
      "Error in logHeat H 0.0\n",
      "Error in logHeat H 1.0\n",
      "\n",
      "logHeat H\t0.06\t0.8893431553253587\n"
     ]
    },
    {
     "name": "stderr",
     "output_type": "stream",
     "text": [
      "Widget Javascript not detected.  It may not be installed properly. Did you enable the widgetsnbextension? If not, then run \"jupyter nbextension enable --py --sys-prefix widgetsnbextension\"\n"
     ]
    },
    {
     "name": "stdout",
     "output_type": "stream",
     "text": [
      "\n",
      "SCT H\t0.06\t0.8966500097910517\n"
     ]
    },
    {
     "name": "stderr",
     "output_type": "stream",
     "text": [
      "Widget Javascript not detected.  It may not be installed properly. Did you enable the widgetsnbextension? If not, then run \"jupyter nbextension enable --py --sys-prefix widgetsnbextension\"\n"
     ]
    },
    {
     "name": "stdout",
     "output_type": "stream",
     "text": [
      "\n",
      "SCCT H\t0.06\t0.8968292342037767\n"
     ]
    },
    {
     "name": "stderr",
     "output_type": "stream",
     "text": [
      "Widget Javascript not detected.  It may not be installed properly. Did you enable the widgetsnbextension? If not, then run \"jupyter nbextension enable --py --sys-prefix widgetsnbextension\"\n",
      "C:\\Users\\illusionww\\Documents\\GitHub\\py_graphs\\measure\\scale.py:41: RuntimeWarning: divide by zero encountered in double_scalars\n",
      "  return (1.0 - beta) / beta\n",
      "C:\\Users\\illusionww\\Documents\\GitHub\\py_graphs\\measure\\distance.py:88: RuntimeWarning: invalid value encountered in multiply\n",
      "  W = Pref * np.exp(-beta * C)\n"
     ]
    },
    {
     "name": "stdout",
     "output_type": "stream",
     "text": [
      "Error in RSP K 0.0\n"
     ]
    },
    {
     "name": "stderr",
     "output_type": "stream",
     "text": [
      "C:\\Users\\illusionww\\Documents\\GitHub\\py_graphs\\measure\\distance.py:90: RuntimeWarning: divide by zero encountered in true_divide\n",
      "  S = (Z.dot(C * W).dot(Z)) / Z\n"
     ]
    },
    {
     "name": "stdout",
     "output_type": "stream",
     "text": [
      "Error in RSP K 0.02\n",
      "Error in RSP K 0.04\n",
      "Error in RSP K 0.06\n",
      "Error in RSP K 0.08\n",
      "Error in RSP K 0.1\n"
     ]
    },
    {
     "name": "stderr",
     "output_type": "stream",
     "text": [
      "C:\\Users\\illusionww\\Documents\\GitHub\\py_graphs\\measure\\distance.py:90: RuntimeWarning: invalid value encountered in true_divide\n",
      "  S = (Z.dot(C * W).dot(Z)) / Z\n",
      "C:\\Users\\illusionww\\Documents\\GitHub\\py_graphs\\measure\\distance.py:92: RuntimeWarning: invalid value encountered in add\n",
      "  Δ_RSP = 0.5 * (C_ + C_.transpose())\n"
     ]
    },
    {
     "name": "stdout",
     "output_type": "stream",
     "text": [
      "Error in RSP K 0.002\n",
      "Error in RSP K 0.01\n",
      "\n",
      "RSP K\t0.14\t0.8893431553253587\n"
     ]
    },
    {
     "name": "stderr",
     "output_type": "stream",
     "text": [
      "Widget Javascript not detected.  It may not be installed properly. Did you enable the widgetsnbextension? If not, then run \"jupyter nbextension enable --py --sys-prefix widgetsnbextension\"\n",
      "C:\\Users\\illusionww\\Documents\\GitHub\\py_graphs\\measure\\distance.py:112: RuntimeWarning: invalid value encountered in multiply\n",
      "  W = Pref * np.exp(-beta * C)\n"
     ]
    },
    {
     "name": "stdout",
     "output_type": "stream",
     "text": [
      "Error in FE K 0.0\n"
     ]
    },
    {
     "name": "stderr",
     "output_type": "stream",
     "text": [
      "C:\\Users\\illusionww\\Documents\\GitHub\\py_graphs\\measure\\distance.py:116: RuntimeWarning: divide by zero encountered in log\n",
      "  Φ = np.log(Zh) / -beta\n",
      "C:\\Users\\illusionww\\Documents\\GitHub\\py_graphs\\measure\\distance.py:116: RuntimeWarning: invalid value encountered in log\n",
      "  Φ = np.log(Zh) / -beta\n"
     ]
    },
    {
     "name": "stdout",
     "output_type": "stream",
     "text": [
      "Error in FE K 0.02\n",
      "Error in FE K 0.04\n",
      "Error in FE K 0.06\n",
      "Error in FE K 0.08\n",
      "Error in FE K 0.1\n",
      "Error in FE K 0.12\n"
     ]
    },
    {
     "name": "stderr",
     "output_type": "stream",
     "text": [
      "C:\\Users\\illusionww\\Documents\\GitHub\\py_graphs\\measure\\distance.py:116: RuntimeWarning: divide by zero encountered in true_divide\n",
      "  Φ = np.log(Zh) / -beta\n",
      "C:\\Users\\illusionww\\Documents\\GitHub\\py_graphs\\measure\\distance.py:116: RuntimeWarning: invalid value encountered in true_divide\n",
      "  Φ = np.log(Zh) / -beta\n",
      "C:\\Users\\illusionww\\Documents\\GitHub\\py_graphs\\measure\\distance.py:118: RuntimeWarning: invalid value encountered in subtract\n",
      "  return Δ_FE - np.diag(np.diag(Δ_FE))\n"
     ]
    },
    {
     "name": "stdout",
     "output_type": "stream",
     "text": [
      "Error in FE K 1.0\n",
      "Error in FE K 0.002\n",
      "Error in FE K 0.01\n",
      "\n",
      "FE K\t0.14\t0.8893431553253587\n"
     ]
    },
    {
     "name": "stderr",
     "output_type": "stream",
     "text": [
      "Widget Javascript not detected.  It may not be installed properly. Did you enable the widgetsnbextension? If not, then run \"jupyter nbextension enable --py --sys-prefix widgetsnbextension\"\n"
     ]
    },
    {
     "name": "stdout",
     "output_type": "stream",
     "text": [
      "\n",
      "SP-CT H\t1.0\t0.8966500097910517\n"
     ]
    },
    {
     "data": {
      "text/plain": [
       "(0.8, 0.93)"
      ]
     },
     "execution_count": 4,
     "metadata": {},
     "output_type": "execute_result"
    },
    {
     "data": {
      "image/png": "[encoded data removed]",
      "text/plain": [
       "<matplotlib.figure.Figure at 0x22453dc3da0>"
      ]
     },
     "metadata": {},
     "output_type": "display_data"
    }
   ],
   "source": [
    "fig, ax = plt.subplots(1, figsize=(5,3.5))\n",
    "\n",
    "graphs, info = datasets.football\n",
    "for m_num, measure in enumerate([\n",
    "        pWalk_H(), Walk_H(),\n",
    "        For_H(), logFor_H(),\n",
    "        Comm_H(), logComm_H(), Heat_H(), logHeat_H(),\n",
    "        SCT_H(), SCCT_H(),\n",
    "        RSP_K(), FE_K(),\n",
    "        SPCT_H()\n",
    "    ]):\n",
    "    measureparamdict = {}\n",
    "    for param in tqdm_notebook(linspace(0, 1, 55)):\n",
    "        mean = []\n",
    "        for edges, nodes in graphs:\n",
    "            try:\n",
    "                D = measure.getK(edges, measure.scale().calc(edges, param))\n",
    "                ward = AgglomerativeClustering(n_clusters=len(list(set(graphs[0][1]))))\n",
    "                y_pred = ward.fit_predict(D)\n",
    "                ari = adjusted_rand_score(nodes, y_pred)\n",
    "                mean.append(ari)\n",
    "            except KeyboardInterrupt:\n",
    "                raise KeyboardInterrupt()\n",
    "            except:\n",
    "                print('Error in {} {}'.format(measure.name, param))\n",
    "        mean = [m for m in mean if m is not None and m == m]\n",
    "        score = np.array(mean).mean()\n",
    "        if score is not None and score == score:\n",
    "            measureparamdict[param] = score\n",
    "    maxparam = max(measureparamdict.items(), key=operator.itemgetter(1))[0]\n",
    "    print(\"{}\\t{}\\t{}\".format(measure.name, maxparam, measureparamdict[maxparam]))\n",
    "    measureparamdict = np.array(sorted(measureparamdict.items(), key=operator.itemgetter(1), reverse=True))\n",
    "    measureparamdict[:, 0]\n",
    "    plt.plot(range(measureparamdict.shape[0]), measureparamdict[:, 1], color=d3_category20[m_num], label=measure.name, linewidth=2)\n",
    "plt.xlim(0, 55)\n",
    "plt.ylim(0.8, 0.93)"
   ]
  },
  {
   "cell_type": "code",
   "execution_count": null,
   "metadata": {
    "collapsed": true
   },
   "outputs": [],
   "source": []
  },
  {
   "cell_type": "code",
   "execution_count": null,
   "metadata": {
    "collapsed": true
   },
   "outputs": [],
   "source": []
  },
  {
   "cell_type": "code",
   "execution_count": null,
   "metadata": {
    "collapsed": true
   },
   "outputs": [],
   "source": []
  }
 ],
 "metadata": {
  "anaconda-cloud": {},
  "kernelspec": {
   "display_name": "Python [default]",
   "language": "python",
   "name": "python3"
  },
  "language_info": {
   "codemirror_mode": {
    "name": "ipython",
    "version": 3
   },
   "file_extension": ".py",
   "mimetype": "text/x-python",
   "name": "python",
   "nbconvert_exporter": "python",
   "pygments_lexer": "ipython3",
   "version": "3.5.2"
  },
  "widgets": {
   "state": {
    "00a890bde5ba431a8ce410800e63304f": {
     "views": [
      {
       "cell_index": 2
      }
     ]
    },
    "024933bdf2944813a059a2c807d0cf44": {
     "views": [
      {
       "cell_index": 2
      }
     ]
    },
    "03571877ac6f470192dbb29c52c0b369": {
     "views": [
      {
       "cell_index": 3
      }
     ]
    },
    "0362f4a9d4354ae7be691cfc59b97f01": {
     "views": [
      {
       "cell_index": 2
      }
     ]
    },
    "03931591f55045d4b07e555794485b10": {
     "views": [
      {
       "cell_index": 2
      }
     ]
    },
    "057b049d33b845ef9578cabe89d2273f": {
     "views": [
      {
       "cell_index": 2
      }
     ]
    },
    "06426e6a4f3f437388c373832d4e1f4a": {
     "views": [
      {
       "cell_index": 2
      }
     ]
    },
    "06cb1279051147588d65a2b230ee3521": {
     "views": [
      {
       "cell_index": 1
      }
     ]
    },
    "075f712427e7412d974d2c75b1315b6b": {
     "views": [
      {
       "cell_index": 2
      }
     ]
    },
    "0d52ddd39b4944099b713216ad0e6693": {
     "views": [
      {
       "cell_index": 2
      }
     ]
    },
    "0defe82621774b7cbe91a9a818ff135c": {
     "views": [
      {
       "cell_index": 1
      }
     ]
    },
    "121bdb3a132b4b54a2a61e7fd383eed5": {
     "views": [
      {
       "cell_index": 2
      }
     ]
    },
    "13a584737e7c47b18f3b1924edd6c1d2": {
     "views": [
      {
       "cell_index": 2
      }
     ]
    },
    "1413b706d8de48e893646d144263f324": {
     "views": [
      {
       "cell_index": 3
      }
     ]
    },
    "1511028237b24791b3c6c48573483656": {
     "views": [
      {
       "cell_index": 1
      }
     ]
    },
    "153e115d4e9d4131b840a3513af39db2": {
     "views": [
      {
       "cell_index": 2
      }
     ]
    },
    "1609cf52fa3b4542ae72f32ab472bccf": {
     "views": [
      {
       "cell_index": 2
      }
     ]
    },
    "1647abe246ea4ff1bc02df82292f0cdd": {
     "views": [
      {
       "cell_index": 3
      }
     ]
    },
    "1709dcc30c5742f9bc44e1f15870a109": {
     "views": [
      {
       "cell_index": 1
      }
     ]
    },
    "183d5e55061a40a688dcb93f81b466ff": {
     "views": [
      {
       "cell_index": 1
      }
     ]
    },
    "18d5021bdc5e40eebe9feec96043bc48": {
     "views": [
      {
       "cell_index": 2
      }
     ]
    },
    "190a910f067d49e4b6fab6e2cbdcc3c8": {
     "views": [
      {
       "cell_index": 2
      }
     ]
    },
    "1a32c45e3180475394be3b5a59b08ecf": {
     "views": [
      {
       "cell_index": 2
      }
     ]
    },
    "1a621d6263df476f942bedbd8aed4504": {
     "views": [
      {
       "cell_index": 3
      }
     ]
    },
    "1d40adee71aa40538fb387be3065723d": {
     "views": [
      {
       "cell_index": 3
      }
     ]
    },
    "1e47f0baa76a41b0a492fafeb361ea43": {
     "views": [
      {
       "cell_index": 1
      }
     ]
    },
    "1f092b7bbd604aadb48c9e14c7c38e9f": {
     "views": [
      {
       "cell_index": 1
      }
     ]
    },
    "2071139910f84340bc14a018d529e923": {
     "views": [
      {
       "cell_index": 1
      }
     ]
    },
    "217b7d9cab054bacb8cfe538bd6dcbf7": {
     "views": [
      {
       "cell_index": 2
      }
     ]
    },
    "21b77522cbeb45e48b524f2f4282a727": {
     "views": [
      {
       "cell_index": 3
      }
     ]
    },
    "2235b02e1dfc4d5297ceb78b2b9a7251": {
     "views": [
      {
       "cell_index": 2
      }
     ]
    },
    "2297d29e8ab24ebc88a3071fe9c4bfaf": {
     "views": [
      {
       "cell_index": 1
      }
     ]
    },
    "22abf24e8ca241d79f02022b8738feb3": {
     "views": [
      {
       "cell_index": 2
      }
     ]
    },
    "237eee59c21d4965827861999d4b1db9": {
     "views": [
      {
       "cell_index": 2
      }
     ]
    },
    "24c9d0d236924fea9e7db65578668e8f": {
     "views": [
      {
       "cell_index": 2
      }
     ]
    },
    "25cd0692709b49f4bc1ce1b6a64bc94e": {
     "views": [
      {
       "cell_index": 1
      }
     ]
    },
    "26167e5928954fdf8afec2f74e4a80d4": {
     "views": [
      {
       "cell_index": 2
      }
     ]
    },
    "28da676fcfcd4c16ad46d25417480645": {
     "views": [
      {
       "cell_index": 2
      }
     ]
    },
    "28daf9316eb043c7bcbc54d0354eaf42": {
     "views": [
      {
       "cell_index": 1
      }
     ]
    },
    "28dc249fc3834e509183f92b1c9ec75a": {
     "views": [
      {
       "cell_index": 2
      }
     ]
    },
    "28e96b6f9e354bd7b8e3f7d1540a1763": {
     "views": [
      {
       "cell_index": 2
      }
     ]
    },
    "2ba17b7a773543a496a39e857798e1fa": {
     "views": [
      {
       "cell_index": 3
      }
     ]
    },
    "2ced832fe8d747d7915bc20e730442b5": {
     "views": [
      {
       "cell_index": 3
      }
     ]
    },
    "2dd2f469610f4fa6bd05cc4054314848": {
     "views": [
      {
       "cell_index": 2
      }
     ]
    },
    "2e90845a34e245048227a63eb37e10c5": {
     "views": [
      {
       "cell_index": 2
      }
     ]
    },
    "2f90a87618d3400cb8c4402992c93a05": {
     "views": [
      {
       "cell_index": 3
      }
     ]
    },
    "310e8927fc414c0aa4410f4cb80b0f1f": {
     "views": [
      {
       "cell_index": 1
      }
     ]
    },
    "3190eac444e748e997b8cdf4d412b044": {
     "views": [
      {
       "cell_index": 2
      }
     ]
    },
    "31afabd7b52d494dac816bc827ca3fc7": {
     "views": [
      {
       "cell_index": 2
      }
     ]
    },
    "32724a31ef0f45bea26331f9f7135356": {
     "views": [
      {
       "cell_index": 2
      }
     ]
    },
    "3481568c967442b099ba3d6bf5937263": {
     "views": [
      {
       "cell_index": 2
      }
     ]
    },
    "35a5be1d27894ca1ad6b76be8eb3de58": {
     "views": [
      {
       "cell_index": 3
      }
     ]
    },
    "35c9ee9e69e249cfbe7c883bdda1dd9f": {
     "views": [
      {
       "cell_index": 2
      }
     ]
    },
    "36a31b9c92cb4898a1e36477eaed3f32": {
     "views": [
      {
       "cell_index": 2
      }
     ]
    },
    "36af6a2a9f624c55b06a7e2fab4777a7": {
     "views": [
      {
       "cell_index": 2
      }
     ]
    },
    "36ee94e9169341148674ec355246dabb": {
     "views": [
      {
       "cell_index": 2
      }
     ]
    },
    "375383b268bb4608bf83213a3736a30f": {
     "views": [
      {
       "cell_index": 2
      }
     ]
    },
    "378172a8a59d4fc896e480de78b4d645": {
     "views": [
      {
       "cell_index": 3
      }
     ]
    },
    "37a09c05852a477ea87b4c036788d85d": {
     "views": [
      {
       "cell_index": 2
      }
     ]
    },
    "3934e52e1e7d4f49a1fa345102496ceb": {
     "views": [
      {
       "cell_index": 3
      }
     ]
    },
    "3a61fbdbf3af4b9c9716c5783070f55d": {
     "views": [
      {
       "cell_index": 1
      }
     ]
    },
    "3b8e3c5aa36046a4bca7b1358f80b35c": {
     "views": [
      {
       "cell_index": 1
      }
     ]
    },
    "3bc6e4eb0170480594242bb4650dc4d5": {
     "views": [
      {
       "cell_index": 2
      }
     ]
    },
    "3f584340b44746d7a83deed58ddaa58c": {
     "views": [
      {
       "cell_index": 1
      }
     ]
    },
    "405a5458e57849e586eb3483ad95f261": {
     "views": [
      {
       "cell_index": 2
      }
     ]
    },
    "41ab61d145c94cbe986c392e31ca4690": {
     "views": [
      {
       "cell_index": 2
      }
     ]
    },
    "4267fc30d4864acb870c9759bd3fa01c": {
     "views": [
      {
       "cell_index": 2
      }
     ]
    },
    "4283454cfe8e455bbe21cae7086c3bad": {
     "views": [
      {
       "cell_index": 1
      }
     ]
    },
    "42eca4c88cf94c0cbd26eff45e80871a": {
     "views": [
      {
       "cell_index": 2
      }
     ]
    },
    "44cbe2bb32ac46c0b3787d2416655c79": {
     "views": [
      {
       "cell_index": 2
      }
     ]
    },
    "452f08e2ab074ac18431d5a5b6c2fcde": {
     "views": [
      {
       "cell_index": 3
      }
     ]
    },
    "47c198f410b547329121dd2ba59d3676": {
     "views": [
      {
       "cell_index": 1
      }
     ]
    },
    "482b4e6148c14d58b2f67ec0f2d68b6e": {
     "views": [
      {
       "cell_index": 1
      }
     ]
    },
    "4a4d75db55c543e9ba045cb01d5ebdf9": {
     "views": [
      {
       "cell_index": 1
      }
     ]
    },
    "4a7113b8ccb5454ba594b688af306c2d": {
     "views": [
      {
       "cell_index": 2
      }
     ]
    },
    "4b96cd54a4e54550b5ac600ea84848af": {
     "views": [
      {
       "cell_index": 2
      }
     ]
    },
    "4fafd7f54fd8447da3069b578a60428f": {
     "views": [
      {
       "cell_index": 2
      }
     ]
    },
    "540c984aedb0406b9952b792dd1245b1": {
     "views": [
      {
       "cell_index": 2
      }
     ]
    },
    "567aae2d22534f7588da4a6d760b8b2b": {
     "views": [
      {
       "cell_index": 1
      }
     ]
    },
    "57a1dd63c8544acc9fc29fca7f4f2ab8": {
     "views": [
      {
       "cell_index": 2
      }
     ]
    },
    "57b9ea7862b64154833d5f491ca36e66": {
     "views": [
      {
       "cell_index": 2
      }
     ]
    },
    "59334767a26a44b19f9c394a16152427": {
     "views": [
      {
       "cell_index": 2
      }
     ]
    },
    "5b0a20f9a5504f84970c29d333e2e882": {
     "views": [
      {
       "cell_index": 2
      }
     ]
    },
    "5d7c7d161d4949e7a9f230cc02f8dd91": {
     "views": [
      {
       "cell_index": 2
      }
     ]
    },
    "5ef846ddd425492fa5707b2ea3368d3a": {
     "views": [
      {
       "cell_index": 2
      }
     ]
    },
    "5f5cb8e5475742dba58d38cceef4c512": {
     "views": [
      {
       "cell_index": 2
      }
     ]
    },
    "5fce95e26b7344c39fe3fa88d6ecdd67": {
     "views": [
      {
       "cell_index": 2
      }
     ]
    },
    "615afa0b8d8446adb9ec7d4ceb04c1a6": {
     "views": [
      {
       "cell_index": 3
      }
     ]
    },
    "643ef011ba964363893553b6ac23f44a": {
     "views": [
      {
       "cell_index": 1
      }
     ]
    },
    "646f26ca2487460a9ca9055abf1df3c4": {
     "views": [
      {
       "cell_index": 2
      }
     ]
    },
    "648290c4e97f40bbb933191564bc7c5b": {
     "views": [
      {
       "cell_index": 2
      }
     ]
    },
    "64ab502b5d7e425eb1d61f1e1c7bd5e5": {
     "views": [
      {
       "cell_index": 1
      }
     ]
    },
    "65371c94540d4693acb1c8b607bfaa71": {
     "views": [
      {
       "cell_index": 2
      }
     ]
    },
    "68ca1ea2d3994d338423db76e06051a6": {
     "views": [
      {
       "cell_index": 3
      }
     ]
    },
    "69cda2f6d3344b42a7195d67fb9aa5a5": {
     "views": [
      {
       "cell_index": 1
      }
     ]
    },
    "6ad693238d644ea3af312872113f0986": {
     "views": [
      {
       "cell_index": 2
      }
     ]
    },
    "6cc18f1a221a4e72bc46cb72f3bf00b0": {
     "views": [
      {
       "cell_index": 3
      }
     ]
    },
    "6d3eae887c5b4ed4afacf17bb0b3bb17": {
     "views": [
      {
       "cell_index": 2
      }
     ]
    },
    "6ec88c8d45d64847878f868b4d9cdb50": {
     "views": [
      {
       "cell_index": 1
      }
     ]
    },
    "70619d5b94e84488b12c4a1daf675315": {
     "views": [
      {
       "cell_index": 2
      }
     ]
    },
    "70c9c3d023bb4320bf47c91d34883e6b": {
     "views": [
      {
       "cell_index": 2
      }
     ]
    },
    "727d3906472e49a18837a91735ded26b": {
     "views": [
      {
       "cell_index": 2
      }
     ]
    },
    "72a1d43fd394476dbee7a1b20d25243b": {
     "views": [
      {
       "cell_index": 2
      }
     ]
    },
    "730eb6bef0bb4eaea0f7ed9e52915508": {
     "views": [
      {
       "cell_index": 1
      }
     ]
    },
    "734a09697faf4041a26c455b41caee62": {
     "views": [
      {
       "cell_index": 2
      }
     ]
    },
    "73906e6a22c44260aea80bce75e532b8": {
     "views": [
      {
       "cell_index": 2
      }
     ]
    },
    "743e47a1acf342e28907fdb8c115661f": {
     "views": [
      {
       "cell_index": 1
      }
     ]
    },
    "7801d4c31fe74180ab2f9582fd96552d": {
     "views": [
      {
       "cell_index": 1
      }
     ]
    },
    "7a3e59581af04a41965332d3ee80f0b5": {
     "views": [
      {
       "cell_index": 2
      }
     ]
    },
    "7ae96ada6f51403bafc29e8cd1c64bcc": {
     "views": [
      {
       "cell_index": 2
      }
     ]
    },
    "7b5ee4feb5df49839fa3e0f790fd40e4": {
     "views": [
      {
       "cell_index": 1
      }
     ]
    },
    "7c0c367f37074faa8e6ddbe4e6fa22d6": {
     "views": [
      {
       "cell_index": 2
      }
     ]
    },
    "7c2166741b0741c2aa800b6f85324484": {
     "views": [
      {
       "cell_index": 1
      }
     ]
    },
    "7c2f8401a2aa451389326ff8453f26e9": {
     "views": [
      {
       "cell_index": 1
      }
     ]
    },
    "7df70df80a1c404db8e5cd1dc40f4aab": {
     "views": [
      {
       "cell_index": 2
      }
     ]
    },
    "7ecd043458f64937abdf7585c9710d9c": {
     "views": [
      {
       "cell_index": 2
      }
     ]
    },
    "7f8041f18def49018ed3ddbb2d6c386e": {
     "views": [
      {
       "cell_index": 1
      }
     ]
    },
    "8025a482fb7a472aa2ebe7c1947a3c30": {
     "views": [
      {
       "cell_index": 2
      }
     ]
    },
    "8066c08de304422e9708be9437f43779": {
     "views": [
      {
       "cell_index": 2
      }
     ]
    },
    "8079c52cacb74bc2bb45528f0237e94b": {
     "views": [
      {
       "cell_index": 3
      }
     ]
    },
    "81d668f6fd274b7a85aa5b66d2814b3f": {
     "views": [
      {
       "cell_index": 1
      }
     ]
    },
    "81e93e9311bd4f0096e7a63b510586f8": {
     "views": [
      {
       "cell_index": 2
      }
     ]
    },
    "82ab31c57d5a4855947fe07328166a8b": {
     "views": [
      {
       "cell_index": 2
      }
     ]
    },
    "832b0cb99e3a42f4884eb3f19ccf433c": {
     "views": [
      {
       "cell_index": 3
      }
     ]
    },
    "83f329bb5c6e431f80fa4787b893fc5c": {
     "views": [
      {
       "cell_index": 1
      }
     ]
    },
    "8544b859b88242428aeb29421419a3e3": {
     "views": [
      {
       "cell_index": 2
      }
     ]
    },
    "8920c6286eda4529a231ca07e29a440b": {
     "views": [
      {
       "cell_index": 2
      }
     ]
    },
    "899316494379427c97648128bb1809e1": {
     "views": [
      {
       "cell_index": 2
      }
     ]
    },
    "8bbc5a79f5eb46eca4f025ad9af8dfff": {
     "views": [
      {
       "cell_index": 2
      }
     ]
    },
    "8c7811f548fd43c992ff3a94a1ccfb45": {
     "views": [
      {
       "cell_index": 2
      }
     ]
    },
    "8cc2af9b7c004510947efe442c4db202": {
     "views": [
      {
       "cell_index": 2
      }
     ]
    },
    "8fbc75ec4b92448eb3c898a305ea8460": {
     "views": [
      {
       "cell_index": 2
      }
     ]
    },
    "917d95918ff046d29f5c8cc77f6bec15": {
     "views": [
      {
       "cell_index": 2
      }
     ]
    },
    "924b25c0f5dd4df48c56f61f16d41720": {
     "views": [
      {
       "cell_index": 2
      }
     ]
    },
    "925475077d774dd7955b977cafb5ce77": {
     "views": [
      {
       "cell_index": 1
      }
     ]
    },
    "925dc95ed7df47ec940b9e06329b5507": {
     "views": [
      {
       "cell_index": 2
      }
     ]
    },
    "941bfc47213845c49e62fb8761427aeb": {
     "views": [
      {
       "cell_index": 2
      }
     ]
    },
    "9562277e3e5348aaa4984bfcc3e4ca39": {
     "views": [
      {
       "cell_index": 2
      }
     ]
    },
    "960a58b67f8e4cb5b881d054d8fd0066": {
     "views": [
      {
       "cell_index": 2
      }
     ]
    },
    "96225ddffd5e45488e23cb45426978fe": {
     "views": [
      {
       "cell_index": 2
      }
     ]
    },
    "9650ceb858cd4d90b9c7913cb2835f30": {
     "views": [
      {
       "cell_index": 1
      }
     ]
    },
    "96fa8dd2eefc44bf982931ec1fe3b8f0": {
     "views": [
      {
       "cell_index": 2
      }
     ]
    },
    "9712d6ebea05488e98a4bd47cad9067e": {
     "views": [
      {
       "cell_index": 2
      }
     ]
    },
    "97726f5e89a54aec8ee5cc43111be67a": {
     "views": [
      {
       "cell_index": 2
      }
     ]
    },
    "99017abfb05b4a719a1d2eaeacd07e5b": {
     "views": [
      {
       "cell_index": 1
      }
     ]
    },
    "9999d78444f5429b93c5d5976cc2c03f": {
     "views": [
      {
       "cell_index": 2
      }
     ]
    },
    "99ebb06d31ce45ea9e3e860efdcdeeea": {
     "views": [
      {
       "cell_index": 1
      }
     ]
    },
    "9a0a6997519948c48143cf144718a970": {
     "views": [
      {
       "cell_index": 2
      }
     ]
    },
    "9a38b2432aed473297a0d6d84a2d8728": {
     "views": [
      {
       "cell_index": 1
      }
     ]
    },
    "9ac80e3aa5374218ad6b77e33051ddc2": {
     "views": [
      {
       "cell_index": 1
      }
     ]
    },
    "9bcd802500394a7c951bb7942b6384f7": {
     "views": [
      {
       "cell_index": 2
      }
     ]
    },
    "9d4b11e80a5e42f7a3c16963ea4b3e4a": {
     "views": [
      {
       "cell_index": 2
      }
     ]
    },
    "9d7c69b275044569a052932ebfd88ff9": {
     "views": [
      {
       "cell_index": 2
      }
     ]
    },
    "9dd7ad9f03eb400eb3c9f0483f2a7c25": {
     "views": [
      {
       "cell_index": 2
      }
     ]
    },
    "9f518f400be546acb9d4da210bfccd0b": {
     "views": [
      {
       "cell_index": 2
      }
     ]
    },
    "9f965fcfc8c04db1b56eade3f01ab6ad": {
     "views": [
      {
       "cell_index": 1
      }
     ]
    },
    "a0721d5c6c594760906b386e1930bf57": {
     "views": [
      {
       "cell_index": 3
      }
     ]
    },
    "a1896e36cc01480187d7860b8e6f1477": {
     "views": [
      {
       "cell_index": 2
      }
     ]
    },
    "a1e14a927dc94277881a32e162244f68": {
     "views": [
      {
       "cell_index": 2
      }
     ]
    },
    "a22db6980e8d4fa8b06cfecbd18fe596": {
     "views": [
      {
       "cell_index": 3
      }
     ]
    },
    "a3f02114ad734087baed6e6d3abb5d2d": {
     "views": [
      {
       "cell_index": 2
      }
     ]
    },
    "a41d48c3e84f43a9a59e8232e173e0ed": {
     "views": [
      {
       "cell_index": 2
      }
     ]
    },
    "a5abcbf05bc44a9c8ea0d45800f6782f": {
     "views": [
      {
       "cell_index": 2
      }
     ]
    },
    "a6a2f1735b954501818913f56f163d99": {
     "views": [
      {
       "cell_index": 2
      }
     ]
    },
    "a74a1a2aedb5416484d8ba91ac5d2443": {
     "views": [
      {
       "cell_index": 1
      }
     ]
    },
    "a7c8d35298ac4c45b7f6d6a91f3adec4": {
     "views": [
      {
       "cell_index": 2
      }
     ]
    },
    "a85c54da4d28415b958e871c9c5ada8c": {
     "views": [
      {
       "cell_index": 2
      }
     ]
    },
    "a8ceb81d280d410484668d021201fdd2": {
     "views": [
      {
       "cell_index": 2
      }
     ]
    },
    "a9317257fa7d443da758ae5c2314051e": {
     "views": [
      {
       "cell_index": 3
      }
     ]
    },
    "aaa38183b1db42d6a039f5cfc71a66e0": {
     "views": [
      {
       "cell_index": 2
      }
     ]
    },
    "aaf41c48cd42469885b17d9043c988b1": {
     "views": [
      {
       "cell_index": 1
      }
     ]
    },
    "ab84021c89054b2f865ffb4a372da4fb": {
     "views": [
      {
       "cell_index": 1
      }
     ]
    },
    "aba6eec7397a47d0baeec5854f627059": {
     "views": [
      {
       "cell_index": 3
      }
     ]
    },
    "ac3eddfb6d9846b3956290a1f727c38e": {
     "views": [
      {
       "cell_index": 2
      }
     ]
    },
    "ad42d89543804a7398e6a08944b3075e": {
     "views": [
      {
       "cell_index": 3
      }
     ]
    },
    "adbc06cb3c314f0098348656fdd98a6c": {
     "views": [
      {
       "cell_index": 2
      }
     ]
    },
    "ae305cb9956a458c80dc8bdc49d6ac05": {
     "views": [
      {
       "cell_index": 2
      }
     ]
    },
    "ae3c16dea2ad4b8ea1296b6a6c29a09d": {
     "views": [
      {
       "cell_index": 1
      }
     ]
    },
    "af53748f727845988780aaf807dd2423": {
     "views": [
      {
       "cell_index": 1
      }
     ]
    },
    "b354d33dc0934453be9e199abc8700ac": {
     "views": [
      {
       "cell_index": 1
      }
     ]
    },
    "b5e237582c65492e92e86c570bd959b4": {
     "views": [
      {
       "cell_index": 2
      }
     ]
    },
    "b6da3a1907904d32b6693afb58bcc876": {
     "views": [
      {
       "cell_index": 3
      }
     ]
    },
    "b8c5e450245e4e119c1aa17f96e181f7": {
     "views": [
      {
       "cell_index": 2
      }
     ]
    },
    "ba392174494141418c7f56654a2ab567": {
     "views": [
      {
       "cell_index": 1
      }
     ]
    },
    "ba711b303dec4afcad782b432ae1c9a3": {
     "views": [
      {
       "cell_index": 2
      }
     ]
    },
    "bb8328867de24313875dde94c17640dd": {
     "views": [
      {
       "cell_index": 2
      }
     ]
    },
    "bbea4223214d4d90b8ce28ea9fb7a78f": {
     "views": [
      {
       "cell_index": 2
      }
     ]
    },
    "bc8089041b96484da6f0117b25b26a0c": {
     "views": [
      {
       "cell_index": 2
      }
     ]
    },
    "bcf47921ab6c4887b5289e752868fcd2": {
     "views": [
      {
       "cell_index": 2
      }
     ]
    },
    "bd58c3e3ee5d4a5788643daffebe7d1f": {
     "views": [
      {
       "cell_index": 1
      }
     ]
    },
    "be532235b9f9422b8e2d687b96589c23": {
     "views": [
      {
       "cell_index": 3
      }
     ]
    },
    "beffaa6b7bcd49bd8ed6957eb09532a9": {
     "views": [
      {
       "cell_index": 1
      }
     ]
    },
    "bf8e8672a99247d182da0fd679783f93": {
     "views": [
      {
       "cell_index": 2
      }
     ]
    },
    "bf9075b6897d497cb2c3a5fd08a28179": {
     "views": [
      {
       "cell_index": 2
      }
     ]
    },
    "c1147b1b5e1c4ff69962d3dd8cc75c9f": {
     "views": [
      {
       "cell_index": 1
      }
     ]
    },
    "c14b2dbfcb184513bd6af3b680c5fd95": {
     "views": [
      {
       "cell_index": 3
      }
     ]
    },
    "c1941053debc48f9a6d804c02a10bb67": {
     "views": [
      {
       "cell_index": 2
      }
     ]
    },
    "c1bcc4c5a0604523b6a673fd3ab64ef1": {
     "views": [
      {
       "cell_index": 2
      }
     ]
    },
    "c2506b0f0c7b47b3b8d23a9641ee1415": {
     "views": [
      {
       "cell_index": 2
      }
     ]
    },
    "c3bcd45ebf544d5d93aadad3df2f7240": {
     "views": [
      {
       "cell_index": 2
      }
     ]
    },
    "c4340637c1e94ecba45f451bd322e1a4": {
     "views": [
      {
       "cell_index": 1
      }
     ]
    },
    "c45624a8db45430986328293eb734eed": {
     "views": [
      {
       "cell_index": 1
      }
     ]
    },
    "c49ad7add70244f89cdd96b979d13a63": {
     "views": [
      {
       "cell_index": 1
      }
     ]
    },
    "c50d4711c8ca432aa418ce5ada668647": {
     "views": [
      {
       "cell_index": 1
      }
     ]
    },
    "c549d1f44e314cf1920cfcebed58215d": {
     "views": [
      {
       "cell_index": 2
      }
     ]
    },
    "c63e88c5f0e34272af3e83765fdb2a86": {
     "views": [
      {
       "cell_index": 2
      }
     ]
    },
    "c7345e45e36f4de5b1756d98ff9489f6": {
     "views": [
      {
       "cell_index": 2
      }
     ]
    },
    "c751da015c074368b342d483e48ead63": {
     "views": [
      {
       "cell_index": 2
      }
     ]
    },
    "c8c930587d3444f1a85e443fce01c681": {
     "views": [
      {
       "cell_index": 2
      }
     ]
    },
    "c90715d7d25b4c37bdc7fa34c4a165ef": {
     "views": [
      {
       "cell_index": 2
      }
     ]
    },
    "cac4c196501443fbb5523cf10e27263d": {
     "views": [
      {
       "cell_index": 1
      }
     ]
    },
    "cade1b02898a4ec69b47a9cd350a8d54": {
     "views": [
      {
       "cell_index": 2
      }
     ]
    },
    "cafa471be0404958af12aa4fe1e59eed": {
     "views": [
      {
       "cell_index": 2
      }
     ]
    },
    "cc43500e46984108becdb013a1c5f1a4": {
     "views": [
      {
       "cell_index": 2
      }
     ]
    },
    "cce72d79281b462e9de1be90f896e9b1": {
     "views": [
      {
       "cell_index": 2
      }
     ]
    },
    "cd1a182d1a97477292ba207d1a41a52c": {
     "views": [
      {
       "cell_index": 1
      }
     ]
    },
    "cd6509cd542d4e98844f7b5bd1483139": {
     "views": [
      {
       "cell_index": 2
      }
     ]
    },
    "cdb14debfc0146a79553771ac8f7090b": {
     "views": [
      {
       "cell_index": 1
      }
     ]
    },
    "cf16c39260e94986b2d1583705c14b2f": {
     "views": [
      {
       "cell_index": 2
      }
     ]
    },
    "d257e7c58a1e477f8dad0da1cd6efc60": {
     "views": [
      {
       "cell_index": 2
      }
     ]
    },
    "d272c2aa3e9d4260b3208044d45b6557": {
     "views": [
      {
       "cell_index": 1
      }
     ]
    },
    "d3859810512d45ddabdb33b60e44bd6b": {
     "views": [
      {
       "cell_index": 2
      }
     ]
    },
    "d4710ce626284347b994aeff6cf84f55": {
     "views": [
      {
       "cell_index": 2
      }
     ]
    },
    "d4957c35087e46449c6345241f1658de": {
     "views": [
      {
       "cell_index": 1
      }
     ]
    },
    "d510c88a1f0244f3835c1eef80a512cd": {
     "views": [
      {
       "cell_index": 2
      }
     ]
    },
    "d64b532a707744778ced2435d8faa896": {
     "views": [
      {
       "cell_index": 1
      }
     ]
    },
    "d6a04bd3a115499cbbaa97c72bf0965e": {
     "views": [
      {
       "cell_index": 2
      }
     ]
    },
    "d7a7b5d420584ab4afb27fc4f0e9cd14": {
     "views": [
      {
       "cell_index": 2
      }
     ]
    },
    "d7c51b50d4f34332b65423ef7a1391a6": {
     "views": [
      {
       "cell_index": 2
      }
     ]
    },
    "d88e348f97e34bc885a496fdfea7d9ee": {
     "views": [
      {
       "cell_index": 1
      }
     ]
    },
    "d905ade8ec7b457094403daa14958431": {
     "views": [
      {
       "cell_index": 2
      }
     ]
    },
    "d91d638204d24af7bba249d26b0f32c4": {
     "views": [
      {
       "cell_index": 2
      }
     ]
    },
    "da16fd4e8c664a1b8f226b479396d8cf": {
     "views": [
      {
       "cell_index": 1
      }
     ]
    },
    "de12b4032b1c41e197115cde9c286d35": {
     "views": [
      {
       "cell_index": 2
      }
     ]
    },
    "e095f92d3b914517af7bfa0abae9c60d": {
     "views": [
      {
       "cell_index": 2
      }
     ]
    },
    "e578bc64eb1442d6a9bdb12ecce08731": {
     "views": [
      {
       "cell_index": 2
      }
     ]
    },
    "e5bcb9e0b5ee4bb895a9ded462109c53": {
     "views": [
      {
       "cell_index": 2
      }
     ]
    },
    "e5e235a981214d278661b365cb30e12d": {
     "views": [
      {
       "cell_index": 2
      }
     ]
    },
    "e5ff4651827e4e36838ef62f9ae0f4dd": {
     "views": [
      {
       "cell_index": 2
      }
     ]
    },
    "e63ca6d4a4db4f9ba694ec813c06ea39": {
     "views": [
      {
       "cell_index": 1
      }
     ]
    },
    "e787be87d23140f782195f6d62da1477": {
     "views": [
      {
       "cell_index": 2
      }
     ]
    },
    "e795010db1a84148b4125290040759b1": {
     "views": [
      {
       "cell_index": 3
      }
     ]
    },
    "e8e4b2f7a8f945c08b2ce68376aa9694": {
     "views": [
      {
       "cell_index": 3
      }
     ]
    },
    "e93e1efa6c8a4c27828009555eb746fb": {
     "views": [
      {
       "cell_index": 3
      }
     ]
    },
    "eac11eb222034c7780896491d043f937": {
     "views": [
      {
       "cell_index": 2
      }
     ]
    },
    "eba10c4a3e9944318353808fd0dc2e01": {
     "views": [
      {
       "cell_index": 2
      }
     ]
    },
    "ed6051211e1c4906b4e06ebce606e285": {
     "views": [
      {
       "cell_index": 1
      }
     ]
    },
    "ed8b784c99404938be47a6c15d39482e": {
     "views": [
      {
       "cell_index": 2
      }
     ]
    },
    "eda5b2ab1a5548d38e48fb35215c48e7": {
     "views": [
      {
       "cell_index": 2
      }
     ]
    },
    "ede62519e8724666b251e6dcc8c10207": {
     "views": [
      {
       "cell_index": 2
      }
     ]
    },
    "ee0862ecdf3e460f8a4fd6427496740f": {
     "views": [
      {
       "cell_index": 2
      }
     ]
    },
    "ee941b4d25684fd9a6fa7e2d6926892a": {
     "views": [
      {
       "cell_index": 1
      }
     ]
    },
    "f27c9d8b1a9c4d63b1c00602c2cf3278": {
     "views": [
      {
       "cell_index": 1
      }
     ]
    },
    "f361e3e1437440e2a5a17ba41413eb39": {
     "views": [
      {
       "cell_index": 2
      }
     ]
    },
    "f42ae0130d5341be8f7d24abefd9637b": {
     "views": [
      {
       "cell_index": 3
      }
     ]
    },
    "f46aebfa102442008cddc9f8ae69c4b9": {
     "views": [
      {
       "cell_index": 2
      }
     ]
    },
    "f47ec4c6067340a187f6e05c3a2d1dd9": {
     "views": [
      {
       "cell_index": 1
      }
     ]
    },
    "f58f6f3a14c84496897f10be8e7d6a55": {
     "views": [
      {
       "cell_index": 2
      }
     ]
    },
    "f682c708c8ea4880bef98d03c7f42a5a": {
     "views": [
      {
       "cell_index": 3
      }
     ]
    },
    "f6ae3a9c49f844a5aa6955cf9491dd17": {
     "views": [
      {
       "cell_index": 2
      }
     ]
    },
    "f7bb16782cae4595b40edc4b05f5d9e8": {
     "views": [
      {
       "cell_index": 1
      }
     ]
    },
    "f8e984ed614f4aefad34a6de752ce8f5": {
     "views": [
      {
       "cell_index": 1
      }
     ]
    },
    "f92de0f5a66d4181aa6e2ee3bea15b9b": {
     "views": [
      {
       "cell_index": 2
      }
     ]
    },
    "f9409aec410c4f7d8ea3091c6d78d2b1": {
     "views": [
      {
       "cell_index": 2
      }
     ]
    },
    "f9f3e7582a4a479089f38b2ad94a000a": {
     "views": [
      {
       "cell_index": 2
      }
     ]
    },
    "faa9af0b69e646cfb5b0d61258be82b3": {
     "views": [
      {
       "cell_index": 2
      }
     ]
    },
    "faed65fae6104303903ab6f0074330ee": {
     "views": [
      {
       "cell_index": 2
      }
     ]
    },
    "fb43e5f07bb04e9cb00c1835275cf7c5": {
     "views": [
      {
       "cell_index": 2
      }
     ]
    },
    "fbd1a92037254e96b0f9734625d1ee5d": {
     "views": [
      {
       "cell_index": 2
      }
     ]
    },
    "fcada69ebc664309a3f7c6f7a956f5dc": {
     "views": [
      {
       "cell_index": 1
      }
     ]
    },
    "fe4ceac834a64f94ad33c75fd1172407": {
     "views": [
      {
       "cell_index": 2
      }
     ]
    }
   },
   "version": "1.2.0"
  }
 },
 "nbformat": 4,
 "nbformat_minor": 1
}

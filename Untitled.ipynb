{
 "cells": [
  {
   "cell_type": "code",
   "execution_count": 1,
   "metadata": {
    "collapsed": false
   },
   "outputs": [],
   "source": [
    "import operator\n",
    "import unittest\n",
    "\n",
    "from sklearn.cluster import AgglomerativeClustering\n",
    "from sklearn.metrics import adjusted_rand_score\n",
    "\n",
    "from graphs import datasets\n",
    "from measure.distance import Distance\n",
    "from measure.shortcuts import *\n",
    "\n",
    "from tqdm import tqdm_notebook\n",
    "import matplotlib.pyplot as plt\n",
    "%matplotlib inline\n",
    "\n",
    "from scipy.cluster.hierarchy import fcluster, ward"
   ]
  },
  {
   "cell_type": "code",
   "execution_count": 2,
   "metadata": {
    "collapsed": true
   },
   "outputs": [],
   "source": [
    "d3_category20 = [\n",
    "    '#aec7e8',\n",
    "    '#1f77b4',\n",
    "    '#ffbb78',\n",
    "    '#ff7f0e',\n",
    "    '#98df8a',\n",
    "    '#2ca02c',\n",
    "    '#ff9896',\n",
    "    '#d62728',\n",
    "    '#c5b0d5',\n",
    "    '#9467bd',\n",
    "    '#c49c94',\n",
    "    '#8c564b',\n",
    "    '#7f7f7f'\n",
    "] "
   ]
  },
  {
   "cell_type": "code",
   "execution_count": 3,
   "metadata": {
    "collapsed": true
   },
   "outputs": [],
   "source": [
    "def linspace(start, end, count):\n",
    "    count -= 4\n",
    "    grid = list(np.linspace(start, end, count))\n",
    "    step = (end - start) / (count - 1)\n",
    "    grid.extend([0.1 * step, 0.5 * step, end - 0.1 * step, end - 0.5 * step])\n",
    "    return grid"
   ]
  },
  {
   "cell_type": "code",
   "execution_count": 9,
   "metadata": {
    "collapsed": false,
    "scrolled": false
   },
   "outputs": [
    {
     "name": "stdout",
     "output_type": "stream",
     "text": [
      "\n",
      "pWalk\t0.8\t0.033411575869392224\n"
     ]
    },
    {
     "name": "stderr",
     "output_type": "stream",
     "text": [
      "C:\\Users\\illusionww\\Documents\\GitHub\\py_graphs\\measure\\shortcuts.py:20: RuntimeWarning: divide by zero encountered in log\n",
      "  return np.log(H0)\n"
     ]
    },
    {
     "name": "stdout",
     "output_type": "stream",
     "text": [
      "Error in Walk 0.0 Linkage 'Z' contains negative counts.\n"
     ]
    },
    {
     "name": "stderr",
     "output_type": "stream",
     "text": [
      "C:\\Users\\illusionww\\Anaconda3\\lib\\site-packages\\numpy\\core\\_methods.py:59: RuntimeWarning: Mean of empty slice.\n",
      "  warnings.warn(\"Mean of empty slice.\", RuntimeWarning)\n",
      "C:\\Users\\illusionww\\Anaconda3\\lib\\site-packages\\numpy\\core\\_methods.py:70: RuntimeWarning: invalid value encountered in double_scalars\n",
      "  ret = ret.dtype.type(ret / rcount)\n"
     ]
    },
    {
     "name": "stdout",
     "output_type": "stream",
     "text": [
      "\n",
      "Walk\t0.14\t0.6074185463659147\n"
     ]
    },
    {
     "name": "stderr",
     "output_type": "stream",
     "text": [
      "C:\\Users\\illusionww\\Documents\\GitHub\\py_graphs\\measure\\scale.py:35: RuntimeWarning: divide by zero encountered in double_scalars\n",
      "  return 0.5 * t / (1.0 - t)\n",
      "C:\\Users\\illusionww\\Documents\\GitHub\\py_graphs\\measure\\kernel.py:65: RuntimeWarning: invalid value encountered in multiply\n",
      "  return np.linalg.pinv(np.eye(size) + t * getL(A))\n"
     ]
    },
    {
     "name": "stdout",
     "output_type": "stream",
     "text": [
      "Error in For 1.0 On entry to DLASCL parameter number 4 had an illegal value\n",
      "\n",
      "For\t0.22\t0.023240354329670143\n",
      "Error in logFor 0.0 Linkage 'Z' contains negative counts.\n",
      "Error in logFor 1.0 On entry to DLASCL parameter number 4 had an illegal value\n",
      "\n",
      "logFor\t0.04\t0.5614448296653604\n",
      "Error in Comm 1.0 'NoneType' object has no attribute 'shape'\n",
      "Error in Comm 0.998 'NoneType' object has no attribute 'shape'\n",
      "Error in Comm 0.99 'NoneType' object has no attribute 'shape'\n",
      "\n",
      "Comm\t0.26\t0.028142243237772677\n",
      "Error in logComm 0.0 Linkage 'Z' contains negative counts.\n",
      "Error in logComm 1.0 'NoneType' object has no attribute 'log'\n",
      "Error in logComm 0.998 'NoneType' object has no attribute 'log'\n",
      "Error in logComm 0.99 'NoneType' object has no attribute 'log'\n",
      "\n",
      "logComm\t0.96\t0.05193268620690427\n"
     ]
    },
    {
     "name": "stderr",
     "output_type": "stream",
     "text": [
      "C:\\Users\\illusionww\\Documents\\GitHub\\py_graphs\\measure\\kernel.py:108: RuntimeWarning: invalid value encountered in multiply\n",
      "  return expm(-t * getL(A))\n"
     ]
    },
    {
     "name": "stdout",
     "output_type": "stream",
     "text": [
      "Error in Heat 1.0 cannot convert float NaN to integer\n",
      "\n",
      "Heat\t0.14\t0.0177292542865473\n",
      "Error in logHeat 0.0 Linkage 'Z' contains negative counts.\n",
      "Error in logHeat 1.0 cannot convert float NaN to integer\n",
      "\n",
      "logHeat\t0.12\t0.09384005071294341\n",
      "\n",
      "SCT\t0.84\t0.8095226130653266\n",
      "\n",
      "SCCT\t0.9400000000000001\t0.883307567008149\n"
     ]
    },
    {
     "name": "stderr",
     "output_type": "stream",
     "text": [
      "C:\\Users\\illusionww\\Documents\\GitHub\\py_graphs\\measure\\scale.py:41: RuntimeWarning: divide by zero encountered in double_scalars\n",
      "  return (1.0 - beta) / beta\n",
      "C:\\Users\\illusionww\\Documents\\GitHub\\py_graphs\\measure\\distance.py:90: RuntimeWarning: invalid value encountered in multiply\n",
      "  W = Pref * np.exp(-beta * C)\n"
     ]
    },
    {
     "name": "stdout",
     "output_type": "stream",
     "text": [
      "Error in RSP 0.0 On entry to DLASCL parameter number 4 had an illegal value\n",
      "\n",
      "RSP\t0.66\t0.021848613164290546\n"
     ]
    },
    {
     "name": "stderr",
     "output_type": "stream",
     "text": [
      "C:\\Users\\illusionww\\Documents\\GitHub\\py_graphs\\measure\\distance.py:114: RuntimeWarning: invalid value encountered in multiply\n",
      "  W = Pref * np.exp(-beta * C)\n"
     ]
    },
    {
     "name": "stdout",
     "output_type": "stream",
     "text": [
      "Error in FE 0.0 On entry to DLASCL parameter number 4 had an illegal value\n"
     ]
    },
    {
     "name": "stderr",
     "output_type": "stream",
     "text": [
      "C:\\Users\\illusionww\\Documents\\GitHub\\py_graphs\\measure\\distance.py:118: RuntimeWarning: invalid value encountered in log\n",
      "  Φ = np.log(Zh) / -beta\n",
      "C:\\Users\\illusionww\\Documents\\GitHub\\py_graphs\\measure\\distance.py:118: RuntimeWarning: divide by zero encountered in true_divide\n",
      "  Φ = np.log(Zh) / -beta\n",
      "C:\\Users\\illusionww\\Documents\\GitHub\\py_graphs\\measure\\distance.py:118: RuntimeWarning: invalid value encountered in true_divide\n",
      "  Φ = np.log(Zh) / -beta\n",
      "C:\\Users\\illusionww\\Documents\\GitHub\\py_graphs\\measure\\distance.py:120: RuntimeWarning: invalid value encountered in subtract\n",
      "  return Δ_FE - np.diag(np.diag(Δ_FE))\n"
     ]
    },
    {
     "name": "stdout",
     "output_type": "stream",
     "text": [
      "Error in FE 1.0 Linkage 'Z' contains negative counts.\n",
      "Error in FE 0.002 Linkage 'Z' contains negative counts.\n",
      "\n",
      "FE\t0.88\t0.006549153670880975\n",
      "\n",
      "SP-CT\t0.76\t7.519543292909131e-07\n"
     ]
    },
    {
     "data": {
      "text/plain": [
       "(0.2, 1.02)"
      ]
     },
     "execution_count": 9,
     "metadata": {},
     "output_type": "execute_result"
    },
    {
     "data": {
      "image/png": "[encoded data removed]",
      "text/plain": [
       "<matplotlib.figure.Figure at 0x273dc0d5d68>"
      ]
     },
     "metadata": {},
     "output_type": "display_data"
    }
   ],
   "source": [
    "fig, ax = plt.subplots(1, figsize=(5,3.5))\n",
    "\n",
    "graphs, info = datasets.news_2cl_1\n",
    "for m_num, measure in enumerate(Distance.get_all()):\n",
    "    measureparamdict = {}\n",
    "    for param in tqdm_notebook(linspace(0, 1, 55)):\n",
    "        mean = []\n",
    "        for edges, nodes in graphs:\n",
    "            try:\n",
    "                D = measure.getD(edges, measure.scale().calc(edges, param))\n",
    "                n_clusters=len(list(set(nodes)))\n",
    "                Z = ward(D)\n",
    "                y_pred = fcluster(Z, n_clusters, criterion='maxclust')\n",
    "                ari = adjusted_rand_score(nodes, y_pred)\n",
    "                mean.append(ari)\n",
    "            except KeyboardInterrupt:\n",
    "                raise KeyboardInterrupt()\n",
    "            except Exception as e:\n",
    "                print('Error in {} {}'.format(measure.name, param), e)\n",
    "        mean = [m for m in mean if m is not None and m == m]\n",
    "        score = np.array(mean).mean()\n",
    "        if score is not None and score == score:\n",
    "            measureparamdict[param] = score\n",
    "    maxparam = max(measureparamdict.items(), key=operator.itemgetter(1))[0]\n",
    "    print(\"{}\\t{}\\t{}\".format(measure.name, maxparam, measureparamdict[maxparam]))\n",
    "    measureparamdict = np.array(sorted(measureparamdict.items(), key=operator.itemgetter(1), reverse=True))\n",
    "    measureparamdict[:, 0]\n",
    "    plt.plot(range(measureparamdict.shape[0]), measureparamdict[:, 1], color=d3_category20[m_num], label=measure.name, linewidth=2)\n",
    "plt.xlim(0, 55)\n",
    "plt.ylim(0.2, 1.02)"
   ]
  },
  {
   "cell_type": "code",
   "execution_count": 5,
   "metadata": {
    "collapsed": false
   },
   "outputs": [],
   "source": [
    "linkage = ward(D)"
   ]
  },
  {
   "cell_type": "code",
   "execution_count": 6,
   "metadata": {
    "collapsed": false
   },
   "outputs": [
    {
     "data": {
      "text/plain": [
       "array([[   8.        ,   12.        ,    0.85486416,    2.        ],\n",
       "       [  73.        ,   84.        ,    0.935534  ,    2.        ],\n",
       "       [  66.        ,   72.        ,    1.02882304,    2.        ],\n",
       "       [  40.        ,   47.        ,    1.07363252,    2.        ],\n",
       "       [  74.        ,   75.        ,    1.19261339,    2.        ],\n",
       "       [  30.        ,  107.        ,    1.2435974 ,    3.        ],\n",
       "       [   3.        ,  105.        ,    1.25993853,    3.        ],\n",
       "       [  71.        ,  109.        ,    1.38081109,    3.        ],\n",
       "       [   9.        ,   11.        ,    1.42406652,    2.        ],\n",
       "       [  76.        ,  112.        ,    1.69552588,    4.        ],\n",
       "       [  24.        ,   26.        ,    1.74839317,    2.        ],\n",
       "       [ 106.        ,  110.        ,    1.7700061 ,    5.        ],\n",
       "       [  86.        ,  100.        ,    1.77494569,    2.        ],\n",
       "       [ 108.        ,  113.        ,    1.87167763,    4.        ],\n",
       "       [  10.        ,   13.        ,    1.88325705,    2.        ],\n",
       "       [  23.        ,   27.        ,    1.90084622,    2.        ],\n",
       "       [  79.        ,   91.        ,    2.03505799,    2.        ],\n",
       "       [  33.        ,   35.        ,    2.07670823,    2.        ],\n",
       "       [  99.        ,  117.        ,    2.12019767,    3.        ],\n",
       "       [  37.        ,   38.        ,    2.17160265,    2.        ],\n",
       "       [  31.        ,  114.        ,    2.21074873,    5.        ],\n",
       "       [  14.        ,   20.        ,    2.24637194,    2.        ],\n",
       "       [ 111.        ,  118.        ,    2.26227435,    7.        ],\n",
       "       [  41.        ,  120.        ,    2.34287179,    3.        ],\n",
       "       [  82.        ,   83.        ,    2.35790447,    2.        ],\n",
       "       [  60.        ,   62.        ,    2.4036619 ,    2.        ],\n",
       "       [  39.        ,  122.        ,    2.40942087,    3.        ],\n",
       "       [ 115.        ,  126.        ,    2.54403087,    4.        ],\n",
       "       [  96.        ,   97.        ,    2.56792074,    2.        ],\n",
       "       [ 121.        ,  129.        ,    2.65019283,    4.        ],\n",
       "       [  93.        ,   94.        ,    2.72865462,    2.        ],\n",
       "       [   4.        ,    7.        ,    2.81281211,    2.        ],\n",
       "       [  51.        ,   65.        ,    2.92651443,    2.        ],\n",
       "       [  87.        ,   98.        ,    2.93666484,    2.        ],\n",
       "       [   0.        ,    5.        ,    2.98738626,    2.        ],\n",
       "       [  70.        ,  134.        ,    2.99598021,    5.        ],\n",
       "       [  45.        ,   54.        ,    3.14143652,    2.        ],\n",
       "       [  42.        ,  141.        ,    3.18789051,    3.        ],\n",
       "       [   6.        ,  132.        ,    3.24310239,    5.        ],\n",
       "       [ 128.        ,  131.        ,    3.26363817,    6.        ],\n",
       "       [  89.        ,  133.        ,    3.26654043,    3.        ],\n",
       "       [  77.        ,  140.        ,    3.48364298,    6.        ],\n",
       "       [  22.        ,  144.        ,    3.49715908,    7.        ],\n",
       "       [  17.        ,   21.        ,    3.5019836 ,    2.        ],\n",
       "       [  34.        ,   36.        ,    3.51778036,    2.        ],\n",
       "       [  49.        ,  136.        ,    3.52871848,    3.        ],\n",
       "       [  32.        ,   44.        ,    3.53678786,    2.        ],\n",
       "       [ 119.        ,  127.        ,    3.56246061,    9.        ],\n",
       "       [  88.        ,   90.        ,    3.63091547,    2.        ],\n",
       "       [ 148.        ,  151.        ,    3.64380812,    4.        ],\n",
       "       [ 116.        ,  125.        ,    3.67222953,   10.        ],\n",
       "       [  78.        ,  153.        ,    3.69995122,    3.        ],\n",
       "       [ 124.        ,  142.        ,    3.84765179,    5.        ],\n",
       "       [ 135.        ,  145.        ,    3.95078888,    5.        ],\n",
       "       [  25.        ,   53.        ,    4.01219841,    2.        ],\n",
       "       [  58.        ,   64.        ,    4.07493404,    2.        ],\n",
       "       [  95.        ,  102.        ,    4.07975572,    2.        ],\n",
       "       [  85.        ,  137.        ,    4.0813322 ,    3.        ],\n",
       "       [  43.        ,  154.        ,    4.1049936 ,    5.        ],\n",
       "       [ 138.        ,  156.        ,    4.27619107,    5.        ],\n",
       "       [  19.        ,   57.        ,    4.29928832,    2.        ],\n",
       "       [  67.        ,   69.        ,    4.3198436 ,    2.        ],\n",
       "       [  15.        ,   55.        ,    4.43488065,    2.        ],\n",
       "       [  59.        ,   61.        ,    4.44695869,    2.        ],\n",
       "       [  52.        ,  162.        ,    4.46163034,    4.        ],\n",
       "       [ 101.        ,  130.        ,    4.5319948 ,    3.        ],\n",
       "       [ 159.        ,  165.        ,    4.59513725,    4.        ],\n",
       "       [  80.        ,   81.        ,    4.70024614,    2.        ],\n",
       "       [   1.        ,    2.        ,    4.74034077,    2.        ],\n",
       "       [ 150.        ,  160.        ,    4.96522785,    5.        ],\n",
       "       [  29.        ,   46.        ,    5.03578083,    2.        ],\n",
       "       [  48.        ,   56.        ,    5.05627755,    2.        ],\n",
       "       [ 163.        ,  171.        ,    5.11402708,    9.        ],\n",
       "       [  68.        ,  166.        ,    5.3003093 ,    3.        ],\n",
       "       [  63.        ,  168.        ,    5.56226059,    3.        ],\n",
       "       [ 123.        ,  146.        ,    5.56291252,    9.        ],\n",
       "       [ 143.        ,  147.        ,    5.72465662,   12.        ],\n",
       "       [ 175.        ,  176.        ,    5.88779322,    4.        ],\n",
       "       [ 149.        ,  167.        ,    5.97262671,    4.        ],\n",
       "       [ 164.        ,  170.        ,    6.0954536 ,    8.        ],\n",
       "       [  28.        ,   92.        ,    6.15997393,    2.        ],\n",
       "       [  18.        ,   50.        ,    6.3937023 ,    2.        ],\n",
       "       [ 172.        ,  184.        ,    6.40223447,   10.        ],\n",
       "       [ 157.        ,  177.        ,    6.67291076,   14.        ],\n",
       "       [ 182.        ,  183.        ,    6.73638387,    8.        ],\n",
       "       [  16.        ,  186.        ,    7.10229862,    3.        ],\n",
       "       [ 161.        ,  179.        ,    7.61125655,    5.        ],\n",
       "       [ 139.        ,  188.        ,    7.62121008,   16.        ],\n",
       "       [ 169.        ,  178.        ,    8.25469791,    7.        ],\n",
       "       [ 185.        ,  191.        ,    8.25627997,    7.        ],\n",
       "       [ 173.        ,  189.        ,    8.49857379,   10.        ],\n",
       "       [ 158.        ,  187.        ,    9.0989846 ,   15.        ],\n",
       "       [ 174.        ,  180.        ,    9.46963203,   14.        ],\n",
       "       [ 190.        ,  195.        ,   12.05227849,   13.        ],\n",
       "       [ 155.        ,  197.        ,   12.37341663,   24.        ],\n",
       "       [ 152.        ,  181.        ,   12.45340994,   21.        ],\n",
       "       [ 193.        ,  196.        ,   14.23354981,   22.        ],\n",
       "       [ 103.        ,  104.        ,   14.40857667,    2.        ],\n",
       "       [ 192.        ,  198.        ,   19.8792161 ,   29.        ],\n",
       "       [ 194.        ,  201.        ,   22.53377335,   29.        ],\n",
       "       [ 199.        ,  200.        ,   31.35233672,   45.        ],\n",
       "       [ 203.        ,  204.        ,   37.864151  ,   58.        ],\n",
       "       [ 202.        ,  206.        ,   51.20821555,   60.        ]])"
      ]
     },
     "execution_count": 6,
     "metadata": {},
     "output_type": "execute_result"
    }
   ],
   "source": [
    "linkage[:-1]"
   ]
  }
 ],
 "metadata": {
  "anaconda-cloud": {},
  "kernelspec": {
   "display_name": "Python [default]",
   "language": "python",
   "name": "python3"
  },
  "language_info": {
   "codemirror_mode": {
    "name": "ipython",
    "version": 3
   },
   "file_extension": ".py",
   "mimetype": "text/x-python",
   "name": "python",
   "nbconvert_exporter": "python",
   "pygments_lexer": "ipython3",
   "version": "3.5.2"
  },
  "widgets": {
   "state": {
    "00a890bde5ba431a8ce410800e63304f": {
     "views": [
      {
       "cell_index": 2
      }
     ]
    },
    "024933bdf2944813a059a2c807d0cf44": {
     "views": [
      {
       "cell_index": 2
      }
     ]
    },
    "026fe1b017a34fa2abae54c8645ae473": {
     "views": [
      {
       "cell_index": 3
      }
     ]
    },
    "0339420e452d4ebc877aed1684b916a6": {
     "views": [
      {
       "cell_index": 3
      }
     ]
    },
    "03571877ac6f470192dbb29c52c0b369": {
     "views": [
      {
       "cell_index": 3
      }
     ]
    },
    "0362f4a9d4354ae7be691cfc59b97f01": {
     "views": [
      {
       "cell_index": 2
      }
     ]
    },
    "03931591f55045d4b07e555794485b10": {
     "views": [
      {
       "cell_index": 2
      }
     ]
    },
    "04269b55480647b4a21af6c3e62f6f7a": {
     "views": [
      {
       "cell_index": 3
      }
     ]
    },
    "057b049d33b845ef9578cabe89d2273f": {
     "views": [
      {
       "cell_index": 2
      }
     ]
    },
    "05822afa300742cbb0904f30ecf7f5ac": {
     "views": [
      {
       "cell_index": 3
      }
     ]
    },
    "063773fc55384aafaca16c6a41638a4d": {
     "views": [
      {
       "cell_index": 3
      }
     ]
    },
    "06426e6a4f3f437388c373832d4e1f4a": {
     "views": [
      {
       "cell_index": 2
      }
     ]
    },
    "06cb1279051147588d65a2b230ee3521": {
     "views": [
      {
       "cell_index": 1
      }
     ]
    },
    "0733919eabb74decb6c2f291ef2e9ec1": {
     "views": [
      {
       "cell_index": 3
      }
     ]
    },
    "075f712427e7412d974d2c75b1315b6b": {
     "views": [
      {
       "cell_index": 2
      }
     ]
    },
    "076a2ef428364dd991bc5bfef543ec71": {
     "views": [
      {
       "cell_index": 3
      }
     ]
    },
    "08098299bc38417c918719c6d680f39b": {
     "views": [
      {
       "cell_index": 3
      }
     ]
    },
    "086a26639e5b475f811f5bd1b8c9f265": {
     "views": [
      {
       "cell_index": 3
      }
     ]
    },
    "0a46a03cfb97470583ca8c50bfff5450": {
     "views": [
      {
       "cell_index": 3
      }
     ]
    },
    "0d52ddd39b4944099b713216ad0e6693": {
     "views": [
      {
       "cell_index": 2
      }
     ]
    },
    "0dd38aae47f7487bace865dff9db75f7": {
     "views": [
      {
       "cell_index": 3
      }
     ]
    },
    "0defe82621774b7cbe91a9a818ff135c": {
     "views": [
      {
       "cell_index": 1
      }
     ]
    },
    "0fe60e63b1464b9e8812e0a07c4ad680": {
     "views": [
      {
       "cell_index": 3
      }
     ]
    },
    "108782bb9ff44c11bf8ca8b66612472c": {
     "views": [
      {
       "cell_index": 3
      }
     ]
    },
    "113759823c5343edb412b87f5596b2d0": {
     "views": [
      {
       "cell_index": 3
      }
     ]
    },
    "1168ea64577542c784c0e87c6ccf7676": {
     "views": [
      {
       "cell_index": 3
      }
     ]
    },
    "121bdb3a132b4b54a2a61e7fd383eed5": {
     "views": [
      {
       "cell_index": 2
      }
     ]
    },
    "13a584737e7c47b18f3b1924edd6c1d2": {
     "views": [
      {
       "cell_index": 2
      }
     ]
    },
    "1413b706d8de48e893646d144263f324": {
     "views": [
      {
       "cell_index": 3
      }
     ]
    },
    "1511028237b24791b3c6c48573483656": {
     "views": [
      {
       "cell_index": 1
      }
     ]
    },
    "153e115d4e9d4131b840a3513af39db2": {
     "views": [
      {
       "cell_index": 2
      }
     ]
    },
    "15e348114fe145d39834c8fd27a49c1e": {
     "views": [
      {
       "cell_index": 3
      }
     ]
    },
    "1609cf52fa3b4542ae72f32ab472bccf": {
     "views": [
      {
       "cell_index": 2
      }
     ]
    },
    "1647abe246ea4ff1bc02df82292f0cdd": {
     "views": [
      {
       "cell_index": 3
      }
     ]
    },
    "1709dcc30c5742f9bc44e1f15870a109": {
     "views": [
      {
       "cell_index": 1
      }
     ]
    },
    "17ab5f7b3ae24c32a4fcd6aea1d35719": {
     "views": [
      {
       "cell_index": 3
      }
     ]
    },
    "183d5e55061a40a688dcb93f81b466ff": {
     "views": [
      {
       "cell_index": 1
      }
     ]
    },
    "18d5021bdc5e40eebe9feec96043bc48": {
     "views": [
      {
       "cell_index": 2
      }
     ]
    },
    "18da2ce80f444618b0e6429b8869f351": {
     "views": [
      {
       "cell_index": 3
      }
     ]
    },
    "190a910f067d49e4b6fab6e2cbdcc3c8": {
     "views": [
      {
       "cell_index": 2
      }
     ]
    },
    "1a32c45e3180475394be3b5a59b08ecf": {
     "views": [
      {
       "cell_index": 2
      }
     ]
    },
    "1a621d6263df476f942bedbd8aed4504": {
     "views": [
      {
       "cell_index": 3
      }
     ]
    },
    "1a8e8414cf9f4ea8a997082f4f871ddb": {
     "views": [
      {
       "cell_index": 3
      }
     ]
    },
    "1bdc503808614de8a85bca8fe4784a36": {
     "views": [
      {
       "cell_index": 3
      }
     ]
    },
    "1c9ac1f014b04fc296333d036f40d363": {
     "views": [
      {
       "cell_index": 3
      }
     ]
    },
    "1cdfd63fcbdb41849bde842342f841ec": {
     "views": [
      {
       "cell_index": 3
      }
     ]
    },
    "1d470c74c35144689f0ee2c614d9e59d": {
     "views": [
      {
       "cell_index": 3
      }
     ]
    },
    "1db98ad8713b417ab052b19a871f6f82": {
     "views": [
      {
       "cell_index": 3
      }
     ]
    },
    "1e33dfdf8c6c407da8a35b305c29f85c": {
     "views": [
      {
       "cell_index": 3
      }
     ]
    },
    "1e47f0baa76a41b0a492fafeb361ea43": {
     "views": [
      {
       "cell_index": 1
      }
     ]
    },
    "1f092b7bbd604aadb48c9e14c7c38e9f": {
     "views": [
      {
       "cell_index": 1
      }
     ]
    },
    "1f173d99328841c28c071b4187fc12b7": {
     "views": [
      {
       "cell_index": 3
      }
     ]
    },
    "1f89c83696b94da889d7d37c2b906341": {
     "views": [
      {
       "cell_index": 3
      }
     ]
    },
    "1ff8d36b183143ac830715f67efacbba": {
     "views": [
      {
       "cell_index": 3
      }
     ]
    },
    "2071139910f84340bc14a018d529e923": {
     "views": [
      {
       "cell_index": 1
      }
     ]
    },
    "2088b0476d8c4ee7b64ff7f6cd28db49": {
     "views": [
      {
       "cell_index": 3
      }
     ]
    },
    "215de695faaf43b9968c6fd92e42ab95": {
     "views": [
      {
       "cell_index": 3
      }
     ]
    },
    "217b7d9cab054bacb8cfe538bd6dcbf7": {
     "views": [
      {
       "cell_index": 2
      }
     ]
    },
    "2227b60cd1124070ba4a6271714fbe2e": {
     "views": [
      {
       "cell_index": 3
      }
     ]
    },
    "2235b02e1dfc4d5297ceb78b2b9a7251": {
     "views": [
      {
       "cell_index": 2
      }
     ]
    },
    "227ef0c9ce074de8bbfe55c1c604249f": {
     "views": [
      {
       "cell_index": 3
      }
     ]
    },
    "2297d29e8ab24ebc88a3071fe9c4bfaf": {
     "views": [
      {
       "cell_index": 1
      }
     ]
    },
    "22abf24e8ca241d79f02022b8738feb3": {
     "views": [
      {
       "cell_index": 2
      }
     ]
    },
    "22adefa3c78545978338fa67db05397f": {
     "views": [
      {
       "cell_index": 3
      }
     ]
    },
    "23417a81828745038cba82f752ae404b": {
     "views": [
      {
       "cell_index": 3
      }
     ]
    },
    "237eee59c21d4965827861999d4b1db9": {
     "views": [
      {
       "cell_index": 2
      }
     ]
    },
    "24c9d0d236924fea9e7db65578668e8f": {
     "views": [
      {
       "cell_index": 2
      }
     ]
    },
    "25be404ff62946bc80cc61e3ca37f404": {
     "views": [
      {
       "cell_index": 3
      }
     ]
    },
    "25cd0692709b49f4bc1ce1b6a64bc94e": {
     "views": [
      {
       "cell_index": 1
      }
     ]
    },
    "26167e5928954fdf8afec2f74e4a80d4": {
     "views": [
      {
       "cell_index": 2
      }
     ]
    },
    "28ad94452dc04f168fc53c6683b6218d": {
     "views": [
      {
       "cell_index": 3
      }
     ]
    },
    "28da676fcfcd4c16ad46d25417480645": {
     "views": [
      {
       "cell_index": 2
      }
     ]
    },
    "28daf9316eb043c7bcbc54d0354eaf42": {
     "views": [
      {
       "cell_index": 1
      }
     ]
    },
    "28dc249fc3834e509183f92b1c9ec75a": {
     "views": [
      {
       "cell_index": 2
      }
     ]
    },
    "28e96b6f9e354bd7b8e3f7d1540a1763": {
     "views": [
      {
       "cell_index": 2
      }
     ]
    },
    "2ba17b7a773543a496a39e857798e1fa": {
     "views": [
      {
       "cell_index": 3
      }
     ]
    },
    "2c3a2ce2e3a24875b8468f06cc506755": {
     "views": [
      {
       "cell_index": 3
      }
     ]
    },
    "2c67f03e62b745dda7037b413a41b3b5": {
     "views": [
      {
       "cell_index": 3
      }
     ]
    },
    "2ced832fe8d747d7915bc20e730442b5": {
     "views": [
      {
       "cell_index": 3
      }
     ]
    },
    "2dd2f469610f4fa6bd05cc4054314848": {
     "views": [
      {
       "cell_index": 2
      }
     ]
    },
    "2e408443a4f245dda4d8dab56ce212f6": {
     "views": [
      {
       "cell_index": 3
      }
     ]
    },
    "2e45e851ebb04f6ca6beaa102323dd3b": {
     "views": [
      {
       "cell_index": 3
      }
     ]
    },
    "2e510469fa2b44dd831ecdbc2f4dcd51": {
     "views": [
      {
       "cell_index": 3
      }
     ]
    },
    "2e825b4982624e35b9c720258671a02e": {
     "views": [
      {
       "cell_index": 3
      }
     ]
    },
    "2e90845a34e245048227a63eb37e10c5": {
     "views": [
      {
       "cell_index": 2
      }
     ]
    },
    "3070cb42bf954813941ea1566db0f34a": {
     "views": [
      {
       "cell_index": 3
      }
     ]
    },
    "30ca184c06174a7f8575a4446130e735": {
     "views": [
      {
       "cell_index": 3
      }
     ]
    },
    "310e8927fc414c0aa4410f4cb80b0f1f": {
     "views": [
      {
       "cell_index": 1
      }
     ]
    },
    "3190eac444e748e997b8cdf4d412b044": {
     "views": [
      {
       "cell_index": 2
      }
     ]
    },
    "31afabd7b52d494dac816bc827ca3fc7": {
     "views": [
      {
       "cell_index": 2
      }
     ]
    },
    "32724a31ef0f45bea26331f9f7135356": {
     "views": [
      {
       "cell_index": 2
      }
     ]
    },
    "32fddeb71f3c4766931e5b617921dba8": {
     "views": [
      {
       "cell_index": 3
      }
     ]
    },
    "33e135317a4c47f59febe77ab9652237": {
     "views": [
      {
       "cell_index": 3
      }
     ]
    },
    "33f7896cc5f842a3a690d1552fbf2fea": {
     "views": [
      {
       "cell_index": 3
      }
     ]
    },
    "340954da08554db999109a121ad4b870": {
     "views": [
      {
       "cell_index": 3
      }
     ]
    },
    "3481568c967442b099ba3d6bf5937263": {
     "views": [
      {
       "cell_index": 2
      }
     ]
    },
    "35453cd64a764abbbe9860564f83d32b": {
     "views": [
      {
       "cell_index": 3
      }
     ]
    },
    "35a5be1d27894ca1ad6b76be8eb3de58": {
     "views": [
      {
       "cell_index": 3
      }
     ]
    },
    "35c3aa460622469d9f6450fb4a3821b8": {
     "views": [
      {
       "cell_index": 3
      }
     ]
    },
    "35c9ee9e69e249cfbe7c883bdda1dd9f": {
     "views": [
      {
       "cell_index": 2
      }
     ]
    },
    "36a31b9c92cb4898a1e36477eaed3f32": {
     "views": [
      {
       "cell_index": 2
      }
     ]
    },
    "36af6a2a9f624c55b06a7e2fab4777a7": {
     "views": [
      {
       "cell_index": 2
      }
     ]
    },
    "36ee94e9169341148674ec355246dabb": {
     "views": [
      {
       "cell_index": 2
      }
     ]
    },
    "375383b268bb4608bf83213a3736a30f": {
     "views": [
      {
       "cell_index": 2
      }
     ]
    },
    "378172a8a59d4fc896e480de78b4d645": {
     "views": [
      {
       "cell_index": 3
      }
     ]
    },
    "3787119826d84f04bc52aa19b28eb1cb": {
     "views": [
      {
       "cell_index": 3
      }
     ]
    },
    "37a09c05852a477ea87b4c036788d85d": {
     "views": [
      {
       "cell_index": 2
      }
     ]
    },
    "38c0ce87855145a3ba7ad6410a38465a": {
     "views": [
      {
       "cell_index": 3
      }
     ]
    },
    "3917bb5dde5a46b9b5c47f7acd9667fe": {
     "views": [
      {
       "cell_index": 3
      }
     ]
    },
    "3934e52e1e7d4f49a1fa345102496ceb": {
     "views": [
      {
       "cell_index": 3
      }
     ]
    },
    "3a61fbdbf3af4b9c9716c5783070f55d": {
     "views": [
      {
       "cell_index": 1
      }
     ]
    },
    "3b6c62645be249558fb344e4fd6c121c": {
     "views": [
      {
       "cell_index": 3
      }
     ]
    },
    "3b8e3c5aa36046a4bca7b1358f80b35c": {
     "views": [
      {
       "cell_index": 1
      }
     ]
    },
    "3bc6e4eb0170480594242bb4650dc4d5": {
     "views": [
      {
       "cell_index": 2
      }
     ]
    },
    "3c22fb616b87497a84568597272c32c7": {
     "views": [
      {
       "cell_index": 3
      }
     ]
    },
    "3c4d45393524468695d58edec426e299": {
     "views": [
      {
       "cell_index": 3
      }
     ]
    },
    "3d7036f2f45a4ba298306e7dc2ab4bae": {
     "views": [
      {
       "cell_index": 3
      }
     ]
    },
    "3f57452466f24ab08ac2218c1be2d26a": {
     "views": [
      {
       "cell_index": 3
      }
     ]
    },
    "3f584340b44746d7a83deed58ddaa58c": {
     "views": [
      {
       "cell_index": 1
      }
     ]
    },
    "403bd17560f34fb48448797fc634dd45": {
     "views": [
      {
       "cell_index": 3
      }
     ]
    },
    "405a5458e57849e586eb3483ad95f261": {
     "views": [
      {
       "cell_index": 2
      }
     ]
    },
    "41ab61d145c94cbe986c392e31ca4690": {
     "views": [
      {
       "cell_index": 2
      }
     ]
    },
    "4267fc30d4864acb870c9759bd3fa01c": {
     "views": [
      {
       "cell_index": 2
      }
     ]
    },
    "4283454cfe8e455bbe21cae7086c3bad": {
     "views": [
      {
       "cell_index": 1
      }
     ]
    },
    "42eca4c88cf94c0cbd26eff45e80871a": {
     "views": [
      {
       "cell_index": 2
      }
     ]
    },
    "437a82df249a4feb94770a84288e722a": {
     "views": [
      {
       "cell_index": 3
      }
     ]
    },
    "43e78278ec3c44e6b71f19a1f31e3613": {
     "views": [
      {
       "cell_index": 3
      }
     ]
    },
    "44cbe2bb32ac46c0b3787d2416655c79": {
     "views": [
      {
       "cell_index": 2
      }
     ]
    },
    "452f08e2ab074ac18431d5a5b6c2fcde": {
     "views": [
      {
       "cell_index": 3
      }
     ]
    },
    "453e0c97dea94a4fa012d7d46cdebb2b": {
     "views": [
      {
       "cell_index": 3
      }
     ]
    },
    "460cc38ed4bc4bbabde00fbbc6446f75": {
     "views": [
      {
       "cell_index": 3
      }
     ]
    },
    "47c198f410b547329121dd2ba59d3676": {
     "views": [
      {
       "cell_index": 1
      }
     ]
    },
    "482b4e6148c14d58b2f67ec0f2d68b6e": {
     "views": [
      {
       "cell_index": 1
      }
     ]
    },
    "4898ae451fdf463d84eb87c4863ea7fa": {
     "views": [
      {
       "cell_index": 3
      }
     ]
    },
    "495f505fd3014e3a9a36d304eae80198": {
     "views": [
      {
       "cell_index": 3
      }
     ]
    },
    "49760ef733ef4c99a6b122fa01683368": {
     "views": [
      {
       "cell_index": 3
      }
     ]
    },
    "49ea2e17f4614c69b32032e7743cef1f": {
     "views": [
      {
       "cell_index": 3
      }
     ]
    },
    "4a4d75db55c543e9ba045cb01d5ebdf9": {
     "views": [
      {
       "cell_index": 1
      }
     ]
    },
    "4a7113b8ccb5454ba594b688af306c2d": {
     "views": [
      {
       "cell_index": 2
      }
     ]
    },
    "4aeb7bf0a8f447eeaf98d73f06d300f3": {
     "views": [
      {
       "cell_index": 3
      }
     ]
    },
    "4b96cd54a4e54550b5ac600ea84848af": {
     "views": [
      {
       "cell_index": 2
      }
     ]
    },
    "4c44502ef6c240a8a0bca64a7a03e9cc": {
     "views": [
      {
       "cell_index": 3
      }
     ]
    },
    "4e0a993f510f462997d81cd2fb181a45": {
     "views": [
      {
       "cell_index": 3
      }
     ]
    },
    "4ec51393294a48a0aeca33cfc7af4a64": {
     "views": [
      {
       "cell_index": 3
      }
     ]
    },
    "4f32c34c147640e8b570e0dc64b2e647": {
     "views": [
      {
       "cell_index": 3
      }
     ]
    },
    "4f923ff198ce44a2b5e1ecd469bcaa99": {
     "views": [
      {
       "cell_index": 3
      }
     ]
    },
    "4fafd7f54fd8447da3069b578a60428f": {
     "views": [
      {
       "cell_index": 2
      }
     ]
    },
    "4fc8e2a65aa34a2d88ef8ae6435c8345": {
     "views": [
      {
       "cell_index": 3
      }
     ]
    },
    "507f836c59a043c9ac7811cbcbb34be0": {
     "views": [
      {
       "cell_index": 3
      }
     ]
    },
    "5131c16c656741d8bcca0de21e4ea0ae": {
     "views": [
      {
       "cell_index": 3
      }
     ]
    },
    "52c2a8a576734aa996b608697faf142f": {
     "views": [
      {
       "cell_index": 3
      }
     ]
    },
    "53029d305fd44b47ad05facd3eb9e26b": {
     "views": [
      {
       "cell_index": 3
      }
     ]
    },
    "53044089f84a43e1a5d455a14056f27e": {
     "views": [
      {
       "cell_index": 3
      }
     ]
    },
    "540c984aedb0406b9952b792dd1245b1": {
     "views": [
      {
       "cell_index": 2
      }
     ]
    },
    "54435e12c693434cbd062862cf531a6b": {
     "views": [
      {
       "cell_index": 3
      }
     ]
    },
    "549608f9f70f43679f30d94bd32b21c3": {
     "views": [
      {
       "cell_index": 3
      }
     ]
    },
    "567aae2d22534f7588da4a6d760b8b2b": {
     "views": [
      {
       "cell_index": 1
      }
     ]
    },
    "56ee899c7e204b2ead3525e7a0108d1c": {
     "views": [
      {
       "cell_index": 3
      }
     ]
    },
    "572d9d498b9c4e2097d69209e89a6710": {
     "views": [
      {
       "cell_index": 3
      }
     ]
    },
    "574a0578e790401899f53f2d411e25b9": {
     "views": [
      {
       "cell_index": 3
      }
     ]
    },
    "57a1dd63c8544acc9fc29fca7f4f2ab8": {
     "views": [
      {
       "cell_index": 2
      }
     ]
    },
    "57b9ea7862b64154833d5f491ca36e66": {
     "views": [
      {
       "cell_index": 2
      }
     ]
    },
    "57ee80aa4e354540a514e0192261cdab": {
     "views": [
      {
       "cell_index": 3
      }
     ]
    },
    "5866025f75d14529aa02936479bb2143": {
     "views": [
      {
       "cell_index": 3
      }
     ]
    },
    "59334767a26a44b19f9c394a16152427": {
     "views": [
      {
       "cell_index": 2
      }
     ]
    },
    "59bb2b3a341848feaaf0c3c9949fbc91": {
     "views": [
      {
       "cell_index": 3
      }
     ]
    },
    "5a2224731d1f4485ac02ce6dcde1b71e": {
     "views": [
      {
       "cell_index": 3
      }
     ]
    },
    "5b0a20f9a5504f84970c29d333e2e882": {
     "views": [
      {
       "cell_index": 2
      }
     ]
    },
    "5bb588b9d04e4ffcba79871821a154a2": {
     "views": [
      {
       "cell_index": 3
      }
     ]
    },
    "5c35dbb2a6154ec4886b72e0e371eb3c": {
     "views": [
      {
       "cell_index": 3
      }
     ]
    },
    "5d495e040e314ca2b341bb05035cbb4c": {
     "views": [
      {
       "cell_index": 3
      }
     ]
    },
    "5d7c7d161d4949e7a9f230cc02f8dd91": {
     "views": [
      {
       "cell_index": 2
      }
     ]
    },
    "5ea43c25bf7c4a2fbdc8fa749e680f06": {
     "views": [
      {
       "cell_index": 3
      }
     ]
    },
    "5ef846ddd425492fa5707b2ea3368d3a": {
     "views": [
      {
       "cell_index": 2
      }
     ]
    },
    "5f5cb8e5475742dba58d38cceef4c512": {
     "views": [
      {
       "cell_index": 2
      }
     ]
    },
    "5fce95e26b7344c39fe3fa88d6ecdd67": {
     "views": [
      {
       "cell_index": 2
      }
     ]
    },
    "60b52e9f1df24669bb19e1fe6b8e9b88": {
     "views": [
      {
       "cell_index": 3
      }
     ]
    },
    "615afa0b8d8446adb9ec7d4ceb04c1a6": {
     "views": [
      {
       "cell_index": 3
      }
     ]
    },
    "62e9aa32392f4ae183a392e75a43343c": {
     "views": [
      {
       "cell_index": 3
      }
     ]
    },
    "6433eee30dca41d28ad355337fb29ef2": {
     "views": [
      {
       "cell_index": 3
      }
     ]
    },
    "643ef011ba964363893553b6ac23f44a": {
     "views": [
      {
       "cell_index": 1
      }
     ]
    },
    "646f26ca2487460a9ca9055abf1df3c4": {
     "views": [
      {
       "cell_index": 2
      }
     ]
    },
    "648290c4e97f40bbb933191564bc7c5b": {
     "views": [
      {
       "cell_index": 2
      }
     ]
    },
    "64ab502b5d7e425eb1d61f1e1c7bd5e5": {
     "views": [
      {
       "cell_index": 1
      }
     ]
    },
    "651d7a44a8394ba4bb10945f50f9ed8b": {
     "views": [
      {
       "cell_index": 3
      }
     ]
    },
    "65371c94540d4693acb1c8b607bfaa71": {
     "views": [
      {
       "cell_index": 2
      }
     ]
    },
    "6594b00cd8494bb99f9e503d5309be0d": {
     "views": [
      {
       "cell_index": 3
      }
     ]
    },
    "68ca1ea2d3994d338423db76e06051a6": {
     "views": [
      {
       "cell_index": 3
      }
     ]
    },
    "69cda2f6d3344b42a7195d67fb9aa5a5": {
     "views": [
      {
       "cell_index": 1
      }
     ]
    },
    "6a453b6d4bcb433584980fe2e4e09111": {
     "views": [
      {
       "cell_index": 3
      }
     ]
    },
    "6ad693238d644ea3af312872113f0986": {
     "views": [
      {
       "cell_index": 2
      }
     ]
    },
    "6cc18f1a221a4e72bc46cb72f3bf00b0": {
     "views": [
      {
       "cell_index": 3
      }
     ]
    },
    "6d3eae887c5b4ed4afacf17bb0b3bb17": {
     "views": [
      {
       "cell_index": 2
      }
     ]
    },
    "6d6fb2c4ef6d4528b860cdcb095bc1ca": {
     "views": [
      {
       "cell_index": 3
      }
     ]
    },
    "6e5aa24043644657abbc94643b55b1ac": {
     "views": [
      {
       "cell_index": 3
      }
     ]
    },
    "6e5bc23040a84c5da025170c82a034b0": {
     "views": [
      {
       "cell_index": 3
      }
     ]
    },
    "6ec88c8d45d64847878f868b4d9cdb50": {
     "views": [
      {
       "cell_index": 1
      }
     ]
    },
    "701c0997761d4ece8fd04ac7993de3bc": {
     "views": [
      {
       "cell_index": 3
      }
     ]
    },
    "70619d5b94e84488b12c4a1daf675315": {
     "views": [
      {
       "cell_index": 2
      }
     ]
    },
    "70c9c3d023bb4320bf47c91d34883e6b": {
     "views": [
      {
       "cell_index": 2
      }
     ]
    },
    "70cd1360d37a487eb195d539cca94d31": {
     "views": [
      {
       "cell_index": 3
      }
     ]
    },
    "71253ee47d024300b389835e000cef83": {
     "views": [
      {
       "cell_index": 3
      }
     ]
    },
    "727d3906472e49a18837a91735ded26b": {
     "views": [
      {
       "cell_index": 2
      }
     ]
    },
    "728e6b767b664f1bbd6b60ca6b61b9d5": {
     "views": [
      {
       "cell_index": 3
      }
     ]
    },
    "72a1d43fd394476dbee7a1b20d25243b": {
     "views": [
      {
       "cell_index": 2
      }
     ]
    },
    "730eb6bef0bb4eaea0f7ed9e52915508": {
     "views": [
      {
       "cell_index": 1
      }
     ]
    },
    "734a09697faf4041a26c455b41caee62": {
     "views": [
      {
       "cell_index": 2
      }
     ]
    },
    "735de3f5860840baa55de1714704cb8d": {
     "views": [
      {
       "cell_index": 3
      }
     ]
    },
    "73906e6a22c44260aea80bce75e532b8": {
     "views": [
      {
       "cell_index": 2
      }
     ]
    },
    "743e47a1acf342e28907fdb8c115661f": {
     "views": [
      {
       "cell_index": 1
      }
     ]
    },
    "757467f8d1f545b49f4574b96701c132": {
     "views": [
      {
       "cell_index": 3
      }
     ]
    },
    "75efe1dbdd244aec881de736e62d2e06": {
     "views": [
      {
       "cell_index": 3
      }
     ]
    },
    "7619374201494d77a357c1372ebefc7d": {
     "views": [
      {
       "cell_index": 3
      }
     ]
    },
    "7801d4c31fe74180ab2f9582fd96552d": {
     "views": [
      {
       "cell_index": 1
      }
     ]
    },
    "7a3e59581af04a41965332d3ee80f0b5": {
     "views": [
      {
       "cell_index": 2
      }
     ]
    },
    "7ae96ada6f51403bafc29e8cd1c64bcc": {
     "views": [
      {
       "cell_index": 2
      }
     ]
    },
    "7b5ee4feb5df49839fa3e0f790fd40e4": {
     "views": [
      {
       "cell_index": 1
      }
     ]
    },
    "7c0c367f37074faa8e6ddbe4e6fa22d6": {
     "views": [
      {
       "cell_index": 2
      }
     ]
    },
    "7c2166741b0741c2aa800b6f85324484": {
     "views": [
      {
       "cell_index": 1
      }
     ]
    },
    "7c2f8401a2aa451389326ff8453f26e9": {
     "views": [
      {
       "cell_index": 1
      }
     ]
    },
    "7df70df80a1c404db8e5cd1dc40f4aab": {
     "views": [
      {
       "cell_index": 2
      }
     ]
    },
    "7e6e229634fd4139831ff5978b3942a2": {
     "views": [
      {
       "cell_index": 3
      }
     ]
    },
    "7eb297ce612347bcb51a6c767d80178e": {
     "views": [
      {
       "cell_index": 3
      }
     ]
    },
    "7ecd043458f64937abdf7585c9710d9c": {
     "views": [
      {
       "cell_index": 2
      }
     ]
    },
    "7f8041f18def49018ed3ddbb2d6c386e": {
     "views": [
      {
       "cell_index": 1
      }
     ]
    },
    "8025a482fb7a472aa2ebe7c1947a3c30": {
     "views": [
      {
       "cell_index": 2
      }
     ]
    },
    "8066c08de304422e9708be9437f43779": {
     "views": [
      {
       "cell_index": 2
      }
     ]
    },
    "8079c52cacb74bc2bb45528f0237e94b": {
     "views": [
      {
       "cell_index": 3
      }
     ]
    },
    "80db09142305408eac2b945dd762604f": {
     "views": [
      {
       "cell_index": 3
      }
     ]
    },
    "81750268a9044799b1158f3bbf5a9d0b": {
     "views": [
      {
       "cell_index": 3
      }
     ]
    },
    "81ca78d79cc44d51999627a36c4aac7c": {
     "views": [
      {
       "cell_index": 3
      }
     ]
    },
    "81d668f6fd274b7a85aa5b66d2814b3f": {
     "views": [
      {
       "cell_index": 1
      }
     ]
    },
    "81e93e9311bd4f0096e7a63b510586f8": {
     "views": [
      {
       "cell_index": 2
      }
     ]
    },
    "82ab31c57d5a4855947fe07328166a8b": {
     "views": [
      {
       "cell_index": 2
      }
     ]
    },
    "82ebcb3dca8b4b98a51998624155debd": {
     "views": [
      {
       "cell_index": 3
      }
     ]
    },
    "833c1f32c64a4c418d32e9bfa8468ef6": {
     "views": [
      {
       "cell_index": 3
      }
     ]
    },
    "83f329bb5c6e431f80fa4787b893fc5c": {
     "views": [
      {
       "cell_index": 1
      }
     ]
    },
    "8544b859b88242428aeb29421419a3e3": {
     "views": [
      {
       "cell_index": 2
      }
     ]
    },
    "85587c12ceda4ced8d7a92f6812c1fd3": {
     "views": [
      {
       "cell_index": 3
      }
     ]
    },
    "85cfe0d1125e49729bedcaf3e9e5d80e": {
     "views": [
      {
       "cell_index": 3
      }
     ]
    },
    "874fe5702a1a48a28205a2edbfcbbd2b": {
     "views": [
      {
       "cell_index": 3
      }
     ]
    },
    "881d891e6c564041bb59c4aba6df5681": {
     "views": [
      {
       "cell_index": 3
      }
     ]
    },
    "88350fe700f64177b12952b3c756e270": {
     "views": [
      {
       "cell_index": 3
      }
     ]
    },
    "8920c6286eda4529a231ca07e29a440b": {
     "views": [
      {
       "cell_index": 2
      }
     ]
    },
    "899316494379427c97648128bb1809e1": {
     "views": [
      {
       "cell_index": 2
      }
     ]
    },
    "8bbc5a79f5eb46eca4f025ad9af8dfff": {
     "views": [
      {
       "cell_index": 2
      }
     ]
    },
    "8c7811f548fd43c992ff3a94a1ccfb45": {
     "views": [
      {
       "cell_index": 2
      }
     ]
    },
    "8cc2af9b7c004510947efe442c4db202": {
     "views": [
      {
       "cell_index": 2
      }
     ]
    },
    "8e170a8556334aae9c6ce52748c93e9c": {
     "views": [
      {
       "cell_index": 3
      }
     ]
    },
    "8fbc75ec4b92448eb3c898a305ea8460": {
     "views": [
      {
       "cell_index": 2
      }
     ]
    },
    "90263ab3d24c469f9ffa06997c9b790d": {
     "views": [
      {
       "cell_index": 3
      }
     ]
    },
    "910901dab4a746b78701b306c750a618": {
     "views": [
      {
       "cell_index": 3
      }
     ]
    },
    "9152f71bbc184ec6bbd243cd8dd6e17e": {
     "views": [
      {
       "cell_index": 3
      }
     ]
    },
    "917d95918ff046d29f5c8cc77f6bec15": {
     "views": [
      {
       "cell_index": 2
      }
     ]
    },
    "924b25c0f5dd4df48c56f61f16d41720": {
     "views": [
      {
       "cell_index": 2
      }
     ]
    },
    "925475077d774dd7955b977cafb5ce77": {
     "views": [
      {
       "cell_index": 1
      }
     ]
    },
    "925dc95ed7df47ec940b9e06329b5507": {
     "views": [
      {
       "cell_index": 2
      }
     ]
    },
    "93a8560153e442eaba3c2aa14477af0e": {
     "views": [
      {
       "cell_index": 3
      }
     ]
    },
    "941bfc47213845c49e62fb8761427aeb": {
     "views": [
      {
       "cell_index": 2
      }
     ]
    },
    "95114e7d8fe54804928654853473578a": {
     "views": [
      {
       "cell_index": 3
      }
     ]
    },
    "95223fe47f5f461ca0e1fe923fc0e691": {
     "views": [
      {
       "cell_index": 3
      }
     ]
    },
    "9562277e3e5348aaa4984bfcc3e4ca39": {
     "views": [
      {
       "cell_index": 2
      }
     ]
    },
    "960a58b67f8e4cb5b881d054d8fd0066": {
     "views": [
      {
       "cell_index": 2
      }
     ]
    },
    "960f1946c08c4d1381f7fbd1c1932576": {
     "views": [
      {
       "cell_index": 3
      }
     ]
    },
    "96225ddffd5e45488e23cb45426978fe": {
     "views": [
      {
       "cell_index": 2
      }
     ]
    },
    "963e3e0cc0c9423e93a09bd545458d87": {
     "views": [
      {
       "cell_index": 3
      }
     ]
    },
    "9650ceb858cd4d90b9c7913cb2835f30": {
     "views": [
      {
       "cell_index": 1
      }
     ]
    },
    "968ad5c027a74c5fa2f7e1297e2736c7": {
     "views": [
      {
       "cell_index": 3
      }
     ]
    },
    "96fa8dd2eefc44bf982931ec1fe3b8f0": {
     "views": [
      {
       "cell_index": 2
      }
     ]
    },
    "9712d6ebea05488e98a4bd47cad9067e": {
     "views": [
      {
       "cell_index": 2
      }
     ]
    },
    "97726f5e89a54aec8ee5cc43111be67a": {
     "views": [
      {
       "cell_index": 2
      }
     ]
    },
    "99017abfb05b4a719a1d2eaeacd07e5b": {
     "views": [
      {
       "cell_index": 1
      }
     ]
    },
    "9999d78444f5429b93c5d5976cc2c03f": {
     "views": [
      {
       "cell_index": 2
      }
     ]
    },
    "99ebb06d31ce45ea9e3e860efdcdeeea": {
     "views": [
      {
       "cell_index": 1
      }
     ]
    },
    "99f445841ae446b0a241f0922d57c219": {
     "views": [
      {
       "cell_index": 3
      }
     ]
    },
    "9a0a6997519948c48143cf144718a970": {
     "views": [
      {
       "cell_index": 2
      }
     ]
    },
    "9a38b2432aed473297a0d6d84a2d8728": {
     "views": [
      {
       "cell_index": 1
      }
     ]
    },
    "9ac80e3aa5374218ad6b77e33051ddc2": {
     "views": [
      {
       "cell_index": 1
      }
     ]
    },
    "9bcd802500394a7c951bb7942b6384f7": {
     "views": [
      {
       "cell_index": 2
      }
     ]
    },
    "9c456c6622f94df39d635680bb673cd9": {
     "views": [
      {
       "cell_index": 3
      }
     ]
    },
    "9d4b11e80a5e42f7a3c16963ea4b3e4a": {
     "views": [
      {
       "cell_index": 2
      }
     ]
    },
    "9d7c69b275044569a052932ebfd88ff9": {
     "views": [
      {
       "cell_index": 2
      }
     ]
    },
    "9dd7ad9f03eb400eb3c9f0483f2a7c25": {
     "views": [
      {
       "cell_index": 2
      }
     ]
    },
    "9f0cb567f29f419081956cdb7cc6b3b5": {
     "views": [
      {
       "cell_index": 3
      }
     ]
    },
    "9f518f400be546acb9d4da210bfccd0b": {
     "views": [
      {
       "cell_index": 2
      }
     ]
    },
    "9f965fcfc8c04db1b56eade3f01ab6ad": {
     "views": [
      {
       "cell_index": 1
      }
     ]
    },
    "9fb1c929855547c9a62e5a0cbfa1b3f1": {
     "views": [
      {
       "cell_index": 3
      }
     ]
    },
    "a060423d77174ad6bad38d30b493495f": {
     "views": [
      {
       "cell_index": 3
      }
     ]
    },
    "a17c4655730347a8b2c0a9d82ece736a": {
     "views": [
      {
       "cell_index": 3
      }
     ]
    },
    "a17d88a274ac47d7b0e30bc9bc18a889": {
     "views": [
      {
       "cell_index": 3
      }
     ]
    },
    "a1896e36cc01480187d7860b8e6f1477": {
     "views": [
      {
       "cell_index": 2
      }
     ]
    },
    "a1e14a927dc94277881a32e162244f68": {
     "views": [
      {
       "cell_index": 2
      }
     ]
    },
    "a22db6980e8d4fa8b06cfecbd18fe596": {
     "views": [
      {
       "cell_index": 3
      }
     ]
    },
    "a3732d38eb354fb886fdf68b478c0115": {
     "views": [
      {
       "cell_index": 3
      }
     ]
    },
    "a3f02114ad734087baed6e6d3abb5d2d": {
     "views": [
      {
       "cell_index": 2
      }
     ]
    },
    "a41d48c3e84f43a9a59e8232e173e0ed": {
     "views": [
      {
       "cell_index": 2
      }
     ]
    },
    "a46650c4b2e7407b9c9e5dd04f233c06": {
     "views": [
      {
       "cell_index": 3
      }
     ]
    },
    "a4a3c2c9cb07498abd6c6721ffddff3d": {
     "views": [
      {
       "cell_index": 3
      }
     ]
    },
    "a5abcbf05bc44a9c8ea0d45800f6782f": {
     "views": [
      {
       "cell_index": 2
      }
     ]
    },
    "a5eb33cf2a48487fb1583e0b5cc30b28": {
     "views": [
      {
       "cell_index": 3
      }
     ]
    },
    "a6a2f1735b954501818913f56f163d99": {
     "views": [
      {
       "cell_index": 2
      }
     ]
    },
    "a74a1a2aedb5416484d8ba91ac5d2443": {
     "views": [
      {
       "cell_index": 1
      }
     ]
    },
    "a7c8d35298ac4c45b7f6d6a91f3adec4": {
     "views": [
      {
       "cell_index": 2
      }
     ]
    },
    "a85c54da4d28415b958e871c9c5ada8c": {
     "views": [
      {
       "cell_index": 2
      }
     ]
    },
    "a8ceb81d280d410484668d021201fdd2": {
     "views": [
      {
       "cell_index": 2
      }
     ]
    },
    "a8e8e0a5989e405bbc34bf22cf875b53": {
     "views": [
      {
       "cell_index": 3
      }
     ]
    },
    "a9906d4098fc4f40bff7b2decd6a441b": {
     "views": [
      {
       "cell_index": 3
      }
     ]
    },
    "aaa38183b1db42d6a039f5cfc71a66e0": {
     "views": [
      {
       "cell_index": 2
      }
     ]
    },
    "aaa61955d2524ffc93bf0ca28bd10319": {
     "views": [
      {
       "cell_index": 3
      }
     ]
    },
    "aaf41c48cd42469885b17d9043c988b1": {
     "views": [
      {
       "cell_index": 1
      }
     ]
    },
    "ab072e33b34843a09a23eb8630ff8673": {
     "views": [
      {
       "cell_index": 3
      }
     ]
    },
    "ab84021c89054b2f865ffb4a372da4fb": {
     "views": [
      {
       "cell_index": 1
      }
     ]
    },
    "ac3eddfb6d9846b3956290a1f727c38e": {
     "views": [
      {
       "cell_index": 2
      }
     ]
    },
    "ad42d89543804a7398e6a08944b3075e": {
     "views": [
      {
       "cell_index": 3
      }
     ]
    },
    "adbc06cb3c314f0098348656fdd98a6c": {
     "views": [
      {
       "cell_index": 2
      }
     ]
    },
    "ae305cb9956a458c80dc8bdc49d6ac05": {
     "views": [
      {
       "cell_index": 2
      }
     ]
    },
    "ae3c16dea2ad4b8ea1296b6a6c29a09d": {
     "views": [
      {
       "cell_index": 1
      }
     ]
    },
    "ae5dc0deb46e43219d45fc7c6b4df7e3": {
     "views": [
      {
       "cell_index": 3
      }
     ]
    },
    "aeb4b10f4ff046cb9e22535fed68c865": {
     "views": [
      {
       "cell_index": 3
      }
     ]
    },
    "af53748f727845988780aaf807dd2423": {
     "views": [
      {
       "cell_index": 1
      }
     ]
    },
    "b1a1023104a14cc299eab78265370a07": {
     "views": [
      {
       "cell_index": 3
      }
     ]
    },
    "b2c39c2e4848458199b0e31e9e66f27d": {
     "views": [
      {
       "cell_index": 3
      }
     ]
    },
    "b354d33dc0934453be9e199abc8700ac": {
     "views": [
      {
       "cell_index": 1
      }
     ]
    },
    "b5c4415f6e68462fa39feacc1965b882": {
     "views": [
      {
       "cell_index": 3
      }
     ]
    },
    "b5e237582c65492e92e86c570bd959b4": {
     "views": [
      {
       "cell_index": 2
      }
     ]
    },
    "b6da3a1907904d32b6693afb58bcc876": {
     "views": [
      {
       "cell_index": 3
      }
     ]
    },
    "b73efcd849d148feb260c92257ce6234": {
     "views": [
      {
       "cell_index": 3
      }
     ]
    },
    "b8c5e450245e4e119c1aa17f96e181f7": {
     "views": [
      {
       "cell_index": 2
      }
     ]
    },
    "ba392174494141418c7f56654a2ab567": {
     "views": [
      {
       "cell_index": 1
      }
     ]
    },
    "ba711b303dec4afcad782b432ae1c9a3": {
     "views": [
      {
       "cell_index": 2
      }
     ]
    },
    "bad73746418e452d8ed41e2729802c7c": {
     "views": [
      {
       "cell_index": 3
      }
     ]
    },
    "bb4e80bad7c24ad4b90d96317166705f": {
     "views": [
      {
       "cell_index": 3
      }
     ]
    },
    "bb8328867de24313875dde94c17640dd": {
     "views": [
      {
       "cell_index": 2
      }
     ]
    },
    "bbea4223214d4d90b8ce28ea9fb7a78f": {
     "views": [
      {
       "cell_index": 2
      }
     ]
    },
    "bc8089041b96484da6f0117b25b26a0c": {
     "views": [
      {
       "cell_index": 2
      }
     ]
    },
    "bcf47921ab6c4887b5289e752868fcd2": {
     "views": [
      {
       "cell_index": 2
      }
     ]
    },
    "bd58c3e3ee5d4a5788643daffebe7d1f": {
     "views": [
      {
       "cell_index": 1
      }
     ]
    },
    "be532235b9f9422b8e2d687b96589c23": {
     "views": [
      {
       "cell_index": 3
      }
     ]
    },
    "beffaa6b7bcd49bd8ed6957eb09532a9": {
     "views": [
      {
       "cell_index": 1
      }
     ]
    },
    "bf8e8672a99247d182da0fd679783f93": {
     "views": [
      {
       "cell_index": 2
      }
     ]
    },
    "bf9075b6897d497cb2c3a5fd08a28179": {
     "views": [
      {
       "cell_index": 2
      }
     ]
    },
    "c0f69e5a460c468db4427785d6a183a1": {
     "views": [
      {
       "cell_index": 3
      }
     ]
    },
    "c1147b1b5e1c4ff69962d3dd8cc75c9f": {
     "views": [
      {
       "cell_index": 1
      }
     ]
    },
    "c14b2dbfcb184513bd6af3b680c5fd95": {
     "views": [
      {
       "cell_index": 3
      }
     ]
    },
    "c1941053debc48f9a6d804c02a10bb67": {
     "views": [
      {
       "cell_index": 2
      }
     ]
    },
    "c1bcc4c5a0604523b6a673fd3ab64ef1": {
     "views": [
      {
       "cell_index": 2
      }
     ]
    },
    "c1ecad8c88724eaf9c3b8f0e7b5d9fe6": {
     "views": [
      {
       "cell_index": 3
      }
     ]
    },
    "c2506b0f0c7b47b3b8d23a9641ee1415": {
     "views": [
      {
       "cell_index": 2
      }
     ]
    },
    "c3bcd45ebf544d5d93aadad3df2f7240": {
     "views": [
      {
       "cell_index": 2
      }
     ]
    },
    "c4340637c1e94ecba45f451bd322e1a4": {
     "views": [
      {
       "cell_index": 1
      }
     ]
    },
    "c45624a8db45430986328293eb734eed": {
     "views": [
      {
       "cell_index": 1
      }
     ]
    },
    "c49ad7add70244f89cdd96b979d13a63": {
     "views": [
      {
       "cell_index": 1
      }
     ]
    },
    "c50d4711c8ca432aa418ce5ada668647": {
     "views": [
      {
       "cell_index": 1
      }
     ]
    },
    "c549d1f44e314cf1920cfcebed58215d": {
     "views": [
      {
       "cell_index": 2
      }
     ]
    },
    "c5bf229141874fc49f078af02cdc013b": {
     "views": [
      {
       "cell_index": 3
      }
     ]
    },
    "c63e88c5f0e34272af3e83765fdb2a86": {
     "views": [
      {
       "cell_index": 2
      }
     ]
    },
    "c7345e45e36f4de5b1756d98ff9489f6": {
     "views": [
      {
       "cell_index": 2
      }
     ]
    },
    "c751da015c074368b342d483e48ead63": {
     "views": [
      {
       "cell_index": 2
      }
     ]
    },
    "c77d0a628e724eb3897206292e438fcd": {
     "views": [
      {
       "cell_index": 3
      }
     ]
    },
    "c781f2d7fa294f528c23d012424846b7": {
     "views": [
      {
       "cell_index": 3
      }
     ]
    },
    "c7d36bad0b4b42c29e319bd4b4d0980f": {
     "views": [
      {
       "cell_index": 3
      }
     ]
    },
    "c8c930587d3444f1a85e443fce01c681": {
     "views": [
      {
       "cell_index": 2
      }
     ]
    },
    "c90715d7d25b4c37bdc7fa34c4a165ef": {
     "views": [
      {
       "cell_index": 2
      }
     ]
    },
    "cac4c196501443fbb5523cf10e27263d": {
     "views": [
      {
       "cell_index": 1
      }
     ]
    },
    "cade1b02898a4ec69b47a9cd350a8d54": {
     "views": [
      {
       "cell_index": 2
      }
     ]
    },
    "cae3e2389b834a2db647d8e37b5c9d36": {
     "views": [
      {
       "cell_index": 3
      }
     ]
    },
    "cafa471be0404958af12aa4fe1e59eed": {
     "views": [
      {
       "cell_index": 2
      }
     ]
    },
    "cc43500e46984108becdb013a1c5f1a4": {
     "views": [
      {
       "cell_index": 2
      }
     ]
    },
    "cce72d79281b462e9de1be90f896e9b1": {
     "views": [
      {
       "cell_index": 2
      }
     ]
    },
    "cd081a24f2184d3784c33b6c97be5ad3": {
     "views": [
      {
       "cell_index": 3
      }
     ]
    },
    "cd1a182d1a97477292ba207d1a41a52c": {
     "views": [
      {
       "cell_index": 1
      }
     ]
    },
    "cd6509cd542d4e98844f7b5bd1483139": {
     "views": [
      {
       "cell_index": 2
      }
     ]
    },
    "cdb14debfc0146a79553771ac8f7090b": {
     "views": [
      {
       "cell_index": 1
      }
     ]
    },
    "cde0e4b63ed44bddb940e7efe44bb96e": {
     "views": [
      {
       "cell_index": 3
      }
     ]
    },
    "ce1f068cf39544969f702dc59efb029b": {
     "views": [
      {
       "cell_index": 3
      }
     ]
    },
    "cec223dd46e74f698e9f59a7f3bb29fc": {
     "views": [
      {
       "cell_index": 3
      }
     ]
    },
    "cf16c39260e94986b2d1583705c14b2f": {
     "views": [
      {
       "cell_index": 2
      }
     ]
    },
    "cf3c249035fc41c496776d010a60f70c": {
     "views": [
      {
       "cell_index": 3
      }
     ]
    },
    "cf9e7f274e7a4954bf0261dba318b7a0": {
     "views": [
      {
       "cell_index": 3
      }
     ]
    },
    "d244d4a37a914722be1a0361205d4258": {
     "views": [
      {
       "cell_index": 3
      }
     ]
    },
    "d257e7c58a1e477f8dad0da1cd6efc60": {
     "views": [
      {
       "cell_index": 2
      }
     ]
    },
    "d272c2aa3e9d4260b3208044d45b6557": {
     "views": [
      {
       "cell_index": 1
      }
     ]
    },
    "d3859810512d45ddabdb33b60e44bd6b": {
     "views": [
      {
       "cell_index": 2
      }
     ]
    },
    "d3f2f6b2fcbb47ae9de4414c1badfcb0": {
     "views": [
      {
       "cell_index": 3
      }
     ]
    },
    "d44e9063f776465e8033cce5daffe596": {
     "views": [
      {
       "cell_index": 3
      }
     ]
    },
    "d4710ce626284347b994aeff6cf84f55": {
     "views": [
      {
       "cell_index": 2
      }
     ]
    },
    "d4957c35087e46449c6345241f1658de": {
     "views": [
      {
       "cell_index": 1
      }
     ]
    },
    "d510c88a1f0244f3835c1eef80a512cd": {
     "views": [
      {
       "cell_index": 2
      }
     ]
    },
    "d57152683e5f432bae5547a962f96299": {
     "views": [
      {
       "cell_index": 3
      }
     ]
    },
    "d64b532a707744778ced2435d8faa896": {
     "views": [
      {
       "cell_index": 1
      }
     ]
    },
    "d69cf4900b5b41c381e1107a66d8d90c": {
     "views": [
      {
       "cell_index": 3
      }
     ]
    },
    "d6a04bd3a115499cbbaa97c72bf0965e": {
     "views": [
      {
       "cell_index": 2
      }
     ]
    },
    "d7a7b5d420584ab4afb27fc4f0e9cd14": {
     "views": [
      {
       "cell_index": 2
      }
     ]
    },
    "d7c51b50d4f34332b65423ef7a1391a6": {
     "views": [
      {
       "cell_index": 2
      }
     ]
    },
    "d88e348f97e34bc885a496fdfea7d9ee": {
     "views": [
      {
       "cell_index": 1
      }
     ]
    },
    "d905ade8ec7b457094403daa14958431": {
     "views": [
      {
       "cell_index": 2
      }
     ]
    },
    "d91d638204d24af7bba249d26b0f32c4": {
     "views": [
      {
       "cell_index": 2
      }
     ]
    },
    "d9b52137deed48a58d86fcca7b99d1b7": {
     "views": [
      {
       "cell_index": 3
      }
     ]
    },
    "da16fd4e8c664a1b8f226b479396d8cf": {
     "views": [
      {
       "cell_index": 1
      }
     ]
    },
    "db7c065b49534284a6d649c0e450c5e4": {
     "views": [
      {
       "cell_index": 3
      }
     ]
    },
    "dbf79e26a35c446580feb5c374346e64": {
     "views": [
      {
       "cell_index": 3
      }
     ]
    },
    "de12b4032b1c41e197115cde9c286d35": {
     "views": [
      {
       "cell_index": 2
      }
     ]
    },
    "de54bef5ef864d0787311c1ec1b2e52b": {
     "views": [
      {
       "cell_index": 3
      }
     ]
    },
    "e0958c41fbdf4415b708d741dda64628": {
     "views": [
      {
       "cell_index": 3
      }
     ]
    },
    "e095f92d3b914517af7bfa0abae9c60d": {
     "views": [
      {
       "cell_index": 2
      }
     ]
    },
    "e09adc26a940454e8937ce24a1740107": {
     "views": [
      {
       "cell_index": 3
      }
     ]
    },
    "e10c497c00c141118a80da49af9666d0": {
     "views": [
      {
       "cell_index": 3
      }
     ]
    },
    "e111e50aa7b44131b1c7a6d8b7f408e4": {
     "views": [
      {
       "cell_index": 3
      }
     ]
    },
    "e1c9c0cc556a4f23b8eacba5cc70218f": {
     "views": [
      {
       "cell_index": 3
      }
     ]
    },
    "e392a07c0f6b46e199da18b4a43ccb38": {
     "views": [
      {
       "cell_index": 3
      }
     ]
    },
    "e578bc64eb1442d6a9bdb12ecce08731": {
     "views": [
      {
       "cell_index": 2
      }
     ]
    },
    "e5bcb9e0b5ee4bb895a9ded462109c53": {
     "views": [
      {
       "cell_index": 2
      }
     ]
    },
    "e5e235a981214d278661b365cb30e12d": {
     "views": [
      {
       "cell_index": 2
      }
     ]
    },
    "e5ff4651827e4e36838ef62f9ae0f4dd": {
     "views": [
      {
       "cell_index": 2
      }
     ]
    },
    "e637bc2db991499b83f621b452892deb": {
     "views": [
      {
       "cell_index": 3
      }
     ]
    },
    "e63ca6d4a4db4f9ba694ec813c06ea39": {
     "views": [
      {
       "cell_index": 1
      }
     ]
    },
    "e6f09fc870d3411f9487a64c6c19bc20": {
     "views": [
      {
       "cell_index": 3
      }
     ]
    },
    "e787be87d23140f782195f6d62da1477": {
     "views": [
      {
       "cell_index": 2
      }
     ]
    },
    "e795010db1a84148b4125290040759b1": {
     "views": [
      {
       "cell_index": 3
      }
     ]
    },
    "e7cadf35229840cd8a4614af4255561d": {
     "views": [
      {
       "cell_index": 3
      }
     ]
    },
    "e843008ff3a84244bc9aebb3ba1c863d": {
     "views": [
      {
       "cell_index": 3
      }
     ]
    },
    "e8e4b2f7a8f945c08b2ce68376aa9694": {
     "views": [
      {
       "cell_index": 3
      }
     ]
    },
    "e93e1efa6c8a4c27828009555eb746fb": {
     "views": [
      {
       "cell_index": 3
      }
     ]
    },
    "e952c78a005a4520a4d856a997af9e1d": {
     "views": [
      {
       "cell_index": 3
      }
     ]
    },
    "e97223571a294b909e3a9b1c545cb685": {
     "views": [
      {
       "cell_index": 3
      }
     ]
    },
    "e979021afde94099b1de57c10f22384e": {
     "views": [
      {
       "cell_index": 3
      }
     ]
    },
    "e9c892732d3c4477b050443e562e901b": {
     "views": [
      {
       "cell_index": 3
      }
     ]
    },
    "eac11eb222034c7780896491d043f937": {
     "views": [
      {
       "cell_index": 2
      }
     ]
    },
    "eac980f483e04eea84924336bd7d2c7b": {
     "views": [
      {
       "cell_index": 3
      }
     ]
    },
    "eba10c4a3e9944318353808fd0dc2e01": {
     "views": [
      {
       "cell_index": 2
      }
     ]
    },
    "ebe5d1fbfa4942c7b9b2f6b52685c0b1": {
     "views": [
      {
       "cell_index": 3
      }
     ]
    },
    "ed6051211e1c4906b4e06ebce606e285": {
     "views": [
      {
       "cell_index": 1
      }
     ]
    },
    "ed7edc00922e444eaeca7695e2988e09": {
     "views": [
      {
       "cell_index": 3
      }
     ]
    },
    "ed8b784c99404938be47a6c15d39482e": {
     "views": [
      {
       "cell_index": 2
      }
     ]
    },
    "eda5b2ab1a5548d38e48fb35215c48e7": {
     "views": [
      {
       "cell_index": 2
      }
     ]
    },
    "edbb8d97d7f04a4abf5bbc48401f43f0": {
     "views": [
      {
       "cell_index": 3
      }
     ]
    },
    "ede62519e8724666b251e6dcc8c10207": {
     "views": [
      {
       "cell_index": 2
      }
     ]
    },
    "ee0862ecdf3e460f8a4fd6427496740f": {
     "views": [
      {
       "cell_index": 2
      }
     ]
    },
    "ee941b4d25684fd9a6fa7e2d6926892a": {
     "views": [
      {
       "cell_index": 1
      }
     ]
    },
    "f06abfb597a7442eb903f617fc388349": {
     "views": [
      {
       "cell_index": 3
      }
     ]
    },
    "f12723b33dd245ea9f9edffa11ec95e1": {
     "views": [
      {
       "cell_index": 3
      }
     ]
    },
    "f1d0ec0efe9545999c20edaa3d8ed35b": {
     "views": [
      {
       "cell_index": 3
      }
     ]
    },
    "f27c9d8b1a9c4d63b1c00602c2cf3278": {
     "views": [
      {
       "cell_index": 1
      }
     ]
    },
    "f361e3e1437440e2a5a17ba41413eb39": {
     "views": [
      {
       "cell_index": 2
      }
     ]
    },
    "f42ae0130d5341be8f7d24abefd9637b": {
     "views": [
      {
       "cell_index": 3
      }
     ]
    },
    "f46aebfa102442008cddc9f8ae69c4b9": {
     "views": [
      {
       "cell_index": 2
      }
     ]
    },
    "f471e781d02e4533bb81ea7a5c0adc0b": {
     "views": [
      {
       "cell_index": 3
      }
     ]
    },
    "f47ec4c6067340a187f6e05c3a2d1dd9": {
     "views": [
      {
       "cell_index": 1
      }
     ]
    },
    "f5402ebe9176419482942ebccecb44ce": {
     "views": [
      {
       "cell_index": 3
      }
     ]
    },
    "f58f6f3a14c84496897f10be8e7d6a55": {
     "views": [
      {
       "cell_index": 2
      }
     ]
    },
    "f67e7b3b12ed497db091fff36e5b988c": {
     "views": [
      {
       "cell_index": 3
      }
     ]
    },
    "f682c708c8ea4880bef98d03c7f42a5a": {
     "views": [
      {
       "cell_index": 3
      }
     ]
    },
    "f6ae3a9c49f844a5aa6955cf9491dd17": {
     "views": [
      {
       "cell_index": 2
      }
     ]
    },
    "f6e8cf82e9e8447185cf593a8f11640b": {
     "views": [
      {
       "cell_index": 3
      }
     ]
    },
    "f7bb16782cae4595b40edc4b05f5d9e8": {
     "views": [
      {
       "cell_index": 1
      }
     ]
    },
    "f82eeba05d6345ad8a5e28f17284f57d": {
     "views": [
      {
       "cell_index": 3
      }
     ]
    },
    "f8e984ed614f4aefad34a6de752ce8f5": {
     "views": [
      {
       "cell_index": 1
      }
     ]
    },
    "f92de0f5a66d4181aa6e2ee3bea15b9b": {
     "views": [
      {
       "cell_index": 2
      }
     ]
    },
    "f9409aec410c4f7d8ea3091c6d78d2b1": {
     "views": [
      {
       "cell_index": 2
      }
     ]
    },
    "f9576a547e2b4cba96e462c6bd8db110": {
     "views": [
      {
       "cell_index": 3
      }
     ]
    },
    "f9f3e7582a4a479089f38b2ad94a000a": {
     "views": [
      {
       "cell_index": 2
      }
     ]
    },
    "faa9af0b69e646cfb5b0d61258be82b3": {
     "views": [
      {
       "cell_index": 2
      }
     ]
    },
    "faed65fae6104303903ab6f0074330ee": {
     "views": [
      {
       "cell_index": 2
      }
     ]
    },
    "fb43e5f07bb04e9cb00c1835275cf7c5": {
     "views": [
      {
       "cell_index": 2
      }
     ]
    },
    "fbd1a92037254e96b0f9734625d1ee5d": {
     "views": [
      {
       "cell_index": 2
      }
     ]
    },
    "fcada69ebc664309a3f7c6f7a956f5dc": {
     "views": [
      {
       "cell_index": 1
      }
     ]
    },
    "fe4ceac834a64f94ad33c75fd1172407": {
     "views": [
      {
       "cell_index": 2
      }
     ]
    },
    "ff1d9bce0cf645bca66e39f97e269329": {
     "views": [
      {
       "cell_index": 3
      }
     ]
    }
   },
   "version": "1.2.0"
  }
 },
 "nbformat": 4,
 "nbformat_minor": 1
}

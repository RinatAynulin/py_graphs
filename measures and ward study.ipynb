{
 "cells": [
  {
   "cell_type": "code",
   "execution_count": 1,
   "metadata": {
    "collapsed": false
   },
   "outputs": [],
   "source": [
    "import operator\n",
    "import unittest\n",
    "\n",
    "from sklearn.cluster import AgglomerativeClustering\n",
    "from sklearn.metrics import adjusted_rand_score\n",
    "\n",
    "from graphs import datasets\n",
    "from measure.distance import Distance\n",
    "from measure.kernel import Kernel\n",
    "from measure.shortcuts import *\n",
    "\n",
    "from tqdm import tqdm_notebook\n",
    "import matplotlib.pyplot as plt\n",
    "%matplotlib inline\n",
    "\n",
    "from scipy.cluster.hierarchy import fcluster, ward\n",
    "from scipy.linalg import sqrtm\n",
    "from ward import Ward\n",
    "from scipy.cluster._hierarchy import nn_chain"
   ]
  },
  {
   "cell_type": "code",
   "execution_count": 2,
   "metadata": {
    "collapsed": true
   },
   "outputs": [],
   "source": [
    "d3_category20 = [\n",
    "    '#aec7e8',\n",
    "    '#1f77b4',\n",
    "    '#ffbb78',\n",
    "    '#ff7f0e',\n",
    "    '#98df8a',\n",
    "    '#2ca02c',\n",
    "    '#ff9896',\n",
    "    '#d62728',\n",
    "    '#c5b0d5',\n",
    "    '#9467bd',\n",
    "    '#c49c94',\n",
    "    '#8c564b',\n",
    "    '#7f7f7f'\n",
    "] "
   ]
  },
  {
   "cell_type": "code",
   "execution_count": 3,
   "metadata": {
    "collapsed": true
   },
   "outputs": [],
   "source": [
    "def linspace(start, end, count):\n",
    "    count -= 4\n",
    "    grid = list(np.linspace(start, end, count))\n",
    "    step = (end - start) / (count - 1)\n",
    "    grid.extend([0.1 * step, 0.5 * step, end - 0.1 * step, end - 0.5 * step])\n",
    "    return grid"
   ]
  },
  {
   "cell_type": "markdown",
   "metadata": {},
   "source": [
    "## kernel-based Ward (DIY version)"
   ]
  },
  {
   "cell_type": "code",
   "execution_count": 13,
   "metadata": {
    "collapsed": false,
    "scrolled": true
   },
   "outputs": [
    {
     "name": "stdout",
     "output_type": "stream",
     "text": [
      "\n",
      "DONE: pWalk H\tparam: 0.02 score: 0.6898595196737533\n",
      "\n",
      "\n"
     ]
    },
    {
     "name": "stderr",
     "output_type": "stream",
     "text": [
      "C:\\Users\\illusionww\\Documents\\GitHub\\py_graphs\\measure\\shortcuts.py:21: RuntimeWarning: divide by zero encountered in log\n",
      "  return np.log(H0)\n"
     ]
    },
    {
     "name": "stdout",
     "output_type": "stream",
     "text": [
      "Error in Walk H 0.0\t| 'NoneType' object has no attribute 'nodes'\n"
     ]
    },
    {
     "name": "stderr",
     "output_type": "stream",
     "text": [
      "C:\\Users\\illusionww\\Anaconda3\\lib\\site-packages\\numpy\\core\\_methods.py:59: RuntimeWarning: Mean of empty slice.\n",
      "  warnings.warn(\"Mean of empty slice.\", RuntimeWarning)\n",
      "C:\\Users\\illusionww\\Anaconda3\\lib\\site-packages\\numpy\\core\\_methods.py:70: RuntimeWarning: invalid value encountered in double_scalars\n",
      "  ret = ret.dtype.type(ret / rcount)\n",
      "C:\\Users\\illusionww\\Documents\\GitHub\\py_graphs\\measure\\shortcuts.py:21: RuntimeWarning: invalid value encountered in log\n",
      "  return np.log(H0)\n"
     ]
    },
    {
     "name": "stdout",
     "output_type": "stream",
     "text": [
      "Error in Walk H 0.02\t| 'NoneType' object has no attribute 'nodes'\n",
      "Error in Walk H 0.04\t| 'NoneType' object has no attribute 'nodes'\n",
      "Error in Walk H 1.0\t| 'NoneType' object has no attribute 'nodes'\n",
      "Error in Walk H 0.002\t| 'NoneType' object has no attribute 'nodes'\n",
      "Error in Walk H 0.01\t| 'NoneType' object has no attribute 'nodes'\n",
      "\n",
      "DONE: Walk H\tparam: 0.22 score: 0.7183469631697055\n",
      "\n",
      "\n"
     ]
    },
    {
     "name": "stderr",
     "output_type": "stream",
     "text": [
      "C:\\Users\\illusionww\\Documents\\GitHub\\py_graphs\\measure\\scale.py:35: RuntimeWarning: divide by zero encountered in double_scalars\n",
      "  return 0.5 * t / (1.0 - t)\n",
      "C:\\Users\\illusionww\\Documents\\GitHub\\py_graphs\\measure\\kernel.py:65: RuntimeWarning: invalid value encountered in multiply\n",
      "  return np.linalg.pinv(np.eye(size) + t * getL(A))\n"
     ]
    },
    {
     "name": "stdout",
     "output_type": "stream",
     "text": [
      "Error in For H 1.0\t| On entry to DLASCL parameter number 4 had an illegal value\n",
      "\n",
      "DONE: For H\tparam: 0.04 score: 0.6652034350034067\n",
      "\n",
      "\n",
      "Error in logFor H 0.0\t| 'NoneType' object has no attribute 'nodes'\n",
      "Error in logFor H 1.0\t| On entry to DLASCL parameter number 4 had an illegal value\n",
      "Error in logFor H 0.002\t| 'NoneType' object has no attribute 'nodes'\n",
      "\n",
      "DONE: logFor H\tparam: 0.86 score: 0.6898595196737533\n",
      "\n",
      "\n",
      "Error in Comm H 1.0\t| 'NoneType' object has no attribute 'shape'\n",
      "Error in Comm H 0.998\t| 'NoneType' object has no attribute 'shape'\n",
      "Error in Comm H 0.99\t| 'NoneType' object has no attribute 'shape'\n",
      "\n",
      "DONE: Comm H\tparam: 0.02 score: 0.6898595196737533\n",
      "\n",
      "\n",
      "Error in logComm H 0.0\t| 'NoneType' object has no attribute 'nodes'\n",
      "Error in logComm H 1.0\t| 'NoneType' object has no attribute 'log'\n",
      "Error in logComm H 0.998\t| 'NoneType' object has no attribute 'log'\n",
      "Error in logComm H 0.99\t| 'NoneType' object has no attribute 'log'\n",
      "\n",
      "DONE: logComm H\tparam: 0.22 score: 0.7183469631697055\n",
      "\n",
      "\n"
     ]
    },
    {
     "name": "stderr",
     "output_type": "stream",
     "text": [
      "C:\\Users\\illusionww\\Documents\\GitHub\\py_graphs\\measure\\kernel.py:108: RuntimeWarning: invalid value encountered in multiply\n",
      "  return expm(-t * getL(A))\n"
     ]
    },
    {
     "name": "stdout",
     "output_type": "stream",
     "text": [
      "Error in Heat H 1.0\t| cannot convert float NaN to integer\n",
      "\n",
      "DONE: Heat H\tparam: 0.96 score: 0.7084821777789366\n",
      "\n",
      "\n",
      "Error in logHeat H 0.0\t| 'NoneType' object has no attribute 'nodes'\n",
      "Error in logHeat H 1.0\t| cannot convert float NaN to integer\n",
      "\n",
      "DONE: logHeat H\tparam: 0.96 score: 0.7084821777789366\n",
      "\n",
      "\n",
      "\n",
      "DONE: SCT H\tparam: 0.44 score: 0.6898595196737533\n",
      "\n",
      "\n",
      "\n",
      "DONE: SCCT H\tparam: 0.02 score: 0.6934337633869492\n",
      "\n",
      "\n"
     ]
    },
    {
     "name": "stderr",
     "output_type": "stream",
     "text": [
      "C:\\Users\\illusionww\\Documents\\GitHub\\py_graphs\\measure\\scale.py:41: RuntimeWarning: divide by zero encountered in double_scalars\n",
      "  return (1.0 - beta) / beta\n",
      "C:\\Users\\illusionww\\Documents\\GitHub\\py_graphs\\measure\\distance.py:90: RuntimeWarning: invalid value encountered in multiply\n",
      "  W = Pref * np.exp(-beta * C)\n"
     ]
    },
    {
     "name": "stdout",
     "output_type": "stream",
     "text": [
      "Error in RSP K 0.0\t| On entry to DLASCL parameter number 4 had an illegal value\n"
     ]
    },
    {
     "name": "stderr",
     "output_type": "stream",
     "text": [
      "C:\\Users\\illusionww\\Documents\\GitHub\\py_graphs\\measure\\distance.py:92: RuntimeWarning: divide by zero encountered in true_divide\n",
      "  S = (Z.dot(C * W).dot(Z)) / Z\n",
      "C:\\Users\\illusionww\\Documents\\GitHub\\py_graphs\\measure\\distance.py:94: RuntimeWarning: invalid value encountered in add\n",
      "  Δ_RSP = 0.5 * (C_ + C_.transpose())\n"
     ]
    },
    {
     "name": "stdout",
     "output_type": "stream",
     "text": [
      "Error in RSP K 0.02\t| 'NoneType' object has no attribute 'nodes'\n",
      "Error in RSP K 0.04\t| 'NoneType' object has no attribute 'nodes'\n",
      "Error in RSP K 0.06\t| 'NoneType' object has no attribute 'nodes'\n",
      "Error in RSP K 0.08\t| 'NoneType' object has no attribute 'nodes'\n",
      "Error in RSP K 0.1\t| 'NoneType' object has no attribute 'nodes'\n",
      "Error in RSP K 0.12\t| 'NoneType' object has no attribute 'nodes'\n",
      "Error in RSP K 0.14\t| 'NoneType' object has no attribute 'nodes'\n",
      "Error in RSP K 0.16\t| 'NoneType' object has no attribute 'nodes'\n"
     ]
    },
    {
     "name": "stderr",
     "output_type": "stream",
     "text": [
      "C:\\Users\\illusionww\\Documents\\GitHub\\py_graphs\\measure\\distance.py:92: RuntimeWarning: invalid value encountered in true_divide\n",
      "  S = (Z.dot(C * W).dot(Z)) / Z\n"
     ]
    },
    {
     "name": "stdout",
     "output_type": "stream",
     "text": [
      "Error in RSP K 0.002\t| 'NoneType' object has no attribute 'nodes'\n",
      "Error in RSP K 0.01\t| 'NoneType' object has no attribute 'nodes'\n",
      "\n",
      "DONE: RSP K\tparam: 0.9400000000000001 score: 0.7268379212538431\n",
      "\n",
      "\n"
     ]
    },
    {
     "name": "stderr",
     "output_type": "stream",
     "text": [
      "C:\\Users\\illusionww\\Documents\\GitHub\\py_graphs\\measure\\distance.py:114: RuntimeWarning: invalid value encountered in multiply\n",
      "  W = Pref * np.exp(-beta * C)\n"
     ]
    },
    {
     "name": "stdout",
     "output_type": "stream",
     "text": [
      "Error in FE K 0.0\t| On entry to DLASCL parameter number 4 had an illegal value\n"
     ]
    },
    {
     "name": "stderr",
     "output_type": "stream",
     "text": [
      "C:\\Users\\illusionww\\Documents\\GitHub\\py_graphs\\measure\\distance.py:118: RuntimeWarning: divide by zero encountered in log\n",
      "  Φ = np.log(Zh) / -beta\n",
      "C:\\Users\\illusionww\\Documents\\GitHub\\py_graphs\\measure\\distance.py:118: RuntimeWarning: invalid value encountered in log\n",
      "  Φ = np.log(Zh) / -beta\n"
     ]
    },
    {
     "name": "stdout",
     "output_type": "stream",
     "text": [
      "Error in FE K 0.02\t| 'NoneType' object has no attribute 'nodes'\n",
      "Error in FE K 0.04\t| 'NoneType' object has no attribute 'nodes'\n",
      "Error in FE K 0.06\t| 'NoneType' object has no attribute 'nodes'\n",
      "Error in FE K 0.08\t| 'NoneType' object has no attribute 'nodes'\n",
      "Error in FE K 0.1\t| 'NoneType' object has no attribute 'nodes'\n",
      "Error in FE K 0.12\t| 'NoneType' object has no attribute 'nodes'\n",
      "Error in FE K 0.14\t| 'NoneType' object has no attribute 'nodes'\n",
      "Error in FE K 0.16\t| 'NoneType' object has no attribute 'nodes'\n",
      "Error in FE K 0.18\t| 'NoneType' object has no attribute 'nodes'\n",
      "Error in FE K 0.2\t| 'NoneType' object has no attribute 'nodes'\n"
     ]
    },
    {
     "name": "stderr",
     "output_type": "stream",
     "text": [
      "C:\\Users\\illusionww\\Documents\\GitHub\\py_graphs\\measure\\distance.py:118: RuntimeWarning: divide by zero encountered in true_divide\n",
      "  Φ = np.log(Zh) / -beta\n",
      "C:\\Users\\illusionww\\Documents\\GitHub\\py_graphs\\measure\\distance.py:118: RuntimeWarning: invalid value encountered in true_divide\n",
      "  Φ = np.log(Zh) / -beta\n",
      "C:\\Users\\illusionww\\Documents\\GitHub\\py_graphs\\measure\\distance.py:120: RuntimeWarning: invalid value encountered in subtract\n",
      "  return Δ_FE - np.diag(np.diag(Δ_FE))\n"
     ]
    },
    {
     "name": "stdout",
     "output_type": "stream",
     "text": [
      "Error in FE K 1.0\t| 'NoneType' object has no attribute 'nodes'\n",
      "Error in FE K 0.002\t| 'NoneType' object has no attribute 'nodes'\n",
      "Error in FE K 0.01\t| 'NoneType' object has no attribute 'nodes'\n",
      "\n",
      "DONE: FE K\tparam: 0.98 score: 0.6898595196737533\n",
      "\n",
      "\n",
      "\n",
      "DONE: SP-CT H\tparam: 0.02 score: 0.6888336748547904\n",
      "\n",
      "\n"
     ]
    },
    {
     "data": {
      "text/plain": [
       "(0.65, 0.73)"
      ]
     },
     "execution_count": 13,
     "metadata": {},
     "output_type": "execute_result"
    },
    {
     "data": {
      "image/png": "[encoded data removed]",
      "text/plain": [
       "<matplotlib.figure.Figure at 0x2a07abf3438>"
      ]
     },
     "metadata": {},
     "output_type": "display_data"
    }
   ],
   "source": [
    "fig, ax = plt.subplots(1, figsize=(5,3.5))\n",
    "\n",
    "graphs, info = datasets.polbooks\n",
    "for m_num, measure in enumerate(Kernel.get_all_H_plus_RSP_FE()):\n",
    "    measureparamdict = {}\n",
    "    for param in tqdm_notebook(linspace(0, 1, 55), desc=measure.name):\n",
    "        mean = []\n",
    "        for edges, nodes in graphs:\n",
    "            try:\n",
    "                D = measure.getK(edges, measure.scale().calc(edges, param))\n",
    "                n_clusters=len(list(set(nodes)))\n",
    "                y_pred = Ward().predict(D, n_clusters)\n",
    "                ari = adjusted_rand_score(nodes, y_pred)\n",
    "                mean.append(ari)\n",
    "            except KeyboardInterrupt:\n",
    "                raise KeyboardInterrupt()\n",
    "            except Exception as e:\n",
    "                print('Error in {} {}\\t| {}'.format(measure.name, param, e))\n",
    "        mean = [m for m in mean if m is not None and m == m]\n",
    "        score = np.array(mean).mean()\n",
    "        if score is not None and score == score:\n",
    "            measureparamdict[param] = score\n",
    "    maxparam = max(measureparamdict.items(), key=operator.itemgetter(1))[0]\n",
    "    print(\"DONE: {}\\tparam: {} score: {}\\n\\n\".format(measure.name, maxparam, measureparamdict[maxparam]))\n",
    "    measureparamdict = np.array(sorted(measureparamdict.items(), key=operator.itemgetter(1), reverse=True))\n",
    "    measureparamdict[:, 0]\n",
    "    plt.plot(range(measureparamdict.shape[0]), measureparamdict[:, 1], color=d3_category20[m_num], label=measure.name, linewidth=2)\n",
    "plt.xlim(0, 55)\n",
    "plt.ylim(0.65, .73)"
   ]
  },
  {
   "cell_type": "markdown",
   "metadata": {},
   "source": [
    "## distance-based Ward (scipy version)"
   ]
  },
  {
   "cell_type": "code",
   "execution_count": 8,
   "metadata": {
    "collapsed": true
   },
   "outputs": [],
   "source": [
    "def flat_triangle(D):\n",
    "    newD = []\n",
    "    for i in range(D.shape[0]):\n",
    "        for j in range(i + 1, D.shape[0]):\n",
    "            newD.append(D[i, j])\n",
    "    assert len(newD) == D.shape[0] * (D.shape[0] - 1) / 2\n",
    "    return np.array(newD)"
   ]
  },
  {
   "cell_type": "code",
   "execution_count": 14,
   "metadata": {
    "collapsed": false
   },
   "outputs": [
    {
     "name": "stdout",
     "output_type": "stream",
     "text": [
      "\n",
      "DONE: pWalk\tparam: 0.02 score: 0.6898595196737533\n",
      "\n",
      "\n"
     ]
    },
    {
     "name": "stderr",
     "output_type": "stream",
     "text": [
      "C:\\Users\\illusionww\\Documents\\GitHub\\py_graphs\\measure\\shortcuts.py:21: RuntimeWarning: divide by zero encountered in log\n",
      "  return np.log(H0)\n"
     ]
    },
    {
     "name": "stdout",
     "output_type": "stream",
     "text": [
      "Error in Walk 0.0\t| Linkage 'Z' contains negative counts.\n"
     ]
    },
    {
     "name": "stderr",
     "output_type": "stream",
     "text": [
      "C:\\Users\\illusionww\\Anaconda3\\lib\\site-packages\\numpy\\core\\_methods.py:59: RuntimeWarning: Mean of empty slice.\n",
      "  warnings.warn(\"Mean of empty slice.\", RuntimeWarning)\n",
      "C:\\Users\\illusionww\\Anaconda3\\lib\\site-packages\\numpy\\core\\_methods.py:70: RuntimeWarning: invalid value encountered in double_scalars\n",
      "  ret = ret.dtype.type(ret / rcount)\n",
      "C:\\Users\\illusionww\\Documents\\GitHub\\py_graphs\\measure\\shortcuts.py:21: RuntimeWarning: invalid value encountered in log\n",
      "  return np.log(H0)\n"
     ]
    },
    {
     "name": "stdout",
     "output_type": "stream",
     "text": [
      "Error in Walk 0.02\t| Linkage 'Z' uses the same cluster more than once.\n",
      "Error in Walk 0.04\t| Linkage 'Z' uses the same cluster more than once.\n",
      "Error in Walk 1.0\t| Linkage 'Z' contains negative counts.\n",
      "Error in Walk 0.002\t| Linkage 'Z' uses the same cluster more than once.\n",
      "Error in Walk 0.01\t| Linkage 'Z' uses the same cluster more than once.\n",
      "\n",
      "DONE: Walk\tparam: 0.22 score: 0.7183469631697055\n",
      "\n",
      "\n"
     ]
    },
    {
     "name": "stderr",
     "output_type": "stream",
     "text": [
      "C:\\Users\\illusionww\\Documents\\GitHub\\py_graphs\\measure\\scale.py:35: RuntimeWarning: divide by zero encountered in double_scalars\n",
      "  return 0.5 * t / (1.0 - t)\n",
      "C:\\Users\\illusionww\\Documents\\GitHub\\py_graphs\\measure\\kernel.py:65: RuntimeWarning: invalid value encountered in multiply\n",
      "  return np.linalg.pinv(np.eye(size) + t * getL(A))\n"
     ]
    },
    {
     "name": "stdout",
     "output_type": "stream",
     "text": [
      "Error in For 1.0\t| On entry to DLASCL parameter number 4 had an illegal value\n",
      "\n",
      "DONE: For\tparam: 0.04 score: 0.6652034350034067\n",
      "\n",
      "\n",
      "Error in logFor 0.0\t| Linkage 'Z' contains negative counts.\n",
      "Error in logFor 1.0\t| On entry to DLASCL parameter number 4 had an illegal value\n",
      "Error in logFor 0.002\t| Linkage 'Z' uses the same cluster more than once.\n",
      "\n",
      "DONE: logFor\tparam: 0.86 score: 0.6898595196737533\n",
      "\n",
      "\n",
      "Error in Comm 1.0\t| 'NoneType' object has no attribute 'shape'\n",
      "Error in Comm 0.998\t| 'NoneType' object has no attribute 'shape'\n",
      "Error in Comm 0.99\t| 'NoneType' object has no attribute 'shape'\n",
      "\n",
      "DONE: Comm\tparam: 0.02 score: 0.6898595196737533\n",
      "\n",
      "\n",
      "Error in logComm 0.0\t| Linkage 'Z' contains negative counts.\n"
     ]
    },
    {
     "name": "stderr",
     "output_type": "stream",
     "text": [
      "C:\\Users\\illusionww\\Documents\\GitHub\\py_graphs\\measure\\distance.py:16: RuntimeWarning: invalid value encountered in power\n",
      "  return np.power(D, self.power) if self.power != 1 else D\n"
     ]
    },
    {
     "name": "stdout",
     "output_type": "stream",
     "text": [
      "Error in logComm 0.98\t| Linkage 'Z' uses the same cluster more than once.\n",
      "Error in logComm 1.0\t| 'NoneType' object has no attribute 'log'\n",
      "Error in logComm 0.998\t| 'NoneType' object has no attribute 'log'\n",
      "Error in logComm 0.99\t| 'NoneType' object has no attribute 'log'\n",
      "\n",
      "DONE: logComm\tparam: 0.22 score: 0.7183469631697055\n",
      "\n",
      "\n"
     ]
    },
    {
     "name": "stderr",
     "output_type": "stream",
     "text": [
      "C:\\Users\\illusionww\\Documents\\GitHub\\py_graphs\\measure\\kernel.py:108: RuntimeWarning: invalid value encountered in multiply\n",
      "  return expm(-t * getL(A))\n"
     ]
    },
    {
     "name": "stdout",
     "output_type": "stream",
     "text": [
      "Error in Heat 1.0\t| cannot convert float NaN to integer\n",
      "Error in Heat 0.998\t| Linkage 'Z' contains negative counts.\n",
      "\n",
      "DONE: Heat\tparam: 0.96 score: 0.7084821777789366\n",
      "\n",
      "\n",
      "Error in logHeat 0.0\t| Linkage 'Z' contains negative counts.\n",
      "Error in logHeat 1.0\t| cannot convert float NaN to integer\n",
      "Error in logHeat 0.998\t| Linkage 'Z' uses the same cluster more than once.\n",
      "\n",
      "DONE: logHeat\tparam: 0.96 score: 0.7084821777789366\n",
      "\n",
      "\n",
      "\n",
      "DONE: SCT\tparam: 0.44 score: 0.6898595196737533\n",
      "\n",
      "\n",
      "Error in SCCT 0.52\t| Linkage 'Z' uses the same cluster more than once.\n",
      "Error in SCCT 0.54\t| Linkage 'Z' uses the same cluster more than once.\n",
      "Error in SCCT 0.56\t| Linkage 'Z' uses the same cluster more than once.\n",
      "Error in SCCT 0.58\t| Linkage 'Z' uses the same cluster more than once.\n",
      "Error in SCCT 0.6\t| Linkage 'Z' uses the same cluster more than once.\n",
      "Error in SCCT 0.62\t| Linkage 'Z' uses the same cluster more than once.\n",
      "Error in SCCT 0.64\t| Linkage 'Z' uses the same cluster more than once.\n",
      "Error in SCCT 0.66\t| Linkage 'Z' uses the same cluster more than once.\n",
      "Error in SCCT 0.68\t| Linkage 'Z' uses the same cluster more than once.\n",
      "Error in SCCT 0.7000000000000001\t| Linkage 'Z' uses the same cluster more than once.\n",
      "Error in SCCT 0.72\t| Linkage 'Z' uses the same cluster more than once.\n",
      "Error in SCCT 0.74\t| Linkage 'Z' uses the same cluster more than once.\n",
      "Error in SCCT 0.76\t| Linkage 'Z' uses the same cluster more than once.\n",
      "Error in SCCT 0.78\t| Linkage 'Z' uses the same cluster more than once.\n",
      "Error in SCCT 0.8\t| Linkage 'Z' uses the same cluster more than once.\n",
      "Error in SCCT 0.8200000000000001\t| Linkage 'Z' uses the same cluster more than once.\n",
      "Error in SCCT 0.84\t| Linkage 'Z' uses the same cluster more than once.\n",
      "Error in SCCT 0.86\t| Linkage 'Z' uses the same cluster more than once.\n",
      "Error in SCCT 0.88\t| Linkage 'Z' uses the same cluster more than once.\n",
      "Error in SCCT 0.9\t| Linkage 'Z' uses the same cluster more than once.\n",
      "Error in SCCT 0.92\t| Linkage 'Z' uses the same cluster more than once.\n",
      "Error in SCCT 0.9400000000000001\t| Linkage 'Z' uses the same cluster more than once.\n",
      "Error in SCCT 0.96\t| Linkage 'Z' uses the same cluster more than once.\n",
      "Error in SCCT 0.98\t| Linkage 'Z' uses the same cluster more than once.\n",
      "\n",
      "DONE: SCCT\tparam: 0.99 score: 0.7063152158756941\n",
      "\n",
      "\n"
     ]
    },
    {
     "name": "stderr",
     "output_type": "stream",
     "text": [
      "C:\\Users\\illusionww\\Documents\\GitHub\\py_graphs\\measure\\scale.py:41: RuntimeWarning: divide by zero encountered in double_scalars\n",
      "  return (1.0 - beta) / beta\n",
      "C:\\Users\\illusionww\\Documents\\GitHub\\py_graphs\\measure\\distance.py:90: RuntimeWarning: invalid value encountered in multiply\n",
      "  W = Pref * np.exp(-beta * C)\n"
     ]
    },
    {
     "name": "stdout",
     "output_type": "stream",
     "text": [
      "Error in RSP 0.0\t| On entry to DLASCL parameter number 4 had an illegal value\n"
     ]
    },
    {
     "name": "stderr",
     "output_type": "stream",
     "text": [
      "C:\\Users\\illusionww\\Documents\\GitHub\\py_graphs\\measure\\distance.py:92: RuntimeWarning: divide by zero encountered in true_divide\n",
      "  S = (Z.dot(C * W).dot(Z)) / Z\n",
      "C:\\Users\\illusionww\\Documents\\GitHub\\py_graphs\\measure\\distance.py:94: RuntimeWarning: invalid value encountered in add\n",
      "  Δ_RSP = 0.5 * (C_ + C_.transpose())\n"
     ]
    },
    {
     "name": "stdout",
     "output_type": "stream",
     "text": [
      "Error in RSP 0.02\t| Linkage 'Z' contains negative distances.\n",
      "Error in RSP 0.04\t| Linkage 'Z' contains negative distances.\n",
      "Error in RSP 0.06\t| Linkage 'Z' contains negative distances.\n",
      "Error in RSP 0.08\t| Linkage 'Z' contains negative distances.\n",
      "Error in RSP 0.1\t| Linkage 'Z' contains negative distances.\n",
      "Error in RSP 0.12\t| Linkage 'Z' contains negative distances.\n",
      "Error in RSP 0.14\t| Linkage 'Z' contains negative distances.\n",
      "Error in RSP 0.16\t| Linkage 'Z' contains negative distances.\n",
      "Error in RSP 0.18\t| Linkage 'Z' contains negative distances.\n",
      "Error in RSP 0.2\t| Linkage 'Z' contains negative distances.\n",
      "Error in RSP 1.0\t| Linkage 'Z' contains negative distances.\n"
     ]
    },
    {
     "name": "stderr",
     "output_type": "stream",
     "text": [
      "C:\\Users\\illusionww\\Documents\\GitHub\\py_graphs\\measure\\distance.py:92: RuntimeWarning: invalid value encountered in true_divide\n",
      "  S = (Z.dot(C * W).dot(Z)) / Z\n"
     ]
    },
    {
     "name": "stdout",
     "output_type": "stream",
     "text": [
      "Error in RSP 0.002\t| Linkage 'Z' contains negative distances.\n",
      "Error in RSP 0.01\t| Linkage 'Z' contains negative distances.\n",
      "\n",
      "DONE: RSP\tparam: 0.8200000000000001 score: 0.7171392377949803\n",
      "\n",
      "\n"
     ]
    },
    {
     "name": "stderr",
     "output_type": "stream",
     "text": [
      "C:\\Users\\illusionww\\Documents\\GitHub\\py_graphs\\measure\\distance.py:114: RuntimeWarning: invalid value encountered in multiply\n",
      "  W = Pref * np.exp(-beta * C)\n"
     ]
    },
    {
     "name": "stdout",
     "output_type": "stream",
     "text": [
      "Error in FE 0.0\t| On entry to DLASCL parameter number 4 had an illegal value\n"
     ]
    },
    {
     "name": "stderr",
     "output_type": "stream",
     "text": [
      "C:\\Users\\illusionww\\Documents\\GitHub\\py_graphs\\measure\\distance.py:118: RuntimeWarning: divide by zero encountered in log\n",
      "  Φ = np.log(Zh) / -beta\n",
      "C:\\Users\\illusionww\\Documents\\GitHub\\py_graphs\\measure\\distance.py:118: RuntimeWarning: invalid value encountered in log\n",
      "  Φ = np.log(Zh) / -beta\n"
     ]
    },
    {
     "name": "stdout",
     "output_type": "stream",
     "text": [
      "Error in FE 0.02\t| Linkage 'Z' contains negative counts.\n",
      "Error in FE 0.04\t| Linkage 'Z' contains negative counts.\n",
      "Error in FE 0.06\t| Linkage 'Z' contains negative counts.\n",
      "Error in FE 0.08\t| Linkage 'Z' contains negative counts.\n",
      "Error in FE 0.1\t| Linkage 'Z' uses the same cluster more than once.\n",
      "Error in FE 0.12\t| Linkage 'Z' uses the same cluster more than once.\n",
      "Error in FE 0.14\t| Linkage 'Z' uses the same cluster more than once.\n",
      "Error in FE 0.16\t| Linkage 'Z' uses the same cluster more than once.\n",
      "Error in FE 0.18\t| Linkage 'Z' uses the same cluster more than once.\n",
      "Error in FE 0.2\t| Linkage 'Z' uses the same cluster more than once.\n"
     ]
    },
    {
     "name": "stderr",
     "output_type": "stream",
     "text": [
      "C:\\Users\\illusionww\\Documents\\GitHub\\py_graphs\\measure\\distance.py:118: RuntimeWarning: divide by zero encountered in true_divide\n",
      "  Φ = np.log(Zh) / -beta\n",
      "C:\\Users\\illusionww\\Documents\\GitHub\\py_graphs\\measure\\distance.py:118: RuntimeWarning: invalid value encountered in true_divide\n",
      "  Φ = np.log(Zh) / -beta\n",
      "C:\\Users\\illusionww\\Documents\\GitHub\\py_graphs\\measure\\distance.py:120: RuntimeWarning: invalid value encountered in subtract\n",
      "  return Δ_FE - np.diag(np.diag(Δ_FE))\n"
     ]
    },
    {
     "name": "stdout",
     "output_type": "stream",
     "text": [
      "Error in FE 1.0\t| Linkage 'Z' uses non-singleton cluster before it is formed.\n",
      "Error in FE 0.002\t| Linkage 'Z' contains negative counts.\n",
      "Error in FE 0.01\t| Linkage 'Z' contains negative counts.\n",
      "\n",
      "DONE: FE\tparam: 0.78 score: 0.6888336748547904\n",
      "\n",
      "\n",
      "Error in SP-CT 0.0\t| Linkage 'Z' uses the same cluster more than once.\n",
      "\n",
      "DONE: SP-CT\tparam: 0.88 score: 0.6955858670354121\n",
      "\n",
      "\n"
     ]
    },
    {
     "data": {
      "text/plain": [
       "(0.65, 0.73)"
      ]
     },
     "execution_count": 14,
     "metadata": {},
     "output_type": "execute_result"
    },
    {
     "data": {
      "image/png": "[encoded data removed]",
      "text/plain": [
       "<matplotlib.figure.Figure at 0x2a07ad63208>"
      ]
     },
     "metadata": {},
     "output_type": "display_data"
    }
   ],
   "source": [
    "fig, ax = plt.subplots(1, figsize=(5,3.5))\n",
    "\n",
    "graphs, info = datasets.polbooks\n",
    "for m_num, measure in enumerate(Distance.get_all()):\n",
    "    measureparamdict = {}\n",
    "    for param in tqdm_notebook(linspace(0, 1, 55), desc=measure.name):\n",
    "        mean = []\n",
    "        for edges, nodes in graphs:\n",
    "            try:\n",
    "                D = measure.getD(edges, measure.scale().calc(edges, param))\n",
    "                n_clusters=len(list(set(nodes)))\n",
    "                \n",
    "                n = int(D.shape[0] * (D.shape[0] - 1) / 2)\n",
    "                D = flat_triangle(D)\n",
    "                \n",
    "                y_pred = fcluster(ward(D), n_clusters, criterion='maxclust')\n",
    "                ari = adjusted_rand_score(nodes, y_pred)\n",
    "                mean.append(ari)\n",
    "            except KeyboardInterrupt:\n",
    "                raise KeyboardInterrupt()\n",
    "            except Exception as e:\n",
    "                print('Error in {} {}\\t| {}'.format(measure.name, param, e))\n",
    "        mean = [m for m in mean if m is not None and m == m]\n",
    "        score = np.array(mean).mean()\n",
    "        if score is not None and score == score:\n",
    "            measureparamdict[param] = score\n",
    "    maxparam = max(measureparamdict.items(), key=operator.itemgetter(1))[0]\n",
    "    print(\"DONE: {}\\tparam: {} score: {}\\n\\n\".format(measure.name, maxparam, measureparamdict[maxparam]))\n",
    "    measureparamdict = np.array(sorted(measureparamdict.items(), key=operator.itemgetter(1), reverse=True))\n",
    "    measureparamdict[:, 0]\n",
    "    plt.plot(range(measureparamdict.shape[0]), measureparamdict[:, 1], color=d3_category20[m_num], label=measure.name, linewidth=2)\n",
    "plt.xlim(0, 55)\n",
    "plt.ylim(0.65, .73)"
   ]
  },
  {
   "cell_type": "markdown",
   "metadata": {
    "collapsed": true
   },
   "source": [
    "## object-feature based (sklearn version)"
   ]
  },
  {
   "cell_type": "code",
   "execution_count": 10,
   "metadata": {
    "collapsed": false,
    "scrolled": true
   },
   "outputs": [
    {
     "name": "stdout",
     "output_type": "stream",
     "text": [
      "Error in pWalk H 1.0\t| Not positive definite\n"
     ]
    },
    {
     "name": "stderr",
     "output_type": "stream",
     "text": [
      "C:\\Users\\illusionww\\Anaconda3\\lib\\site-packages\\numpy\\core\\_methods.py:59: RuntimeWarning: Mean of empty slice.\n",
      "  warnings.warn(\"Mean of empty slice.\", RuntimeWarning)\n",
      "C:\\Users\\illusionww\\Anaconda3\\lib\\site-packages\\numpy\\core\\_methods.py:70: RuntimeWarning: invalid value encountered in double_scalars\n",
      "  ret = ret.dtype.type(ret / rcount)\n"
     ]
    },
    {
     "name": "stdout",
     "output_type": "stream",
     "text": [
      "\n",
      "DONE: pWalk H\tparam: 0.02 score: 0.6898595196737533\n",
      "\n",
      "\n"
     ]
    },
    {
     "name": "stderr",
     "output_type": "stream",
     "text": [
      "C:\\Users\\illusionww\\Documents\\GitHub\\py_graphs\\measure\\shortcuts.py:21: RuntimeWarning: divide by zero encountered in log\n",
      "  return np.log(H0)\n"
     ]
    },
    {
     "name": "stdout",
     "output_type": "stream",
     "text": [
      "Error in Walk H 0.0\t| Array must not contain infs or NaNs\n"
     ]
    },
    {
     "name": "stderr",
     "output_type": "stream",
     "text": [
      "C:\\Users\\illusionww\\Documents\\GitHub\\py_graphs\\measure\\shortcuts.py:21: RuntimeWarning: invalid value encountered in log\n",
      "  return np.log(H0)\n"
     ]
    },
    {
     "name": "stdout",
     "output_type": "stream",
     "text": [
      "Error in Walk H 0.02\t| Array must not contain infs or NaNs\n",
      "Error in Walk H 0.04\t| Array must not contain infs or NaNs\n",
      "Error in Walk H 0.06\t| Not positive definite\n",
      "Error in Walk H 0.08\t| Not positive definite\n",
      "Error in Walk H 0.1\t| Not positive definite\n",
      "Error in Walk H 0.12\t| Not positive definite\n",
      "Error in Walk H 0.14\t| Not positive definite\n",
      "Error in Walk H 0.16\t| Not positive definite\n",
      "Error in Walk H 0.18\t| Not positive definite\n",
      "Error in Walk H 0.2\t| Not positive definite\n",
      "Error in Walk H 0.22\t| Not positive definite\n",
      "Error in Walk H 0.24\t| Not positive definite\n",
      "Error in Walk H 0.26\t| Not positive definite\n",
      "Error in Walk H 0.28\t| Not positive definite\n",
      "Error in Walk H 0.3\t| Not positive definite\n",
      "Error in Walk H 0.32\t| Not positive definite\n",
      "Error in Walk H 0.34\t| Not positive definite\n",
      "Error in Walk H 0.36\t| Not positive definite\n",
      "Error in Walk H 0.38\t| Not positive definite\n",
      "Error in Walk H 0.4\t| Not positive definite\n",
      "Error in Walk H 0.42\t| Not positive definite\n",
      "Error in Walk H 0.44\t| Not positive definite\n",
      "Error in Walk H 0.46\t| Not positive definite\n",
      "Error in Walk H 0.48\t| Not positive definite\n",
      "Error in Walk H 0.5\t| Not positive definite\n",
      "Error in Walk H 0.52\t| Not positive definite\n",
      "Error in Walk H 0.54\t| Not positive definite\n",
      "Error in Walk H 0.56\t| Not positive definite\n",
      "Error in Walk H 0.58\t| Not positive definite\n",
      "Error in Walk H 0.6\t| Not positive definite\n",
      "Error in Walk H 0.62\t| Not positive definite\n",
      "Error in Walk H 0.64\t| Not positive definite\n",
      "Error in Walk H 0.66\t| Not positive definite\n",
      "Error in Walk H 0.68\t| Not positive definite\n",
      "Error in Walk H 0.7000000000000001\t| Not positive definite\n",
      "Error in Walk H 0.72\t| Not positive definite\n",
      "Error in Walk H 0.74\t| Not positive definite\n",
      "Error in Walk H 0.76\t| Not positive definite\n",
      "Error in Walk H 0.78\t| Not positive definite\n",
      "Error in Walk H 0.8\t| Not positive definite\n",
      "Error in Walk H 0.8200000000000001\t| Not positive definite\n",
      "Error in Walk H 0.84\t| Not positive definite\n",
      "Error in Walk H 0.86\t| Not positive definite\n",
      "Error in Walk H 0.88\t| Not positive definite\n",
      "Error in Walk H 0.9\t| Not positive definite\n",
      "Error in Walk H 0.92\t| Not positive definite\n",
      "Error in Walk H 0.9400000000000001\t| Not positive definite\n",
      "Error in Walk H 0.96\t| Not positive definite\n",
      "Error in Walk H 0.98\t| Not positive definite\n",
      "Error in Walk H 1.0\t| Array must not contain infs or NaNs\n",
      "Error in Walk H 0.002\t| Array must not contain infs or NaNs\n",
      "Error in Walk H 0.01\t| Array must not contain infs or NaNs\n",
      "Error in Walk H 0.998\t| Not positive definite\n",
      "Error in Walk H 0.99\t| Not positive definite\n",
      "\n",
      "KEEEEEEEEEEEEEEEEEK Walk H\n"
     ]
    },
    {
     "name": "stderr",
     "output_type": "stream",
     "text": [
      "C:\\Users\\illusionww\\Documents\\GitHub\\py_graphs\\measure\\scale.py:35: RuntimeWarning: divide by zero encountered in double_scalars\n",
      "  return 0.5 * t / (1.0 - t)\n",
      "C:\\Users\\illusionww\\Documents\\GitHub\\py_graphs\\measure\\kernel.py:65: RuntimeWarning: invalid value encountered in multiply\n",
      "  return np.linalg.pinv(np.eye(size) + t * getL(A))\n"
     ]
    },
    {
     "name": "stdout",
     "output_type": "stream",
     "text": [
      "Error in For H 1.0\t| On entry to DLASCL parameter number 4 had an illegal value\n",
      "\n",
      "DONE: For H\tparam: 0.04 score: 0.6652034350034067\n",
      "\n",
      "\n",
      "Error in logFor H 0.0\t| Array must not contain infs or NaNs\n",
      "Error in logFor H 0.02\t| Not positive definite\n",
      "Error in logFor H 0.04\t| Not positive definite\n",
      "Error in logFor H 0.06\t| Not positive definite\n",
      "Error in logFor H 0.08\t| Not positive definite\n",
      "Error in logFor H 0.1\t| Not positive definite\n",
      "Error in logFor H 0.12\t| Not positive definite\n",
      "Error in logFor H 0.14\t| Not positive definite\n",
      "Error in logFor H 0.16\t| Not positive definite\n",
      "Error in logFor H 0.18\t| Not positive definite\n",
      "Error in logFor H 0.2\t| Not positive definite\n",
      "Error in logFor H 0.22\t| Not positive definite\n",
      "Error in logFor H 0.24\t| Not positive definite\n",
      "Error in logFor H 0.26\t| Not positive definite\n",
      "Error in logFor H 0.28\t| Not positive definite\n",
      "Error in logFor H 0.3\t| Not positive definite\n",
      "Error in logFor H 0.32\t| Not positive definite\n",
      "Error in logFor H 0.34\t| Not positive definite\n",
      "Error in logFor H 0.36\t| Not positive definite\n",
      "Error in logFor H 0.38\t| Not positive definite\n",
      "Error in logFor H 0.4\t| Not positive definite\n",
      "Error in logFor H 0.42\t| Not positive definite\n",
      "Error in logFor H 0.44\t| Not positive definite\n",
      "Error in logFor H 0.46\t| Not positive definite\n",
      "Error in logFor H 0.48\t| Not positive definite\n",
      "Error in logFor H 0.5\t| Not positive definite\n",
      "Error in logFor H 0.52\t| Not positive definite\n",
      "Error in logFor H 0.54\t| Not positive definite\n",
      "Error in logFor H 0.56\t| Not positive definite\n",
      "Error in logFor H 0.58\t| Not positive definite\n",
      "Error in logFor H 0.6\t| Not positive definite\n",
      "Error in logFor H 0.62\t| Not positive definite\n",
      "Error in logFor H 0.64\t| Not positive definite\n",
      "Error in logFor H 0.66\t| Not positive definite\n",
      "Error in logFor H 0.68\t| Not positive definite\n",
      "Error in logFor H 0.7000000000000001\t| Not positive definite\n",
      "Error in logFor H 0.72\t| Not positive definite\n",
      "Error in logFor H 0.74\t| Not positive definite\n",
      "Error in logFor H 0.76\t| Not positive definite\n",
      "Error in logFor H 0.78\t| Not positive definite\n",
      "Error in logFor H 0.8\t| Not positive definite\n",
      "Error in logFor H 0.8200000000000001\t| Not positive definite\n",
      "Error in logFor H 0.84\t| Not positive definite\n",
      "Error in logFor H 0.86\t| Not positive definite\n",
      "Error in logFor H 0.88\t| Not positive definite\n",
      "Error in logFor H 0.9\t| Not positive definite\n",
      "Error in logFor H 0.92\t| Not positive definite\n",
      "Error in logFor H 0.9400000000000001\t| Not positive definite\n",
      "Error in logFor H 0.96\t| Not positive definite\n",
      "Error in logFor H 0.98\t| Not positive definite\n",
      "Error in logFor H 1.0\t| On entry to DLASCL parameter number 4 had an illegal value\n",
      "Error in logFor H 0.002\t| Array must not contain infs or NaNs\n",
      "Error in logFor H 0.01\t| Not positive definite\n",
      "Error in logFor H 0.998\t| Not positive definite\n",
      "Error in logFor H 0.99\t| Not positive definite\n",
      "\n",
      "KEEEEEEEEEEEEEEEEEK logFor H\n",
      "Error in Comm H 0.8200000000000001\t| Not positive definite\n",
      "Error in Comm H 0.84\t| Not positive definite\n",
      "Error in Comm H 0.86\t| Not positive definite\n",
      "Error in Comm H 0.88\t| Not positive definite\n",
      "Error in Comm H 0.9\t| Not positive definite\n",
      "Error in Comm H 0.92\t| Not positive definite\n",
      "Error in Comm H 0.9400000000000001\t| Not positive definite\n",
      "Error in Comm H 0.96\t| Not positive definite\n",
      "Error in Comm H 0.98\t| Not positive definite\n",
      "Error in Comm H 1.0\t| 0-dimensional array given. Array must be at least two-dimensional\n",
      "Error in Comm H 0.998\t| 0-dimensional array given. Array must be at least two-dimensional\n",
      "Error in Comm H 0.99\t| 0-dimensional array given. Array must be at least two-dimensional\n",
      "\n",
      "DONE: Comm H\tparam: 0.02 score: 0.6898595196737533\n",
      "\n",
      "\n",
      "Error in logComm H 0.0\t| Array must not contain infs or NaNs\n",
      "Error in logComm H 0.02\t| Not positive definite\n",
      "Error in logComm H 0.04\t| Not positive definite\n",
      "Error in logComm H 0.06\t| Not positive definite\n",
      "Error in logComm H 0.08\t| Not positive definite\n",
      "Error in logComm H 0.1\t| Not positive definite\n",
      "Error in logComm H 0.12\t| Not positive definite\n",
      "Error in logComm H 0.14\t| Not positive definite\n",
      "Error in logComm H 0.16\t| Not positive definite\n",
      "Error in logComm H 0.18\t| Not positive definite\n",
      "Error in logComm H 0.2\t| Not positive definite\n",
      "Error in logComm H 0.22\t| Not positive definite\n",
      "Error in logComm H 0.24\t| Not positive definite\n",
      "Error in logComm H 0.26\t| Not positive definite\n",
      "Error in logComm H 0.28\t| Not positive definite\n",
      "Error in logComm H 0.3\t| Not positive definite\n",
      "Error in logComm H 0.32\t| Not positive definite\n",
      "Error in logComm H 0.34\t| Not positive definite\n",
      "Error in logComm H 0.36\t| Not positive definite\n",
      "Error in logComm H 0.38\t| Not positive definite\n",
      "Error in logComm H 0.4\t| Not positive definite\n",
      "Error in logComm H 0.42\t| Not positive definite\n",
      "Error in logComm H 0.44\t| Not positive definite\n",
      "Error in logComm H 0.46\t| Not positive definite\n",
      "Error in logComm H 0.48\t| Not positive definite\n",
      "Error in logComm H 0.5\t| Not positive definite\n",
      "Error in logComm H 0.52\t| Not positive definite\n",
      "Error in logComm H 0.54\t| Not positive definite\n",
      "Error in logComm H 0.56\t| Not positive definite\n",
      "Error in logComm H 0.58\t| Not positive definite\n",
      "Error in logComm H 0.6\t| Not positive definite\n",
      "Error in logComm H 0.62\t| Not positive definite\n",
      "Error in logComm H 0.64\t| Not positive definite\n",
      "Error in logComm H 0.66\t| Not positive definite\n",
      "Error in logComm H 0.68\t| Not positive definite\n",
      "Error in logComm H 0.7000000000000001\t| Not positive definite\n",
      "Error in logComm H 0.72\t| Not positive definite\n",
      "Error in logComm H 0.74\t| Not positive definite\n",
      "Error in logComm H 0.76\t| Not positive definite\n",
      "Error in logComm H 0.78\t| Not positive definite\n",
      "Error in logComm H 0.8\t| Not positive definite\n",
      "Error in logComm H 0.8200000000000001\t| Not positive definite\n",
      "Error in logComm H 0.84\t| Not positive definite\n",
      "Error in logComm H 0.86\t| Not positive definite\n",
      "Error in logComm H 0.88\t| Not positive definite\n",
      "Error in logComm H 0.9\t| Not positive definite\n",
      "Error in logComm H 0.92\t| Not positive definite\n",
      "Error in logComm H 0.9400000000000001\t| Not positive definite\n",
      "Error in logComm H 0.96\t| Not positive definite\n",
      "Error in logComm H 0.98\t| Not positive definite\n",
      "Error in logComm H 1.0\t| 'NoneType' object has no attribute 'log'\n",
      "Error in logComm H 0.002\t| Not positive definite\n",
      "Error in logComm H 0.01\t| Not positive definite\n",
      "Error in logComm H 0.998\t| 'NoneType' object has no attribute 'log'\n",
      "Error in logComm H 0.99\t| 'NoneType' object has no attribute 'log'\n",
      "\n",
      "KEEEEEEEEEEEEEEEEEK logComm H\n",
      "Error in Heat H 0.76\t| Not positive definite\n",
      "Error in Heat H 0.78\t| Not positive definite\n",
      "Error in Heat H 0.8\t| Not positive definite\n",
      "Error in Heat H 0.8200000000000001\t| Not positive definite\n",
      "Error in Heat H 0.84\t| Not positive definite\n",
      "Error in Heat H 0.86\t| Not positive definite\n",
      "Error in Heat H 0.88\t| Not positive definite\n",
      "Error in Heat H 0.9\t| Not positive definite\n",
      "Error in Heat H 0.92\t| Not positive definite\n",
      "Error in Heat H 0.9400000000000001\t| Not positive definite\n",
      "Error in Heat H 0.96\t| Not positive definite\n",
      "Error in Heat H 0.98\t| Not positive definite\n"
     ]
    },
    {
     "name": "stderr",
     "output_type": "stream",
     "text": [
      "C:\\Users\\illusionww\\Documents\\GitHub\\py_graphs\\measure\\kernel.py:108: RuntimeWarning: invalid value encountered in multiply\n",
      "  return expm(-t * getL(A))\n"
     ]
    },
    {
     "name": "stdout",
     "output_type": "stream",
     "text": [
      "Error in Heat H 1.0\t| cannot convert float NaN to integer\n",
      "Error in Heat H 0.998\t| Not positive definite\n",
      "Error in Heat H 0.99\t| Not positive definite\n",
      "\n",
      "DONE: Heat H\tparam: 0.62 score: 0.6955858670354121\n",
      "\n",
      "\n",
      "Error in logHeat H 0.0\t| Array must not contain infs or NaNs\n",
      "Error in logHeat H 0.02\t| Not positive definite\n",
      "Error in logHeat H 0.04\t| Not positive definite\n",
      "Error in logHeat H 0.06\t| Not positive definite\n",
      "Error in logHeat H 0.08\t| Not positive definite\n",
      "Error in logHeat H 0.1\t| Not positive definite\n",
      "Error in logHeat H 0.12\t| Not positive definite\n",
      "Error in logHeat H 0.14\t| Not positive definite\n",
      "Error in logHeat H 0.16\t| Not positive definite\n",
      "Error in logHeat H 0.18\t| Not positive definite\n",
      "Error in logHeat H 0.2\t| Not positive definite\n",
      "Error in logHeat H 0.22\t| Not positive definite\n",
      "Error in logHeat H 0.24\t| Not positive definite\n",
      "Error in logHeat H 0.26\t| Not positive definite\n",
      "Error in logHeat H 0.28\t| Not positive definite\n",
      "Error in logHeat H 0.3\t| Not positive definite\n",
      "Error in logHeat H 0.32\t| Not positive definite\n",
      "Error in logHeat H 0.34\t| Not positive definite\n",
      "Error in logHeat H 0.36\t| Not positive definite\n",
      "Error in logHeat H 0.38\t| Not positive definite\n",
      "Error in logHeat H 0.4\t| Not positive definite\n",
      "Error in logHeat H 0.42\t| Not positive definite\n",
      "Error in logHeat H 0.44\t| Not positive definite\n",
      "Error in logHeat H 0.46\t| Not positive definite\n",
      "Error in logHeat H 0.48\t| Not positive definite\n",
      "Error in logHeat H 0.5\t| Not positive definite\n",
      "Error in logHeat H 0.52\t| Not positive definite\n",
      "Error in logHeat H 0.54\t| Not positive definite\n",
      "Error in logHeat H 0.56\t| Not positive definite\n",
      "Error in logHeat H 0.58\t| Not positive definite\n",
      "Error in logHeat H 0.6\t| Not positive definite\n",
      "Error in logHeat H 0.62\t| Not positive definite\n",
      "Error in logHeat H 0.64\t| Not positive definite\n",
      "Error in logHeat H 0.66\t| Not positive definite\n",
      "Error in logHeat H 0.68\t| Not positive definite\n",
      "Error in logHeat H 0.7000000000000001\t| Not positive definite\n",
      "Error in logHeat H 0.72\t| Not positive definite\n",
      "Error in logHeat H 0.74\t| Not positive definite\n",
      "Error in logHeat H 0.76\t| Not positive definite\n",
      "Error in logHeat H 0.78\t| Not positive definite\n",
      "Error in logHeat H 0.8\t| Not positive definite\n",
      "Error in logHeat H 0.8200000000000001\t| Not positive definite\n",
      "Error in logHeat H 0.84\t| Not positive definite\n",
      "Error in logHeat H 0.86\t| Not positive definite\n",
      "Error in logHeat H 0.88\t| Not positive definite\n",
      "Error in logHeat H 0.9\t| Not positive definite\n",
      "Error in logHeat H 0.92\t| Not positive definite\n",
      "Error in logHeat H 0.9400000000000001\t| Not positive definite\n",
      "Error in logHeat H 0.96\t| Not positive definite\n",
      "Error in logHeat H 0.98\t| Not positive definite\n",
      "Error in logHeat H 1.0\t| cannot convert float NaN to integer\n",
      "Error in logHeat H 0.002\t| Not positive definite\n",
      "Error in logHeat H 0.01\t| Not positive definite\n",
      "Error in logHeat H 0.998\t| Not positive definite\n",
      "Error in logHeat H 0.99\t| Not positive definite\n",
      "\n",
      "KEEEEEEEEEEEEEEEEEK logHeat H\n",
      "Error in SCT H 0.0\t| Not positive definite\n",
      "Error in SCT H 0.48\t| Not positive definite\n",
      "Error in SCT H 0.5\t| Not positive definite\n",
      "Error in SCT H 0.52\t| Not positive definite\n",
      "Error in SCT H 0.54\t| Not positive definite\n",
      "Error in SCT H 0.56\t| Not positive definite\n",
      "Error in SCT H 0.58\t| Not positive definite\n",
      "Error in SCT H 0.6\t| Not positive definite\n",
      "Error in SCT H 0.62\t| Not positive definite\n",
      "Error in SCT H 0.64\t| Not positive definite\n",
      "Error in SCT H 0.66\t| Not positive definite\n",
      "Error in SCT H 0.68\t| Not positive definite\n",
      "Error in SCT H 0.7000000000000001\t| Not positive definite\n",
      "Error in SCT H 0.72\t| Not positive definite\n",
      "Error in SCT H 0.74\t| Not positive definite\n",
      "Error in SCT H 0.76\t| Not positive definite\n",
      "Error in SCT H 0.78\t| Not positive definite\n",
      "Error in SCT H 0.8\t| Not positive definite\n",
      "Error in SCT H 0.8200000000000001\t| Not positive definite\n",
      "Error in SCT H 0.84\t| Not positive definite\n",
      "Error in SCT H 0.86\t| Not positive definite\n",
      "Error in SCT H 0.88\t| Not positive definite\n",
      "Error in SCT H 0.9\t| Not positive definite\n",
      "Error in SCT H 0.92\t| Not positive definite\n",
      "Error in SCT H 0.9400000000000001\t| Not positive definite\n",
      "Error in SCT H 0.96\t| Not positive definite\n",
      "Error in SCT H 0.98\t| Not positive definite\n",
      "Error in SCT H 1.0\t| Not positive definite\n",
      "Error in SCT H 0.998\t| Not positive definite\n",
      "Error in SCT H 0.99\t| Not positive definite\n",
      "\n",
      "DONE: SCT H\tparam: 0.44 score: 0.6898595196737533\n",
      "\n",
      "\n",
      "Error in SCCT H 0.0\t| Not positive definite\n",
      "Error in SCCT H 0.04\t| Not positive definite\n",
      "Error in SCCT H 0.06\t| Not positive definite\n",
      "Error in SCCT H 0.08\t| Not positive definite\n",
      "Error in SCCT H 0.1\t| Not positive definite\n",
      "Error in SCCT H 0.12\t| Not positive definite\n",
      "Error in SCCT H 0.14\t| Not positive definite\n",
      "Error in SCCT H 0.16\t| Not positive definite\n",
      "Error in SCCT H 0.18\t| Not positive definite\n",
      "Error in SCCT H 0.2\t| Not positive definite\n",
      "Error in SCCT H 0.22\t| Not positive definite\n",
      "Error in SCCT H 0.24\t| Not positive definite\n",
      "Error in SCCT H 0.26\t| Not positive definite\n",
      "Error in SCCT H 0.28\t| Not positive definite\n",
      "Error in SCCT H 0.3\t| Not positive definite\n",
      "Error in SCCT H 0.32\t| Not positive definite\n",
      "Error in SCCT H 0.34\t| Not positive definite\n",
      "Error in SCCT H 0.36\t| Not positive definite\n",
      "Error in SCCT H 0.38\t| Not positive definite\n",
      "Error in SCCT H 0.4\t| Not positive definite\n",
      "Error in SCCT H 0.42\t| Not positive definite\n",
      "Error in SCCT H 0.44\t| Not positive definite\n",
      "Error in SCCT H 0.46\t| Not positive definite\n",
      "Error in SCCT H 0.48\t| Not positive definite\n",
      "Error in SCCT H 0.5\t| Not positive definite\n",
      "Error in SCCT H 0.52\t| Not positive definite\n",
      "Error in SCCT H 0.54\t| Not positive definite\n",
      "Error in SCCT H 0.56\t| Not positive definite\n",
      "Error in SCCT H 0.58\t| Not positive definite\n",
      "Error in SCCT H 0.6\t| Not positive definite\n",
      "Error in SCCT H 0.62\t| Not positive definite\n",
      "Error in SCCT H 0.64\t| Not positive definite\n",
      "Error in SCCT H 0.66\t| Not positive definite\n",
      "Error in SCCT H 0.68\t| Not positive definite\n",
      "Error in SCCT H 0.7000000000000001\t| Not positive definite\n",
      "Error in SCCT H 0.72\t| Not positive definite\n",
      "Error in SCCT H 0.74\t| Not positive definite\n",
      "Error in SCCT H 0.76\t| Not positive definite\n",
      "Error in SCCT H 0.78\t| Not positive definite\n",
      "Error in SCCT H 0.8\t| Not positive definite\n",
      "Error in SCCT H 0.8200000000000001\t| Not positive definite\n",
      "Error in SCCT H 0.84\t| Not positive definite\n",
      "Error in SCCT H 0.86\t| Not positive definite\n",
      "Error in SCCT H 0.88\t| Not positive definite\n",
      "Error in SCCT H 0.9\t| Not positive definite\n",
      "Error in SCCT H 0.92\t| Not positive definite\n",
      "Error in SCCT H 0.9400000000000001\t| Not positive definite\n",
      "Error in SCCT H 0.96\t| Not positive definite\n",
      "Error in SCCT H 0.98\t| Not positive definite\n",
      "Error in SCCT H 1.0\t| Not positive definite\n",
      "Error in SCCT H 0.998\t| Not positive definite\n",
      "Error in SCCT H 0.99\t| Not positive definite\n",
      "\n",
      "DONE: SCCT H\tparam: 0.02 score: 0.6934337633869492\n",
      "\n",
      "\n"
     ]
    },
    {
     "name": "stderr",
     "output_type": "stream",
     "text": [
      "C:\\Users\\illusionww\\Documents\\GitHub\\py_graphs\\measure\\scale.py:41: RuntimeWarning: divide by zero encountered in double_scalars\n",
      "  return (1.0 - beta) / beta\n",
      "C:\\Users\\illusionww\\Documents\\GitHub\\py_graphs\\measure\\distance.py:90: RuntimeWarning: invalid value encountered in multiply\n",
      "  W = Pref * np.exp(-beta * C)\n"
     ]
    },
    {
     "name": "stdout",
     "output_type": "stream",
     "text": [
      "Error in RSP K 0.0\t| On entry to DLASCL parameter number 4 had an illegal value\n"
     ]
    },
    {
     "name": "stderr",
     "output_type": "stream",
     "text": [
      "C:\\Users\\illusionww\\Documents\\GitHub\\py_graphs\\measure\\distance.py:92: RuntimeWarning: divide by zero encountered in true_divide\n",
      "  S = (Z.dot(C * W).dot(Z)) / Z\n",
      "C:\\Users\\illusionww\\Documents\\GitHub\\py_graphs\\measure\\distance.py:94: RuntimeWarning: invalid value encountered in add\n",
      "  Δ_RSP = 0.5 * (C_ + C_.transpose())\n"
     ]
    },
    {
     "name": "stdout",
     "output_type": "stream",
     "text": [
      "Error in RSP K 0.02\t| Array must not contain infs or NaNs\n",
      "Error in RSP K 0.04\t| Array must not contain infs or NaNs\n",
      "Error in RSP K 0.06\t| Array must not contain infs or NaNs\n",
      "Error in RSP K 0.08\t| Array must not contain infs or NaNs\n",
      "Error in RSP K 0.1\t| Array must not contain infs or NaNs\n",
      "Error in RSP K 0.12\t| Array must not contain infs or NaNs\n",
      "Error in RSP K 0.14\t| Array must not contain infs or NaNs\n",
      "Error in RSP K 0.16\t| Array must not contain infs or NaNs\n",
      "Error in RSP K 0.18\t| Not positive definite\n",
      "Error in RSP K 0.2\t| Not positive definite\n",
      "Error in RSP K 0.22\t| Not positive definite\n",
      "Error in RSP K 0.24\t| Not positive definite\n",
      "Error in RSP K 0.26\t| Not positive definite\n",
      "Error in RSP K 0.28\t| Not positive definite\n",
      "Error in RSP K 0.3\t| Not positive definite\n",
      "Error in RSP K 0.32\t| Not positive definite\n",
      "Error in RSP K 0.34\t| Not positive definite\n",
      "Error in RSP K 0.36\t| Not positive definite\n",
      "Error in RSP K 0.38\t| Not positive definite\n",
      "Error in RSP K 0.4\t| Not positive definite\n",
      "Error in RSP K 0.42\t| Not positive definite\n",
      "Error in RSP K 0.44\t| Not positive definite\n",
      "Error in RSP K 0.46\t| Not positive definite\n",
      "Error in RSP K 0.48\t| Not positive definite\n",
      "Error in RSP K 0.5\t| Not positive definite\n",
      "Error in RSP K 0.52\t| Not positive definite\n",
      "Error in RSP K 0.54\t| Not positive definite\n",
      "Error in RSP K 0.56\t| Not positive definite\n",
      "Error in RSP K 0.58\t| Not positive definite\n",
      "Error in RSP K 0.6\t| Not positive definite\n",
      "Error in RSP K 0.62\t| Not positive definite\n",
      "Error in RSP K 0.64\t| Not positive definite\n",
      "Error in RSP K 0.66\t| Not positive definite\n",
      "Error in RSP K 0.68\t| Not positive definite\n",
      "Error in RSP K 0.7000000000000001\t| Not positive definite\n",
      "Error in RSP K 0.72\t| Not positive definite\n",
      "Error in RSP K 0.74\t| Not positive definite\n",
      "Error in RSP K 0.76\t| Not positive definite\n",
      "Error in RSP K 0.78\t| Not positive definite\n",
      "Error in RSP K 0.8\t| Not positive definite\n",
      "Error in RSP K 0.8200000000000001\t| Not positive definite\n",
      "Error in RSP K 0.84\t| Not positive definite\n",
      "Error in RSP K 0.86\t| Not positive definite\n",
      "Error in RSP K 0.88\t| Not positive definite\n",
      "Error in RSP K 0.9\t| Not positive definite\n",
      "Error in RSP K 0.92\t| Not positive definite\n",
      "Error in RSP K 0.9400000000000001\t| Not positive definite\n",
      "Error in RSP K 0.96\t| Not positive definite\n",
      "Error in RSP K 1.0\t| Not positive definite\n"
     ]
    },
    {
     "name": "stderr",
     "output_type": "stream",
     "text": [
      "C:\\Users\\illusionww\\Documents\\GitHub\\py_graphs\\measure\\distance.py:92: RuntimeWarning: invalid value encountered in true_divide\n",
      "  S = (Z.dot(C * W).dot(Z)) / Z\n"
     ]
    },
    {
     "name": "stdout",
     "output_type": "stream",
     "text": [
      "Error in RSP K 0.002\t| Array must not contain infs or NaNs\n",
      "Error in RSP K 0.01\t| Array must not contain infs or NaNs\n",
      "\n",
      "DONE: RSP K\tparam: 0.98 score: 0.6875568571981947\n",
      "\n",
      "\n"
     ]
    },
    {
     "name": "stderr",
     "output_type": "stream",
     "text": [
      "C:\\Users\\illusionww\\Documents\\GitHub\\py_graphs\\measure\\distance.py:114: RuntimeWarning: invalid value encountered in multiply\n",
      "  W = Pref * np.exp(-beta * C)\n"
     ]
    },
    {
     "name": "stdout",
     "output_type": "stream",
     "text": [
      "Error in FE K 0.0\t| On entry to DLASCL parameter number 4 had an illegal value\n"
     ]
    },
    {
     "name": "stderr",
     "output_type": "stream",
     "text": [
      "C:\\Users\\illusionww\\Documents\\GitHub\\py_graphs\\measure\\distance.py:118: RuntimeWarning: divide by zero encountered in log\n",
      "  Φ = np.log(Zh) / -beta\n",
      "C:\\Users\\illusionww\\Documents\\GitHub\\py_graphs\\measure\\distance.py:118: RuntimeWarning: invalid value encountered in log\n",
      "  Φ = np.log(Zh) / -beta\n"
     ]
    },
    {
     "name": "stdout",
     "output_type": "stream",
     "text": [
      "Error in FE K 0.02\t| Array must not contain infs or NaNs\n",
      "Error in FE K 0.04\t| Array must not contain infs or NaNs\n",
      "Error in FE K 0.06\t| Array must not contain infs or NaNs\n",
      "Error in FE K 0.08\t| Array must not contain infs or NaNs\n",
      "Error in FE K 0.1\t| Array must not contain infs or NaNs\n",
      "Error in FE K 0.12\t| Array must not contain infs or NaNs\n",
      "Error in FE K 0.14\t| Array must not contain infs or NaNs\n",
      "Error in FE K 0.16\t| Array must not contain infs or NaNs\n",
      "Error in FE K 0.18\t| Array must not contain infs or NaNs\n",
      "Error in FE K 0.2\t| Array must not contain infs or NaNs\n",
      "Error in FE K 0.22\t| Not positive definite\n",
      "Error in FE K 0.24\t| Not positive definite\n",
      "Error in FE K 0.26\t| Not positive definite\n",
      "Error in FE K 0.28\t| Not positive definite\n",
      "Error in FE K 0.3\t| Not positive definite\n",
      "Error in FE K 0.32\t| Not positive definite\n",
      "Error in FE K 0.34\t| Not positive definite\n",
      "Error in FE K 0.36\t| Not positive definite\n",
      "Error in FE K 0.38\t| Not positive definite\n",
      "Error in FE K 0.4\t| Not positive definite\n",
      "Error in FE K 0.42\t| Not positive definite\n",
      "Error in FE K 0.44\t| Not positive definite\n",
      "Error in FE K 0.46\t| Not positive definite\n",
      "Error in FE K 0.48\t| Not positive definite\n",
      "Error in FE K 0.5\t| Not positive definite\n",
      "Error in FE K 0.52\t| Not positive definite\n",
      "Error in FE K 0.54\t| Not positive definite\n",
      "Error in FE K 0.56\t| Not positive definite\n",
      "Error in FE K 0.58\t| Not positive definite\n",
      "Error in FE K 0.6\t| Not positive definite\n",
      "Error in FE K 0.62\t| Not positive definite\n",
      "Error in FE K 0.64\t| Not positive definite\n",
      "Error in FE K 0.66\t| Not positive definite\n",
      "Error in FE K 0.68\t| Not positive definite\n",
      "Error in FE K 0.7000000000000001\t| Not positive definite\n",
      "Error in FE K 0.72\t| Not positive definite\n",
      "Error in FE K 0.74\t| Not positive definite\n",
      "Error in FE K 0.76\t| Not positive definite\n",
      "Error in FE K 0.78\t| Not positive definite\n",
      "Error in FE K 0.8\t| Not positive definite\n",
      "Error in FE K 0.8200000000000001\t| Not positive definite\n",
      "Error in FE K 0.84\t| Not positive definite\n",
      "Error in FE K 0.86\t| Not positive definite\n",
      "Error in FE K 0.88\t| Not positive definite\n",
      "Error in FE K 0.9\t| Not positive definite\n"
     ]
    },
    {
     "name": "stderr",
     "output_type": "stream",
     "text": [
      "C:\\Users\\illusionww\\Anaconda3\\lib\\site-packages\\scipy\\cluster\\hierarchy.py:1055: ComplexWarning: Casting complex values to real discards the imaginary part\n",
      "  X = X.astype(np.double)\n"
     ]
    },
    {
     "name": "stdout",
     "output_type": "stream",
     "text": [
      "Error in FE K 0.98\t| Not positive definite\n"
     ]
    },
    {
     "name": "stderr",
     "output_type": "stream",
     "text": [
      "C:\\Users\\illusionww\\Documents\\GitHub\\py_graphs\\measure\\distance.py:118: RuntimeWarning: divide by zero encountered in true_divide\n",
      "  Φ = np.log(Zh) / -beta\n",
      "C:\\Users\\illusionww\\Documents\\GitHub\\py_graphs\\measure\\distance.py:118: RuntimeWarning: invalid value encountered in true_divide\n",
      "  Φ = np.log(Zh) / -beta\n",
      "C:\\Users\\illusionww\\Documents\\GitHub\\py_graphs\\measure\\distance.py:120: RuntimeWarning: invalid value encountered in subtract\n",
      "  return Δ_FE - np.diag(np.diag(Δ_FE))\n"
     ]
    },
    {
     "name": "stdout",
     "output_type": "stream",
     "text": [
      "Error in FE K 1.0\t| Array must not contain infs or NaNs\n",
      "Error in FE K 0.002\t| Array must not contain infs or NaNs\n",
      "Error in FE K 0.01\t| Array must not contain infs or NaNs\n",
      "\n",
      "DONE: FE K\tparam: 0.92 score: 0.6875568571981947\n",
      "\n",
      "\n",
      "Error in SP-CT H 0.0\t| Not positive definite\n",
      "Error in SP-CT H 0.02\t| Not positive definite\n",
      "Error in SP-CT H 0.04\t| Not positive definite\n",
      "Error in SP-CT H 0.06\t| Not positive definite\n",
      "Error in SP-CT H 0.08\t| Not positive definite\n",
      "Error in SP-CT H 0.1\t| Not positive definite\n",
      "Error in SP-CT H 0.12\t| Not positive definite\n",
      "Error in SP-CT H 0.14\t| Not positive definite\n",
      "Error in SP-CT H 0.16\t| Not positive definite\n",
      "Error in SP-CT H 0.18\t| Not positive definite\n",
      "Error in SP-CT H 0.2\t| Not positive definite\n",
      "Error in SP-CT H 0.22\t| Not positive definite\n",
      "Error in SP-CT H 0.24\t| Not positive definite\n",
      "Error in SP-CT H 0.26\t| Not positive definite\n",
      "Error in SP-CT H 0.28\t| Not positive definite\n",
      "Error in SP-CT H 0.3\t| Not positive definite\n",
      "Error in SP-CT H 0.32\t| Not positive definite\n",
      "Error in SP-CT H 0.34\t| Not positive definite\n",
      "Error in SP-CT H 0.36\t| Not positive definite\n",
      "Error in SP-CT H 0.38\t| Not positive definite\n",
      "Error in SP-CT H 0.4\t| Not positive definite\n",
      "Error in SP-CT H 0.42\t| Not positive definite\n",
      "Error in SP-CT H 0.44\t| Not positive definite\n",
      "Error in SP-CT H 0.46\t| Not positive definite\n",
      "Error in SP-CT H 0.48\t| Not positive definite\n",
      "Error in SP-CT H 0.5\t| Not positive definite\n",
      "Error in SP-CT H 0.52\t| Not positive definite\n",
      "Error in SP-CT H 0.54\t| Not positive definite\n",
      "Error in SP-CT H 0.56\t| Not positive definite\n",
      "Error in SP-CT H 0.58\t| Not positive definite\n",
      "Error in SP-CT H 0.6\t| Not positive definite\n",
      "Error in SP-CT H 0.62\t| Not positive definite\n",
      "Error in SP-CT H 0.64\t| Not positive definite\n",
      "Error in SP-CT H 0.002\t| Not positive definite\n",
      "Error in SP-CT H 0.01\t| Not positive definite\n",
      "\n",
      "DONE: SP-CT H\tparam: 0.68 score: 0.6875568571981947\n",
      "\n",
      "\n"
     ]
    },
    {
     "data": {
      "text/plain": [
       "(0.64, 0.73)"
      ]
     },
     "execution_count": 10,
     "metadata": {},
     "output_type": "execute_result"
    },
    {
     "data": {
      "image/png": "[encoded data removed]",
      "text/plain": [
       "<matplotlib.figure.Figure at 0x2a0764598d0>"
      ]
     },
     "metadata": {},
     "output_type": "display_data"
    }
   ],
   "source": [
    "fig, ax = plt.subplots(1, figsize=(5,3.5))\n",
    "\n",
    "graphs, info = datasets.polbooks\n",
    "for m_num, measure in enumerate(Kernel.get_all_H_plus_RSP_FE()):\n",
    "    measureparamdict = {}\n",
    "    for param in tqdm_notebook(linspace(0, 1, 55), desc=measure.name):\n",
    "        mean = []\n",
    "        for edges, nodes in graphs:\n",
    "            try:\n",
    "                D = measure.getK(edges, measure.scale().calc(edges, param))\n",
    "                if not is_semipos_def(D):\n",
    "                    raise Exception('Not positive definite')\n",
    "                D = sqrtm(D).T\n",
    "                n_clusters=len(list(set(nodes)))\n",
    "                y_pred = AgglomerativeClustering(n_clusters=n_clusters).fit_predict(D)\n",
    "                ari = adjusted_rand_score(nodes, y_pred)\n",
    "                mean.append(ari)\n",
    "            except KeyboardInterrupt:\n",
    "                raise KeyboardInterrupt()\n",
    "            except Exception as e:\n",
    "                print('Error in {} {}\\t| {}'.format(measure.name, param, e))\n",
    "        mean = [m for m in mean if m is not None and m == m]\n",
    "        score = np.array(mean).mean()\n",
    "        if score is not None and score == score:\n",
    "            measureparamdict[param] = score\n",
    "    if len(measureparamdict) == 0:\n",
    "        print('Not positive devinite ' + measure.name)\n",
    "        continue\n",
    "    maxparam = max(measureparamdict.items(), key=operator.itemgetter(1))[0]\n",
    "    print(\"DONE: {}\\tparam: {} score: {}\\n\\n\".format(measure.name, maxparam, measureparamdict[maxparam]))\n",
    "    measureparamdict = np.array(sorted(measureparamdict.items(), key=operator.itemgetter(1), reverse=True))\n",
    "    measureparamdict[:, 0]\n",
    "    plt.plot(range(measureparamdict.shape[0]), measureparamdict[:, 1], color=d3_category20[m_num], label=measure.name, linewidth=2)\n",
    "plt.xlim(0, 55)\n",
    "plt.ylim(0.64, .73)"
   ]
  },
  {
   "cell_type": "code",
   "execution_count": null,
   "metadata": {
    "collapsed": true
   },
   "outputs": [],
   "source": []
  }
 ],
 "metadata": {
  "anaconda-cloud": {},
  "kernelspec": {
   "display_name": "Python 3",
   "language": "python",
   "name": "python3"
  },
  "language_info": {
   "codemirror_mode": {
    "name": "ipython",
    "version": 3
   },
   "file_extension": ".py",
   "mimetype": "text/x-python",
   "name": "python",
   "nbconvert_exporter": "python",
   "pygments_lexer": "ipython3",
   "version": "3.6.0"
  },
  "widgets": {
   "state": {
    "01d6082fd193404d87202afe3311ddcb": {
     "views": [
      {
       "cell_index": 14
      }
     ]
    },
    "076f30f724dc4442a7a358685ddaf091": {
     "views": [
      {
       "cell_index": 12
      }
     ]
    },
    "0f73be2b02dd4aafbc3e2b69bb684382": {
     "views": [
      {
       "cell_index": 14
      }
     ]
    },
    "1777157b855b421faef9fb9d9e4af973": {
     "views": [
      {
       "cell_index": 9
      }
     ]
    },
    "1836fd28c8c84841a57e97f11e38e3df": {
     "views": [
      {
       "cell_index": 12
      }
     ]
    },
    "1846526c4398413dbfff41dd9520f1cc": {
     "views": [
      {
       "cell_index": 12
      }
     ]
    },
    "1901757a002b459c90910e39a96af6ab": {
     "views": [
      {
       "cell_index": 14
      }
     ]
    },
    "1bfd06e25bb34441a45203e4943b64a5": {
     "views": [
      {
       "cell_index": 14
      }
     ]
    },
    "204c229d8cfa4c829adf70aaaa396d4b": {
     "views": [
      {
       "cell_index": 6
      }
     ]
    },
    "22cad71b413e4f6db6d02e0d5291429e": {
     "views": [
      {
       "cell_index": 9
      }
     ]
    },
    "264e5b91fa9e43289a52bba2265ff02a": {
     "views": [
      {
       "cell_index": 9
      }
     ]
    },
    "29db869858b3402caf579d1252d6c5b9": {
     "views": [
      {
       "cell_index": 12
      }
     ]
    },
    "2d21171c6c0446548d21575f0d3a714b": {
     "views": [
      {
       "cell_index": 14
      }
     ]
    },
    "2dc39b5c664041189cd8a8400e5f2ec9": {
     "views": [
      {
       "cell_index": 6
      }
     ]
    },
    "30fc796bdd2d4681872b46096df863ef": {
     "views": [
      {
       "cell_index": 6
      }
     ]
    },
    "31d6eb7e04e14f36bc42b53e313328eb": {
     "views": [
      {
       "cell_index": 6
      }
     ]
    },
    "40249633977045988a036add916d0467": {
     "views": [
      {
       "cell_index": 12
      }
     ]
    },
    "47acc4f5285a49fa9abadc3a3288dca3": {
     "views": [
      {
       "cell_index": 6
      }
     ]
    },
    "4a5a18a019544e419d41319b6bc48fee": {
     "views": [
      {
       "cell_index": 6
      }
     ]
    },
    "4b69c2a4af8b44a4a1ddf8fe5c33c3d0": {
     "views": [
      {
       "cell_index": 6
      }
     ]
    },
    "4bb0011afcd6471694ed6fe3466eaf47": {
     "views": [
      {
       "cell_index": 6
      }
     ]
    },
    "4c00384887524a7ea7c118bb76d7e833": {
     "views": [
      {
       "cell_index": 12
      }
     ]
    },
    "4d6f3775beec41789479867aac84f562": {
     "views": [
      {
       "cell_index": 6
      }
     ]
    },
    "4d93ec6917cb4709ae41db085510e944": {
     "views": [
      {
       "cell_index": 12
      }
     ]
    },
    "4ecb4585c04c4256bf16e6db6a83dea4": {
     "views": [
      {
       "cell_index": 6
      }
     ]
    },
    "5012885c63c542cabc3e5eebb41d5617": {
     "views": [
      {
       "cell_index": 9
      }
     ]
    },
    "571eca2980514e17b8e28f2ee9b72524": {
     "views": [
      {
       "cell_index": 14
      }
     ]
    },
    "5957a8401a6240338b4bc37c3f7ff310": {
     "views": [
      {
       "cell_index": 9
      }
     ]
    },
    "5b92f3f023c74101a1aa60fd87eb41ff": {
     "views": [
      {
       "cell_index": 6
      }
     ]
    },
    "5bac3dd6fba54a90b76ee4196f89035e": {
     "views": [
      {
       "cell_index": 9
      }
     ]
    },
    "65c1b8f39c67480aab188d4ff4e7ccb9": {
     "views": [
      {
       "cell_index": 9
      }
     ]
    },
    "665bc2bcf81b4e9486dc9f18f750d169": {
     "views": [
      {
       "cell_index": 12
      }
     ]
    },
    "67fa1263ffbf4a2086fa25ad13ed4ab4": {
     "views": [
      {
       "cell_index": 6
      }
     ]
    },
    "6f65182469ad4de1ae46c99a2540bf4e": {
     "views": [
      {
       "cell_index": 14
      }
     ]
    },
    "72b050c5d6b542168ba8d81fedf2494f": {
     "views": [
      {
       "cell_index": 9
      }
     ]
    },
    "77a995d698e441ffb1d6d5418c246229": {
     "views": [
      {
       "cell_index": 12
      }
     ]
    },
    "7804295a010e48db87ccb414a1c5f94a": {
     "views": [
      {
       "cell_index": 9
      }
     ]
    },
    "7aa02fe47aec436e9a0eba2812b8f4c6": {
     "views": [
      {
       "cell_index": 14
      }
     ]
    },
    "7c52c53dae114789b6980d3c39558031": {
     "views": [
      {
       "cell_index": 6
      }
     ]
    },
    "7f28ae3ca49a45268bc96edcfe8c2667": {
     "views": [
      {
       "cell_index": 6
      }
     ]
    },
    "838476ccdef946e183538b435f61a8dd": {
     "views": [
      {
       "cell_index": 6
      }
     ]
    },
    "844eefe52b764ec3a96eaa0572c089dc": {
     "views": [
      {
       "cell_index": 14
      }
     ]
    },
    "869c5e5c95794f36aaec580c75fc496d": {
     "views": [
      {
       "cell_index": 12
      }
     ]
    },
    "885c459f7de346b48d71f1ab9899f868": {
     "views": [
      {
       "cell_index": 12
      }
     ]
    },
    "88e01166a08a42c594ecd2f8c3bfca01": {
     "views": [
      {
       "cell_index": 6
      }
     ]
    },
    "8c24d4adbc514cc687363cba27a429c1": {
     "views": [
      {
       "cell_index": 6
      }
     ]
    },
    "8f454e05a6c74f3aa1115a36b030dbfe": {
     "views": [
      {
       "cell_index": 12
      }
     ]
    },
    "96b3478ea6e5461e91a9a3a171214013": {
     "views": [
      {
       "cell_index": 6
      }
     ]
    },
    "9d927d97f1f54dc8a1b6ffaec7878ad2": {
     "views": [
      {
       "cell_index": 6
      }
     ]
    },
    "a0303d67a6b44a09b1bd9fe51afe19d9": {
     "views": [
      {
       "cell_index": 12
      }
     ]
    },
    "a06175a1d6964969a49d8192e1101623": {
     "views": [
      {
       "cell_index": 9
      }
     ]
    },
    "a21290e411224d62ae89277383375086": {
     "views": [
      {
       "cell_index": 6
      }
     ]
    },
    "a6e9cbb05c3e4de6a2b84dffa0332640": {
     "views": [
      {
       "cell_index": 6
      }
     ]
    },
    "aa0eff2bc16a4d4c85551f38d59f8558": {
     "views": [
      {
       "cell_index": 12
      }
     ]
    },
    "ab47ee488ffc4cacbf251bb587470e79": {
     "views": [
      {
       "cell_index": 6
      }
     ]
    },
    "ab7315579e8041e8896aa73f9e3af3ce": {
     "views": [
      {
       "cell_index": 6
      }
     ]
    },
    "b135ab2817154386a1a803907f7c7dba": {
     "views": [
      {
       "cell_index": 6
      }
     ]
    },
    "b3b4e61dec8c4a17bdb7b1fdfbcb2633": {
     "views": [
      {
       "cell_index": 12
      }
     ]
    },
    "b6b11ee34dd548bc80f544a21e16ec36": {
     "views": [
      {
       "cell_index": 9
      }
     ]
    },
    "b7021537f85049bfa8a945e64c4205d5": {
     "views": [
      {
       "cell_index": 12
      }
     ]
    },
    "c4df431a5c794c84bfb639d542cc5c02": {
     "views": [
      {
       "cell_index": 12
      }
     ]
    },
    "c55133dca23c434f81bdb556ff96a7bb": {
     "views": [
      {
       "cell_index": 14
      }
     ]
    },
    "c84bfb0375a74b85bbfc544adb1fa540": {
     "views": [
      {
       "cell_index": 14
      }
     ]
    },
    "cb529b3cfd35447ca9b35a76a048a43e": {
     "views": [
      {
       "cell_index": 6
      }
     ]
    },
    "ce4db2ef997444819c84c4d431a2ec1e": {
     "views": [
      {
       "cell_index": 6
      }
     ]
    },
    "cf13704a65874ae1a743a3ef0e7ff615": {
     "views": [
      {
       "cell_index": 6
      }
     ]
    },
    "cf77f57fca3e458eb04d5ea0e59b610c": {
     "views": [
      {
       "cell_index": 14
      }
     ]
    },
    "de376314525348a29fc436b553441b68": {
     "views": [
      {
       "cell_index": 6
      }
     ]
    },
    "e23717037d4e49ab9ffd5b65e41325f5": {
     "views": [
      {
       "cell_index": 12
      }
     ]
    },
    "e25aa154e91f4d6dbda897167c7cbc50": {
     "views": [
      {
       "cell_index": 12
      }
     ]
    },
    "e47209b55bd7460f98e868e3639850f5": {
     "views": [
      {
       "cell_index": 6
      }
     ]
    },
    "e48b722a8fc948c3b1727c6e19753484": {
     "views": [
      {
       "cell_index": 6
      }
     ]
    },
    "e54844de2edf496faaad62545ac8e1d6": {
     "views": [
      {
       "cell_index": 6
      }
     ]
    },
    "fc5a35421a6c466ea5c5d510153fea12": {
     "views": [
      {
       "cell_index": 14
      }
     ]
    },
    "fec478f018ce440b93563e20c4406780": {
     "views": [
      {
       "cell_index": 9
      }
     ]
    }
   },
   "version": "1.2.0"
  }
 },
 "nbformat": 4,
 "nbformat_minor": 1
}
